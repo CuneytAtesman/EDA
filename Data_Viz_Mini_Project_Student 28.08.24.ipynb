{
 "cells": [
  {
   "cell_type": "markdown",
   "id": "33f88234",
   "metadata": {},
   "source": [
    "# Proje Adı: Film İncelemesi\n",
    "\n",
    "## Projenin amacı:\n",
    "\n",
    "Bu proje ile mini bir EDA (Exploratory Data Analysis) ve farklı veri görselleştirme kütüphanaleri kullanarak film verilerini incelemek ve farklı filmler arasındaki ilişkileri keşfet amaçlanmıştır.\n",
    "\n",
    "## Veri Seti:\n",
    "\n",
    "Araştırmada 2006-2016 yılları arasındaki yapılmış filmlerin yer aldığı \"IMDB-Movie-Data\"  veri seti kullanılacaktır. Veri seti kısaca yıllara göre IMDB'de en yüksek puan alan filmleri içermektedir. Data setinde her film için aşağıdaki değişkenler yer almaktadır:\n",
    "\n",
    "    Rank\n",
    "    Title\n",
    "    Genre\n",
    "    Description\n",
    "    Director\n",
    "    Actors\n",
    "    Year\n",
    "    Runtime (Minutes)\n",
    "    Rating\n",
    "    Votes\n",
    "    Revenue (Millions)\n",
    "    Metascore\n",
    "    \n",
    "Bu kapsamda aşağıdaki görevleri yapmanız gerekmektedir.\n",
    "    \n",
    "## Görevler :\n",
    "\n",
    "### 1. Veri setini pandas kütüphanesi kullanarak yükleyin ve index sütununu filmin başlığı yapın.\n",
    "\n",
    "### 2. Veri setini tanıyın.\n",
    "\n",
    "### 3. Veri setindeki sütun isimlerini kullanışlı hale getirin (Örn: Kısaltıp küçük harf yapmak gibi)\n",
    "\n",
    "### 4. Missing Value tespit edilsin ve bu kapsamda aşağıdaki şekilde mücadele edilsin.\n",
    "    a.Missing value kontrolü hem pandas hemde missingno kütüphanelerini kullanarak yapın  \n",
    "    b.Yüksek missing value olan değişken içindeki veriler o değişkenin ortalama skoru ile\n",
    "    doldurulsun.\n",
    "    c. Düşük missing value olan değişkendeki gözlemler kaldırılsın.\n",
    "    d. Missing value kontrolü tekrar hem pandas hemde missingno kütüphanelerini kullanarak kontrol edin ve bu data setini yeni bir değişkene atayın.\n",
    "\n",
    "### 5. Temizlenmiş veri seti içinden en yüksek rating e sahip 250 filmi seçerek \"top250\" isminde bir data seti oluşturun ve bunu lokalinize bu isimle kaydedin. Bu yeni data setini tekrar pandas kütüphanesini kullanarak okuyun.\n",
    "\n",
    "### 6. Veri setinin boyutunu ve özelliklerini inceleyin.\n",
    "    a. Veri setinin boyutunu inceleme\n",
    "    b. Veri setinin ilk 5 gözlemine göz atma\n",
    "    c. Random olarak 10 gözleme bakma\n",
    "    d. Veri setinin sütunlarına göz atma\n",
    "    e. Veri setinin özet istatistiklerini görüntüleme\n",
    "\n",
    "### 7. Verilerin doğruluğunun ve eksik değerlerinin olup olmadığını kontrol edin.\n",
    "    a. 4.madde ile benzer şelkilde eksik değerlerinin olup olmadığını kontrol\n",
    "\n",
    "### 8. Verileri görselleştirme:\n",
    "\n",
    "    a. Matplotlib kütüphanesi kullanarak, yıllara göre filmlerin sayısını gösteren bir çizgi grafik çizin.\n",
    "    b. Seaborn kütüphanesi kullanarak, en çok film yapılan 10 türü bar grafiğiyle gösterin.\n",
    "    c. Matplotlib ve Plotly kütüphanesi kullanarak, film türlerine göre filmlerin sayısını gösteren iki ayrı pasta grafik çizin.\n",
    "    \n",
    "\n",
    "### 9. İlişkileri görselleştirme:\n",
    "\n",
    "    a. Seaborn kütüphanesi kullanarak, veri setindeki nümerik değişkenlerin korelasyonunu \n",
    "    gösteren bir heatmap çizin.\n",
    "    b. Seaborn ile oyunculardan birden fazla filmde rol alan oyuncuların rol aldıkları film \n",
    "    sayılarına göre ilk 20 oyucuyu görselleştir. Not: Bu soru için kullanılacak data setimiz 936 \n",
    "    satırlık data seti olacak.\n",
    "    c. Plotly kütüphanesi kullanarak, Popüler 250 Filmin rating puanlarına göre hasılatını buble chart ile gösterin .\n",
    "    \n",
    "    \n",
    "\n",
    "### 10. Sonuçları sunma:\n",
    "\n",
    "    Çizilen tüm görsellerle ilgili elde ettiğiniz bulguları buraya yazınız. \n"
   ]
  },
  {
   "cell_type": "markdown",
   "id": "cc4a7cb6",
   "metadata": {},
   "source": [
    "Veri seti, 1000 adet film hakkında bilgi içermektedir. Veri setinde toplamda 12 adet sütun bulunmaktadır. \n",
    "\n",
    "1. **Rank**: Film sıralaması.\n",
    "2. **Title**: Film başlığı.\n",
    "3. **Genre**: Film türü.\n",
    "4. **Description**: Film açıklaması.\n",
    "5. **Director**: Yönetmen ismi.\n",
    "6. **Actors**: Oyuncuların isimleri.\n",
    "7. **Year**: Yayın yılı.\n",
    "8. **Runtime (Minutes)**: Film süresi (dakika cinsinden).\n",
    "9. **Rating**: IMDb puanı.\n",
    "10. **Votes**: Oy sayısı.\n",
    "11. **Revenue (Millions)**: Hasılat (milyon dolar cinsinden).\n",
    "12. **Metascore**: Metascore puanı."
   ]
  },
  {
   "cell_type": "markdown",
   "id": "ac4e6773",
   "metadata": {},
   "source": [
    "## 1. Veri setini pandas kütüphanesi kullanarak yükleyin ve index sütununu filmin başlığı yapın."
   ]
  },
  {
   "cell_type": "code",
   "execution_count": 1,
   "id": "47081975",
   "metadata": {},
   "outputs": [
    {
     "name": "stdout",
     "output_type": "stream",
     "text": [
      "Requirement already satisfied: plotly in c:\\users\\theat\\.conda\\envs\\notebook-6.5.7\\lib\\site-packages (5.23.0)\n",
      "Requirement already satisfied: tenacity>=6.2.0 in c:\\users\\theat\\.conda\\envs\\notebook-6.5.7\\lib\\site-packages (from plotly) (9.0.0)\n",
      "Requirement already satisfied: packaging in c:\\users\\theat\\.conda\\envs\\notebook-6.5.7\\lib\\site-packages (from plotly) (24.1)\n",
      "Note: you may need to restart the kernel to use updated packages.\n"
     ]
    }
   ],
   "source": [
    "\n",
    "pip install plotly"
   ]
  },
  {
   "cell_type": "code",
   "execution_count": 11,
   "id": "d6c9b8ba",
   "metadata": {
    "ExecuteTime": {
     "end_time": "2023-09-24T15:08:58.278817Z",
     "start_time": "2023-09-24T15:08:53.272431Z"
    }
   },
   "outputs": [],
   "source": [
    "import numpy as np\n",
    "import pandas as pd\n",
    "import matplotlib.pyplot as plt\n",
    "import seaborn as sns\n",
    "import plotly.express as px\n",
    "\n",
    "# Veri setini yükle\n",
    "df = pd.read_csv(\"IMDB-Movie-Data.csv\", index_col=\"Title\")"
   ]
  },
  {
   "cell_type": "markdown",
   "id": "b98832d1",
   "metadata": {},
   "source": [
    "## 2. Veri setinin ilk birkaç satırını görüntüleyin."
   ]
  },
  {
   "cell_type": "code",
   "execution_count": 12,
   "id": "08fce3a3",
   "metadata": {},
   "outputs": [
    {
     "data": {
      "text/html": [
       "<div>\n",
       "<style scoped>\n",
       "    .dataframe tbody tr th:only-of-type {\n",
       "        vertical-align: middle;\n",
       "    }\n",
       "\n",
       "    .dataframe tbody tr th {\n",
       "        vertical-align: top;\n",
       "    }\n",
       "\n",
       "    .dataframe thead th {\n",
       "        text-align: right;\n",
       "    }\n",
       "</style>\n",
       "<table border=\"1\" class=\"dataframe\">\n",
       "  <thead>\n",
       "    <tr style=\"text-align: right;\">\n",
       "      <th></th>\n",
       "      <th>Rank</th>\n",
       "      <th>Genre</th>\n",
       "      <th>Description</th>\n",
       "      <th>Director</th>\n",
       "      <th>Actors</th>\n",
       "      <th>Year</th>\n",
       "      <th>Runtime (Minutes)</th>\n",
       "      <th>Rating</th>\n",
       "      <th>Votes</th>\n",
       "      <th>Revenue (Millions)</th>\n",
       "      <th>Metascore</th>\n",
       "    </tr>\n",
       "    <tr>\n",
       "      <th>Title</th>\n",
       "      <th></th>\n",
       "      <th></th>\n",
       "      <th></th>\n",
       "      <th></th>\n",
       "      <th></th>\n",
       "      <th></th>\n",
       "      <th></th>\n",
       "      <th></th>\n",
       "      <th></th>\n",
       "      <th></th>\n",
       "      <th></th>\n",
       "    </tr>\n",
       "  </thead>\n",
       "  <tbody>\n",
       "    <tr>\n",
       "      <th>Guardians of the Galaxy</th>\n",
       "      <td>1</td>\n",
       "      <td>Action,Adventure,Sci-Fi</td>\n",
       "      <td>A group of intergalactic criminals are forced ...</td>\n",
       "      <td>James Gunn</td>\n",
       "      <td>Chris Pratt, Vin Diesel, Bradley Cooper, Zoe S...</td>\n",
       "      <td>2014</td>\n",
       "      <td>121</td>\n",
       "      <td>8.1</td>\n",
       "      <td>757074</td>\n",
       "      <td>333.13</td>\n",
       "      <td>76.0</td>\n",
       "    </tr>\n",
       "    <tr>\n",
       "      <th>Prometheus</th>\n",
       "      <td>2</td>\n",
       "      <td>Adventure,Mystery,Sci-Fi</td>\n",
       "      <td>Following clues to the origin of mankind, a te...</td>\n",
       "      <td>Ridley Scott</td>\n",
       "      <td>Noomi Rapace, Logan Marshall-Green, Michael Fa...</td>\n",
       "      <td>2012</td>\n",
       "      <td>124</td>\n",
       "      <td>7.0</td>\n",
       "      <td>485820</td>\n",
       "      <td>126.46</td>\n",
       "      <td>65.0</td>\n",
       "    </tr>\n",
       "    <tr>\n",
       "      <th>Split</th>\n",
       "      <td>3</td>\n",
       "      <td>Horror,Thriller</td>\n",
       "      <td>Three girls are kidnapped by a man with a diag...</td>\n",
       "      <td>M. Night Shyamalan</td>\n",
       "      <td>James McAvoy, Anya Taylor-Joy, Haley Lu Richar...</td>\n",
       "      <td>2016</td>\n",
       "      <td>117</td>\n",
       "      <td>7.3</td>\n",
       "      <td>157606</td>\n",
       "      <td>138.12</td>\n",
       "      <td>62.0</td>\n",
       "    </tr>\n",
       "    <tr>\n",
       "      <th>Sing</th>\n",
       "      <td>4</td>\n",
       "      <td>Animation,Comedy,Family</td>\n",
       "      <td>In a city of humanoid animals, a hustling thea...</td>\n",
       "      <td>Christophe Lourdelet</td>\n",
       "      <td>Matthew McConaughey,Reese Witherspoon, Seth Ma...</td>\n",
       "      <td>2016</td>\n",
       "      <td>108</td>\n",
       "      <td>7.2</td>\n",
       "      <td>60545</td>\n",
       "      <td>270.32</td>\n",
       "      <td>59.0</td>\n",
       "    </tr>\n",
       "    <tr>\n",
       "      <th>Suicide Squad</th>\n",
       "      <td>5</td>\n",
       "      <td>Action,Adventure,Fantasy</td>\n",
       "      <td>A secret government agency recruits some of th...</td>\n",
       "      <td>David Ayer</td>\n",
       "      <td>Will Smith, Jared Leto, Margot Robbie, Viola D...</td>\n",
       "      <td>2016</td>\n",
       "      <td>123</td>\n",
       "      <td>6.2</td>\n",
       "      <td>393727</td>\n",
       "      <td>325.02</td>\n",
       "      <td>40.0</td>\n",
       "    </tr>\n",
       "    <tr>\n",
       "      <th>...</th>\n",
       "      <td>...</td>\n",
       "      <td>...</td>\n",
       "      <td>...</td>\n",
       "      <td>...</td>\n",
       "      <td>...</td>\n",
       "      <td>...</td>\n",
       "      <td>...</td>\n",
       "      <td>...</td>\n",
       "      <td>...</td>\n",
       "      <td>...</td>\n",
       "      <td>...</td>\n",
       "    </tr>\n",
       "    <tr>\n",
       "      <th>Secret in Their Eyes</th>\n",
       "      <td>996</td>\n",
       "      <td>Crime,Drama,Mystery</td>\n",
       "      <td>A tight-knit team of rising investigators, alo...</td>\n",
       "      <td>Billy Ray</td>\n",
       "      <td>Chiwetel Ejiofor, Nicole Kidman, Julia Roberts...</td>\n",
       "      <td>2015</td>\n",
       "      <td>111</td>\n",
       "      <td>6.2</td>\n",
       "      <td>27585</td>\n",
       "      <td>NaN</td>\n",
       "      <td>45.0</td>\n",
       "    </tr>\n",
       "    <tr>\n",
       "      <th>Hostel: Part II</th>\n",
       "      <td>997</td>\n",
       "      <td>Horror</td>\n",
       "      <td>Three American college students studying abroa...</td>\n",
       "      <td>Eli Roth</td>\n",
       "      <td>Lauren German, Heather Matarazzo, Bijou Philli...</td>\n",
       "      <td>2007</td>\n",
       "      <td>94</td>\n",
       "      <td>5.5</td>\n",
       "      <td>73152</td>\n",
       "      <td>17.54</td>\n",
       "      <td>46.0</td>\n",
       "    </tr>\n",
       "    <tr>\n",
       "      <th>Step Up 2: The Streets</th>\n",
       "      <td>998</td>\n",
       "      <td>Drama,Music,Romance</td>\n",
       "      <td>Romantic sparks occur between two dance studen...</td>\n",
       "      <td>Jon M. Chu</td>\n",
       "      <td>Robert Hoffman, Briana Evigan, Cassie Ventura,...</td>\n",
       "      <td>2008</td>\n",
       "      <td>98</td>\n",
       "      <td>6.2</td>\n",
       "      <td>70699</td>\n",
       "      <td>58.01</td>\n",
       "      <td>50.0</td>\n",
       "    </tr>\n",
       "    <tr>\n",
       "      <th>Search Party</th>\n",
       "      <td>999</td>\n",
       "      <td>Adventure,Comedy</td>\n",
       "      <td>A pair of friends embark on a mission to reuni...</td>\n",
       "      <td>Scot Armstrong</td>\n",
       "      <td>Adam Pally, T.J. Miller, Thomas Middleditch,Sh...</td>\n",
       "      <td>2014</td>\n",
       "      <td>93</td>\n",
       "      <td>5.6</td>\n",
       "      <td>4881</td>\n",
       "      <td>NaN</td>\n",
       "      <td>22.0</td>\n",
       "    </tr>\n",
       "    <tr>\n",
       "      <th>Nine Lives</th>\n",
       "      <td>1000</td>\n",
       "      <td>Comedy,Family,Fantasy</td>\n",
       "      <td>A stuffy businessman finds himself trapped ins...</td>\n",
       "      <td>Barry Sonnenfeld</td>\n",
       "      <td>Kevin Spacey, Jennifer Garner, Robbie Amell,Ch...</td>\n",
       "      <td>2016</td>\n",
       "      <td>87</td>\n",
       "      <td>5.3</td>\n",
       "      <td>12435</td>\n",
       "      <td>19.64</td>\n",
       "      <td>11.0</td>\n",
       "    </tr>\n",
       "  </tbody>\n",
       "</table>\n",
       "<p>1000 rows × 11 columns</p>\n",
       "</div>"
      ],
      "text/plain": [
       "                         Rank                     Genre  \\\n",
       "Title                                                     \n",
       "Guardians of the Galaxy     1   Action,Adventure,Sci-Fi   \n",
       "Prometheus                  2  Adventure,Mystery,Sci-Fi   \n",
       "Split                       3           Horror,Thriller   \n",
       "Sing                        4   Animation,Comedy,Family   \n",
       "Suicide Squad               5  Action,Adventure,Fantasy   \n",
       "...                       ...                       ...   \n",
       "Secret in Their Eyes      996       Crime,Drama,Mystery   \n",
       "Hostel: Part II           997                    Horror   \n",
       "Step Up 2: The Streets    998       Drama,Music,Romance   \n",
       "Search Party              999          Adventure,Comedy   \n",
       "Nine Lives               1000     Comedy,Family,Fantasy   \n",
       "\n",
       "                                                               Description  \\\n",
       "Title                                                                        \n",
       "Guardians of the Galaxy  A group of intergalactic criminals are forced ...   \n",
       "Prometheus               Following clues to the origin of mankind, a te...   \n",
       "Split                    Three girls are kidnapped by a man with a diag...   \n",
       "Sing                     In a city of humanoid animals, a hustling thea...   \n",
       "Suicide Squad            A secret government agency recruits some of th...   \n",
       "...                                                                    ...   \n",
       "Secret in Their Eyes     A tight-knit team of rising investigators, alo...   \n",
       "Hostel: Part II          Three American college students studying abroa...   \n",
       "Step Up 2: The Streets   Romantic sparks occur between two dance studen...   \n",
       "Search Party             A pair of friends embark on a mission to reuni...   \n",
       "Nine Lives               A stuffy businessman finds himself trapped ins...   \n",
       "\n",
       "                                     Director  \\\n",
       "Title                                           \n",
       "Guardians of the Galaxy            James Gunn   \n",
       "Prometheus                       Ridley Scott   \n",
       "Split                      M. Night Shyamalan   \n",
       "Sing                     Christophe Lourdelet   \n",
       "Suicide Squad                      David Ayer   \n",
       "...                                       ...   \n",
       "Secret in Their Eyes                Billy Ray   \n",
       "Hostel: Part II                      Eli Roth   \n",
       "Step Up 2: The Streets             Jon M. Chu   \n",
       "Search Party                   Scot Armstrong   \n",
       "Nine Lives                   Barry Sonnenfeld   \n",
       "\n",
       "                                                                    Actors  \\\n",
       "Title                                                                        \n",
       "Guardians of the Galaxy  Chris Pratt, Vin Diesel, Bradley Cooper, Zoe S...   \n",
       "Prometheus               Noomi Rapace, Logan Marshall-Green, Michael Fa...   \n",
       "Split                    James McAvoy, Anya Taylor-Joy, Haley Lu Richar...   \n",
       "Sing                     Matthew McConaughey,Reese Witherspoon, Seth Ma...   \n",
       "Suicide Squad            Will Smith, Jared Leto, Margot Robbie, Viola D...   \n",
       "...                                                                    ...   \n",
       "Secret in Their Eyes     Chiwetel Ejiofor, Nicole Kidman, Julia Roberts...   \n",
       "Hostel: Part II          Lauren German, Heather Matarazzo, Bijou Philli...   \n",
       "Step Up 2: The Streets   Robert Hoffman, Briana Evigan, Cassie Ventura,...   \n",
       "Search Party             Adam Pally, T.J. Miller, Thomas Middleditch,Sh...   \n",
       "Nine Lives               Kevin Spacey, Jennifer Garner, Robbie Amell,Ch...   \n",
       "\n",
       "                         Year  Runtime (Minutes)  Rating   Votes  \\\n",
       "Title                                                              \n",
       "Guardians of the Galaxy  2014                121     8.1  757074   \n",
       "Prometheus               2012                124     7.0  485820   \n",
       "Split                    2016                117     7.3  157606   \n",
       "Sing                     2016                108     7.2   60545   \n",
       "Suicide Squad            2016                123     6.2  393727   \n",
       "...                       ...                ...     ...     ...   \n",
       "Secret in Their Eyes     2015                111     6.2   27585   \n",
       "Hostel: Part II          2007                 94     5.5   73152   \n",
       "Step Up 2: The Streets   2008                 98     6.2   70699   \n",
       "Search Party             2014                 93     5.6    4881   \n",
       "Nine Lives               2016                 87     5.3   12435   \n",
       "\n",
       "                         Revenue (Millions)  Metascore  \n",
       "Title                                                   \n",
       "Guardians of the Galaxy              333.13       76.0  \n",
       "Prometheus                           126.46       65.0  \n",
       "Split                                138.12       62.0  \n",
       "Sing                                 270.32       59.0  \n",
       "Suicide Squad                        325.02       40.0  \n",
       "...                                     ...        ...  \n",
       "Secret in Their Eyes                    NaN       45.0  \n",
       "Hostel: Part II                       17.54       46.0  \n",
       "Step Up 2: The Streets                58.01       50.0  \n",
       "Search Party                            NaN       22.0  \n",
       "Nine Lives                            19.64       11.0  \n",
       "\n",
       "[1000 rows x 11 columns]"
      ]
     },
     "execution_count": 12,
     "metadata": {},
     "output_type": "execute_result"
    }
   ],
   "source": [
    "df"
   ]
  },
  {
   "cell_type": "markdown",
   "id": "fc7b9a43",
   "metadata": {},
   "source": [
    "## 3. Veri setindeki sütun isimlerini kullanışlı hale getirin (Örn: Kısaltıp küçük harf yapmak gibi)"
   ]
  },
  {
   "cell_type": "code",
   "execution_count": 13,
   "id": "03fdab63",
   "metadata": {},
   "outputs": [
    {
     "data": {
      "text/plain": [
       "Index(['Rank', 'Genre', 'Description', 'Director', 'Actors', 'Year',\n",
       "       'Runtime (Minutes)', 'Rating', 'Votes', 'Revenue (Millions)',\n",
       "       'Metascore'],\n",
       "      dtype='object')"
      ]
     },
     "execution_count": 13,
     "metadata": {},
     "output_type": "execute_result"
    }
   ],
   "source": [
    "df.columns"
   ]
  },
  {
   "cell_type": "code",
   "execution_count": 14,
   "id": "390aff59",
   "metadata": {},
   "outputs": [
    {
     "data": {
      "text/html": [
       "<div>\n",
       "<style scoped>\n",
       "    .dataframe tbody tr th:only-of-type {\n",
       "        vertical-align: middle;\n",
       "    }\n",
       "\n",
       "    .dataframe tbody tr th {\n",
       "        vertical-align: top;\n",
       "    }\n",
       "\n",
       "    .dataframe thead th {\n",
       "        text-align: right;\n",
       "    }\n",
       "</style>\n",
       "<table border=\"1\" class=\"dataframe\">\n",
       "  <thead>\n",
       "    <tr style=\"text-align: right;\">\n",
       "      <th></th>\n",
       "      <th>DANK</th>\n",
       "      <th>Genre</th>\n",
       "      <th>Description</th>\n",
       "      <th>Director</th>\n",
       "      <th>Actors</th>\n",
       "      <th>Year</th>\n",
       "      <th>Runtime (Minutes)</th>\n",
       "      <th>Rating</th>\n",
       "      <th>Votes</th>\n",
       "      <th>Revenue (Millions)</th>\n",
       "      <th>Metascore</th>\n",
       "    </tr>\n",
       "    <tr>\n",
       "      <th>Title</th>\n",
       "      <th></th>\n",
       "      <th></th>\n",
       "      <th></th>\n",
       "      <th></th>\n",
       "      <th></th>\n",
       "      <th></th>\n",
       "      <th></th>\n",
       "      <th></th>\n",
       "      <th></th>\n",
       "      <th></th>\n",
       "      <th></th>\n",
       "    </tr>\n",
       "  </thead>\n",
       "  <tbody>\n",
       "    <tr>\n",
       "      <th>Guardians of the Galaxy</th>\n",
       "      <td>1</td>\n",
       "      <td>Action,Adventure,Sci-Fi</td>\n",
       "      <td>A group of intergalactic criminals are forced ...</td>\n",
       "      <td>James Gunn</td>\n",
       "      <td>Chris Pratt, Vin Diesel, Bradley Cooper, Zoe S...</td>\n",
       "      <td>2014</td>\n",
       "      <td>121</td>\n",
       "      <td>8.1</td>\n",
       "      <td>757074</td>\n",
       "      <td>333.13</td>\n",
       "      <td>76.0</td>\n",
       "    </tr>\n",
       "    <tr>\n",
       "      <th>Prometheus</th>\n",
       "      <td>2</td>\n",
       "      <td>Adventure,Mystery,Sci-Fi</td>\n",
       "      <td>Following clues to the origin of mankind, a te...</td>\n",
       "      <td>Ridley Scott</td>\n",
       "      <td>Noomi Rapace, Logan Marshall-Green, Michael Fa...</td>\n",
       "      <td>2012</td>\n",
       "      <td>124</td>\n",
       "      <td>7.0</td>\n",
       "      <td>485820</td>\n",
       "      <td>126.46</td>\n",
       "      <td>65.0</td>\n",
       "    </tr>\n",
       "    <tr>\n",
       "      <th>Split</th>\n",
       "      <td>3</td>\n",
       "      <td>Horror,Thriller</td>\n",
       "      <td>Three girls are kidnapped by a man with a diag...</td>\n",
       "      <td>M. Night Shyamalan</td>\n",
       "      <td>James McAvoy, Anya Taylor-Joy, Haley Lu Richar...</td>\n",
       "      <td>2016</td>\n",
       "      <td>117</td>\n",
       "      <td>7.3</td>\n",
       "      <td>157606</td>\n",
       "      <td>138.12</td>\n",
       "      <td>62.0</td>\n",
       "    </tr>\n",
       "    <tr>\n",
       "      <th>Sing</th>\n",
       "      <td>4</td>\n",
       "      <td>Animation,Comedy,Family</td>\n",
       "      <td>In a city of humanoid animals, a hustling thea...</td>\n",
       "      <td>Christophe Lourdelet</td>\n",
       "      <td>Matthew McConaughey,Reese Witherspoon, Seth Ma...</td>\n",
       "      <td>2016</td>\n",
       "      <td>108</td>\n",
       "      <td>7.2</td>\n",
       "      <td>60545</td>\n",
       "      <td>270.32</td>\n",
       "      <td>59.0</td>\n",
       "    </tr>\n",
       "    <tr>\n",
       "      <th>Suicide Squad</th>\n",
       "      <td>5</td>\n",
       "      <td>Action,Adventure,Fantasy</td>\n",
       "      <td>A secret government agency recruits some of th...</td>\n",
       "      <td>David Ayer</td>\n",
       "      <td>Will Smith, Jared Leto, Margot Robbie, Viola D...</td>\n",
       "      <td>2016</td>\n",
       "      <td>123</td>\n",
       "      <td>6.2</td>\n",
       "      <td>393727</td>\n",
       "      <td>325.02</td>\n",
       "      <td>40.0</td>\n",
       "    </tr>\n",
       "    <tr>\n",
       "      <th>...</th>\n",
       "      <td>...</td>\n",
       "      <td>...</td>\n",
       "      <td>...</td>\n",
       "      <td>...</td>\n",
       "      <td>...</td>\n",
       "      <td>...</td>\n",
       "      <td>...</td>\n",
       "      <td>...</td>\n",
       "      <td>...</td>\n",
       "      <td>...</td>\n",
       "      <td>...</td>\n",
       "    </tr>\n",
       "    <tr>\n",
       "      <th>Secret in Their Eyes</th>\n",
       "      <td>996</td>\n",
       "      <td>Crime,Drama,Mystery</td>\n",
       "      <td>A tight-knit team of rising investigators, alo...</td>\n",
       "      <td>Billy Ray</td>\n",
       "      <td>Chiwetel Ejiofor, Nicole Kidman, Julia Roberts...</td>\n",
       "      <td>2015</td>\n",
       "      <td>111</td>\n",
       "      <td>6.2</td>\n",
       "      <td>27585</td>\n",
       "      <td>NaN</td>\n",
       "      <td>45.0</td>\n",
       "    </tr>\n",
       "    <tr>\n",
       "      <th>Hostel: Part II</th>\n",
       "      <td>997</td>\n",
       "      <td>Horror</td>\n",
       "      <td>Three American college students studying abroa...</td>\n",
       "      <td>Eli Roth</td>\n",
       "      <td>Lauren German, Heather Matarazzo, Bijou Philli...</td>\n",
       "      <td>2007</td>\n",
       "      <td>94</td>\n",
       "      <td>5.5</td>\n",
       "      <td>73152</td>\n",
       "      <td>17.54</td>\n",
       "      <td>46.0</td>\n",
       "    </tr>\n",
       "    <tr>\n",
       "      <th>Step Up 2: The Streets</th>\n",
       "      <td>998</td>\n",
       "      <td>Drama,Music,Romance</td>\n",
       "      <td>Romantic sparks occur between two dance studen...</td>\n",
       "      <td>Jon M. Chu</td>\n",
       "      <td>Robert Hoffman, Briana Evigan, Cassie Ventura,...</td>\n",
       "      <td>2008</td>\n",
       "      <td>98</td>\n",
       "      <td>6.2</td>\n",
       "      <td>70699</td>\n",
       "      <td>58.01</td>\n",
       "      <td>50.0</td>\n",
       "    </tr>\n",
       "    <tr>\n",
       "      <th>Search Party</th>\n",
       "      <td>999</td>\n",
       "      <td>Adventure,Comedy</td>\n",
       "      <td>A pair of friends embark on a mission to reuni...</td>\n",
       "      <td>Scot Armstrong</td>\n",
       "      <td>Adam Pally, T.J. Miller, Thomas Middleditch,Sh...</td>\n",
       "      <td>2014</td>\n",
       "      <td>93</td>\n",
       "      <td>5.6</td>\n",
       "      <td>4881</td>\n",
       "      <td>NaN</td>\n",
       "      <td>22.0</td>\n",
       "    </tr>\n",
       "    <tr>\n",
       "      <th>Nine Lives</th>\n",
       "      <td>1000</td>\n",
       "      <td>Comedy,Family,Fantasy</td>\n",
       "      <td>A stuffy businessman finds himself trapped ins...</td>\n",
       "      <td>Barry Sonnenfeld</td>\n",
       "      <td>Kevin Spacey, Jennifer Garner, Robbie Amell,Ch...</td>\n",
       "      <td>2016</td>\n",
       "      <td>87</td>\n",
       "      <td>5.3</td>\n",
       "      <td>12435</td>\n",
       "      <td>19.64</td>\n",
       "      <td>11.0</td>\n",
       "    </tr>\n",
       "  </tbody>\n",
       "</table>\n",
       "<p>1000 rows × 11 columns</p>\n",
       "</div>"
      ],
      "text/plain": [
       "                         DANK                     Genre  \\\n",
       "Title                                                     \n",
       "Guardians of the Galaxy     1   Action,Adventure,Sci-Fi   \n",
       "Prometheus                  2  Adventure,Mystery,Sci-Fi   \n",
       "Split                       3           Horror,Thriller   \n",
       "Sing                        4   Animation,Comedy,Family   \n",
       "Suicide Squad               5  Action,Adventure,Fantasy   \n",
       "...                       ...                       ...   \n",
       "Secret in Their Eyes      996       Crime,Drama,Mystery   \n",
       "Hostel: Part II           997                    Horror   \n",
       "Step Up 2: The Streets    998       Drama,Music,Romance   \n",
       "Search Party              999          Adventure,Comedy   \n",
       "Nine Lives               1000     Comedy,Family,Fantasy   \n",
       "\n",
       "                                                               Description  \\\n",
       "Title                                                                        \n",
       "Guardians of the Galaxy  A group of intergalactic criminals are forced ...   \n",
       "Prometheus               Following clues to the origin of mankind, a te...   \n",
       "Split                    Three girls are kidnapped by a man with a diag...   \n",
       "Sing                     In a city of humanoid animals, a hustling thea...   \n",
       "Suicide Squad            A secret government agency recruits some of th...   \n",
       "...                                                                    ...   \n",
       "Secret in Their Eyes     A tight-knit team of rising investigators, alo...   \n",
       "Hostel: Part II          Three American college students studying abroa...   \n",
       "Step Up 2: The Streets   Romantic sparks occur between two dance studen...   \n",
       "Search Party             A pair of friends embark on a mission to reuni...   \n",
       "Nine Lives               A stuffy businessman finds himself trapped ins...   \n",
       "\n",
       "                                     Director  \\\n",
       "Title                                           \n",
       "Guardians of the Galaxy            James Gunn   \n",
       "Prometheus                       Ridley Scott   \n",
       "Split                      M. Night Shyamalan   \n",
       "Sing                     Christophe Lourdelet   \n",
       "Suicide Squad                      David Ayer   \n",
       "...                                       ...   \n",
       "Secret in Their Eyes                Billy Ray   \n",
       "Hostel: Part II                      Eli Roth   \n",
       "Step Up 2: The Streets             Jon M. Chu   \n",
       "Search Party                   Scot Armstrong   \n",
       "Nine Lives                   Barry Sonnenfeld   \n",
       "\n",
       "                                                                    Actors  \\\n",
       "Title                                                                        \n",
       "Guardians of the Galaxy  Chris Pratt, Vin Diesel, Bradley Cooper, Zoe S...   \n",
       "Prometheus               Noomi Rapace, Logan Marshall-Green, Michael Fa...   \n",
       "Split                    James McAvoy, Anya Taylor-Joy, Haley Lu Richar...   \n",
       "Sing                     Matthew McConaughey,Reese Witherspoon, Seth Ma...   \n",
       "Suicide Squad            Will Smith, Jared Leto, Margot Robbie, Viola D...   \n",
       "...                                                                    ...   \n",
       "Secret in Their Eyes     Chiwetel Ejiofor, Nicole Kidman, Julia Roberts...   \n",
       "Hostel: Part II          Lauren German, Heather Matarazzo, Bijou Philli...   \n",
       "Step Up 2: The Streets   Robert Hoffman, Briana Evigan, Cassie Ventura,...   \n",
       "Search Party             Adam Pally, T.J. Miller, Thomas Middleditch,Sh...   \n",
       "Nine Lives               Kevin Spacey, Jennifer Garner, Robbie Amell,Ch...   \n",
       "\n",
       "                         Year  Runtime (Minutes)  Rating   Votes  \\\n",
       "Title                                                              \n",
       "Guardians of the Galaxy  2014                121     8.1  757074   \n",
       "Prometheus               2012                124     7.0  485820   \n",
       "Split                    2016                117     7.3  157606   \n",
       "Sing                     2016                108     7.2   60545   \n",
       "Suicide Squad            2016                123     6.2  393727   \n",
       "...                       ...                ...     ...     ...   \n",
       "Secret in Their Eyes     2015                111     6.2   27585   \n",
       "Hostel: Part II          2007                 94     5.5   73152   \n",
       "Step Up 2: The Streets   2008                 98     6.2   70699   \n",
       "Search Party             2014                 93     5.6    4881   \n",
       "Nine Lives               2016                 87     5.3   12435   \n",
       "\n",
       "                         Revenue (Millions)  Metascore  \n",
       "Title                                                   \n",
       "Guardians of the Galaxy              333.13       76.0  \n",
       "Prometheus                           126.46       65.0  \n",
       "Split                                138.12       62.0  \n",
       "Sing                                 270.32       59.0  \n",
       "Suicide Squad                        325.02       40.0  \n",
       "...                                     ...        ...  \n",
       "Secret in Their Eyes                    NaN       45.0  \n",
       "Hostel: Part II                       17.54       46.0  \n",
       "Step Up 2: The Streets                58.01       50.0  \n",
       "Search Party                            NaN       22.0  \n",
       "Nine Lives                            19.64       11.0  \n",
       "\n",
       "[1000 rows x 11 columns]"
      ]
     },
     "execution_count": 14,
     "metadata": {},
     "output_type": "execute_result"
    }
   ],
   "source": [
    "df.columns= ['DANK', 'Genre', 'Description', 'Director', 'Actors', 'Year',\n",
    "       'Runtime (Minutes)', 'Rating', 'Votes', 'Revenue (Millions)',\n",
    "       'Metascore'] # sütun ismini değiştir\n",
    "df"
   ]
  },
  {
   "cell_type": "code",
   "execution_count": 15,
   "id": "66e9e125",
   "metadata": {},
   "outputs": [
    {
     "data": {
      "text/html": [
       "<div>\n",
       "<style scoped>\n",
       "    .dataframe tbody tr th:only-of-type {\n",
       "        vertical-align: middle;\n",
       "    }\n",
       "\n",
       "    .dataframe tbody tr th {\n",
       "        vertical-align: top;\n",
       "    }\n",
       "\n",
       "    .dataframe thead th {\n",
       "        text-align: right;\n",
       "    }\n",
       "</style>\n",
       "<table border=\"1\" class=\"dataframe\">\n",
       "  <thead>\n",
       "    <tr style=\"text-align: right;\">\n",
       "      <th></th>\n",
       "      <th>dank</th>\n",
       "      <th>genre</th>\n",
       "      <th>description</th>\n",
       "      <th>director</th>\n",
       "      <th>actors</th>\n",
       "      <th>year</th>\n",
       "      <th>runtime (minutes)</th>\n",
       "      <th>rating</th>\n",
       "      <th>votes</th>\n",
       "      <th>revenue (millions)</th>\n",
       "      <th>metascore</th>\n",
       "    </tr>\n",
       "    <tr>\n",
       "      <th>Title</th>\n",
       "      <th></th>\n",
       "      <th></th>\n",
       "      <th></th>\n",
       "      <th></th>\n",
       "      <th></th>\n",
       "      <th></th>\n",
       "      <th></th>\n",
       "      <th></th>\n",
       "      <th></th>\n",
       "      <th></th>\n",
       "      <th></th>\n",
       "    </tr>\n",
       "  </thead>\n",
       "  <tbody>\n",
       "    <tr>\n",
       "      <th>Guardians of the Galaxy</th>\n",
       "      <td>1</td>\n",
       "      <td>Action,Adventure,Sci-Fi</td>\n",
       "      <td>A group of intergalactic criminals are forced ...</td>\n",
       "      <td>James Gunn</td>\n",
       "      <td>Chris Pratt, Vin Diesel, Bradley Cooper, Zoe S...</td>\n",
       "      <td>2014</td>\n",
       "      <td>121</td>\n",
       "      <td>8.1</td>\n",
       "      <td>757074</td>\n",
       "      <td>333.13</td>\n",
       "      <td>76.0</td>\n",
       "    </tr>\n",
       "    <tr>\n",
       "      <th>Prometheus</th>\n",
       "      <td>2</td>\n",
       "      <td>Adventure,Mystery,Sci-Fi</td>\n",
       "      <td>Following clues to the origin of mankind, a te...</td>\n",
       "      <td>Ridley Scott</td>\n",
       "      <td>Noomi Rapace, Logan Marshall-Green, Michael Fa...</td>\n",
       "      <td>2012</td>\n",
       "      <td>124</td>\n",
       "      <td>7.0</td>\n",
       "      <td>485820</td>\n",
       "      <td>126.46</td>\n",
       "      <td>65.0</td>\n",
       "    </tr>\n",
       "    <tr>\n",
       "      <th>Split</th>\n",
       "      <td>3</td>\n",
       "      <td>Horror,Thriller</td>\n",
       "      <td>Three girls are kidnapped by a man with a diag...</td>\n",
       "      <td>M. Night Shyamalan</td>\n",
       "      <td>James McAvoy, Anya Taylor-Joy, Haley Lu Richar...</td>\n",
       "      <td>2016</td>\n",
       "      <td>117</td>\n",
       "      <td>7.3</td>\n",
       "      <td>157606</td>\n",
       "      <td>138.12</td>\n",
       "      <td>62.0</td>\n",
       "    </tr>\n",
       "    <tr>\n",
       "      <th>Sing</th>\n",
       "      <td>4</td>\n",
       "      <td>Animation,Comedy,Family</td>\n",
       "      <td>In a city of humanoid animals, a hustling thea...</td>\n",
       "      <td>Christophe Lourdelet</td>\n",
       "      <td>Matthew McConaughey,Reese Witherspoon, Seth Ma...</td>\n",
       "      <td>2016</td>\n",
       "      <td>108</td>\n",
       "      <td>7.2</td>\n",
       "      <td>60545</td>\n",
       "      <td>270.32</td>\n",
       "      <td>59.0</td>\n",
       "    </tr>\n",
       "    <tr>\n",
       "      <th>Suicide Squad</th>\n",
       "      <td>5</td>\n",
       "      <td>Action,Adventure,Fantasy</td>\n",
       "      <td>A secret government agency recruits some of th...</td>\n",
       "      <td>David Ayer</td>\n",
       "      <td>Will Smith, Jared Leto, Margot Robbie, Viola D...</td>\n",
       "      <td>2016</td>\n",
       "      <td>123</td>\n",
       "      <td>6.2</td>\n",
       "      <td>393727</td>\n",
       "      <td>325.02</td>\n",
       "      <td>40.0</td>\n",
       "    </tr>\n",
       "    <tr>\n",
       "      <th>...</th>\n",
       "      <td>...</td>\n",
       "      <td>...</td>\n",
       "      <td>...</td>\n",
       "      <td>...</td>\n",
       "      <td>...</td>\n",
       "      <td>...</td>\n",
       "      <td>...</td>\n",
       "      <td>...</td>\n",
       "      <td>...</td>\n",
       "      <td>...</td>\n",
       "      <td>...</td>\n",
       "    </tr>\n",
       "    <tr>\n",
       "      <th>Secret in Their Eyes</th>\n",
       "      <td>996</td>\n",
       "      <td>Crime,Drama,Mystery</td>\n",
       "      <td>A tight-knit team of rising investigators, alo...</td>\n",
       "      <td>Billy Ray</td>\n",
       "      <td>Chiwetel Ejiofor, Nicole Kidman, Julia Roberts...</td>\n",
       "      <td>2015</td>\n",
       "      <td>111</td>\n",
       "      <td>6.2</td>\n",
       "      <td>27585</td>\n",
       "      <td>NaN</td>\n",
       "      <td>45.0</td>\n",
       "    </tr>\n",
       "    <tr>\n",
       "      <th>Hostel: Part II</th>\n",
       "      <td>997</td>\n",
       "      <td>Horror</td>\n",
       "      <td>Three American college students studying abroa...</td>\n",
       "      <td>Eli Roth</td>\n",
       "      <td>Lauren German, Heather Matarazzo, Bijou Philli...</td>\n",
       "      <td>2007</td>\n",
       "      <td>94</td>\n",
       "      <td>5.5</td>\n",
       "      <td>73152</td>\n",
       "      <td>17.54</td>\n",
       "      <td>46.0</td>\n",
       "    </tr>\n",
       "    <tr>\n",
       "      <th>Step Up 2: The Streets</th>\n",
       "      <td>998</td>\n",
       "      <td>Drama,Music,Romance</td>\n",
       "      <td>Romantic sparks occur between two dance studen...</td>\n",
       "      <td>Jon M. Chu</td>\n",
       "      <td>Robert Hoffman, Briana Evigan, Cassie Ventura,...</td>\n",
       "      <td>2008</td>\n",
       "      <td>98</td>\n",
       "      <td>6.2</td>\n",
       "      <td>70699</td>\n",
       "      <td>58.01</td>\n",
       "      <td>50.0</td>\n",
       "    </tr>\n",
       "    <tr>\n",
       "      <th>Search Party</th>\n",
       "      <td>999</td>\n",
       "      <td>Adventure,Comedy</td>\n",
       "      <td>A pair of friends embark on a mission to reuni...</td>\n",
       "      <td>Scot Armstrong</td>\n",
       "      <td>Adam Pally, T.J. Miller, Thomas Middleditch,Sh...</td>\n",
       "      <td>2014</td>\n",
       "      <td>93</td>\n",
       "      <td>5.6</td>\n",
       "      <td>4881</td>\n",
       "      <td>NaN</td>\n",
       "      <td>22.0</td>\n",
       "    </tr>\n",
       "    <tr>\n",
       "      <th>Nine Lives</th>\n",
       "      <td>1000</td>\n",
       "      <td>Comedy,Family,Fantasy</td>\n",
       "      <td>A stuffy businessman finds himself trapped ins...</td>\n",
       "      <td>Barry Sonnenfeld</td>\n",
       "      <td>Kevin Spacey, Jennifer Garner, Robbie Amell,Ch...</td>\n",
       "      <td>2016</td>\n",
       "      <td>87</td>\n",
       "      <td>5.3</td>\n",
       "      <td>12435</td>\n",
       "      <td>19.64</td>\n",
       "      <td>11.0</td>\n",
       "    </tr>\n",
       "  </tbody>\n",
       "</table>\n",
       "<p>1000 rows × 11 columns</p>\n",
       "</div>"
      ],
      "text/plain": [
       "                         dank                     genre  \\\n",
       "Title                                                     \n",
       "Guardians of the Galaxy     1   Action,Adventure,Sci-Fi   \n",
       "Prometheus                  2  Adventure,Mystery,Sci-Fi   \n",
       "Split                       3           Horror,Thriller   \n",
       "Sing                        4   Animation,Comedy,Family   \n",
       "Suicide Squad               5  Action,Adventure,Fantasy   \n",
       "...                       ...                       ...   \n",
       "Secret in Their Eyes      996       Crime,Drama,Mystery   \n",
       "Hostel: Part II           997                    Horror   \n",
       "Step Up 2: The Streets    998       Drama,Music,Romance   \n",
       "Search Party              999          Adventure,Comedy   \n",
       "Nine Lives               1000     Comedy,Family,Fantasy   \n",
       "\n",
       "                                                               description  \\\n",
       "Title                                                                        \n",
       "Guardians of the Galaxy  A group of intergalactic criminals are forced ...   \n",
       "Prometheus               Following clues to the origin of mankind, a te...   \n",
       "Split                    Three girls are kidnapped by a man with a diag...   \n",
       "Sing                     In a city of humanoid animals, a hustling thea...   \n",
       "Suicide Squad            A secret government agency recruits some of th...   \n",
       "...                                                                    ...   \n",
       "Secret in Their Eyes     A tight-knit team of rising investigators, alo...   \n",
       "Hostel: Part II          Three American college students studying abroa...   \n",
       "Step Up 2: The Streets   Romantic sparks occur between two dance studen...   \n",
       "Search Party             A pair of friends embark on a mission to reuni...   \n",
       "Nine Lives               A stuffy businessman finds himself trapped ins...   \n",
       "\n",
       "                                     director  \\\n",
       "Title                                           \n",
       "Guardians of the Galaxy            James Gunn   \n",
       "Prometheus                       Ridley Scott   \n",
       "Split                      M. Night Shyamalan   \n",
       "Sing                     Christophe Lourdelet   \n",
       "Suicide Squad                      David Ayer   \n",
       "...                                       ...   \n",
       "Secret in Their Eyes                Billy Ray   \n",
       "Hostel: Part II                      Eli Roth   \n",
       "Step Up 2: The Streets             Jon M. Chu   \n",
       "Search Party                   Scot Armstrong   \n",
       "Nine Lives                   Barry Sonnenfeld   \n",
       "\n",
       "                                                                    actors  \\\n",
       "Title                                                                        \n",
       "Guardians of the Galaxy  Chris Pratt, Vin Diesel, Bradley Cooper, Zoe S...   \n",
       "Prometheus               Noomi Rapace, Logan Marshall-Green, Michael Fa...   \n",
       "Split                    James McAvoy, Anya Taylor-Joy, Haley Lu Richar...   \n",
       "Sing                     Matthew McConaughey,Reese Witherspoon, Seth Ma...   \n",
       "Suicide Squad            Will Smith, Jared Leto, Margot Robbie, Viola D...   \n",
       "...                                                                    ...   \n",
       "Secret in Their Eyes     Chiwetel Ejiofor, Nicole Kidman, Julia Roberts...   \n",
       "Hostel: Part II          Lauren German, Heather Matarazzo, Bijou Philli...   \n",
       "Step Up 2: The Streets   Robert Hoffman, Briana Evigan, Cassie Ventura,...   \n",
       "Search Party             Adam Pally, T.J. Miller, Thomas Middleditch,Sh...   \n",
       "Nine Lives               Kevin Spacey, Jennifer Garner, Robbie Amell,Ch...   \n",
       "\n",
       "                         year  runtime (minutes)  rating   votes  \\\n",
       "Title                                                              \n",
       "Guardians of the Galaxy  2014                121     8.1  757074   \n",
       "Prometheus               2012                124     7.0  485820   \n",
       "Split                    2016                117     7.3  157606   \n",
       "Sing                     2016                108     7.2   60545   \n",
       "Suicide Squad            2016                123     6.2  393727   \n",
       "...                       ...                ...     ...     ...   \n",
       "Secret in Their Eyes     2015                111     6.2   27585   \n",
       "Hostel: Part II          2007                 94     5.5   73152   \n",
       "Step Up 2: The Streets   2008                 98     6.2   70699   \n",
       "Search Party             2014                 93     5.6    4881   \n",
       "Nine Lives               2016                 87     5.3   12435   \n",
       "\n",
       "                         revenue (millions)  metascore  \n",
       "Title                                                   \n",
       "Guardians of the Galaxy              333.13       76.0  \n",
       "Prometheus                           126.46       65.0  \n",
       "Split                                138.12       62.0  \n",
       "Sing                                 270.32       59.0  \n",
       "Suicide Squad                        325.02       40.0  \n",
       "...                                     ...        ...  \n",
       "Secret in Their Eyes                    NaN       45.0  \n",
       "Hostel: Part II                       17.54       46.0  \n",
       "Step Up 2: The Streets                58.01       50.0  \n",
       "Search Party                            NaN       22.0  \n",
       "Nine Lives                            19.64       11.0  \n",
       "\n",
       "[1000 rows x 11 columns]"
      ]
     },
     "execution_count": 15,
     "metadata": {},
     "output_type": "execute_result"
    }
   ],
   "source": [
    "df.columns= [col.lower() for col in df] # sütunları Küçük harfe çevirmek\n",
    "df"
   ]
  },
  {
   "cell_type": "code",
   "execution_count": null,
   "id": "0f6b01cd",
   "metadata": {},
   "outputs": [],
   "source": []
  },
  {
   "cell_type": "code",
   "execution_count": null,
   "id": "ed31bd3f",
   "metadata": {},
   "outputs": [],
   "source": []
  },
  {
   "cell_type": "markdown",
   "id": "750332aa",
   "metadata": {},
   "source": [
    "## 4. Missing Value tespit edilsin ve bu kapsamda aşağıdaki şekilde mücadele edilsin.\n",
    "\n",
    "2 türde missing value mücadelesi yaptık. Ortalama ile doldurma ve drop etme.\n",
    "\n",
    "Çok fazla sayıda missing value varsa bu kapsamda drop etmeyi düşünmemeliyiz. Öncelikle doldurmak için çabalamalıyız.\n",
    "\n",
    "Örnek olması açısından burada çok olan missing value ile mücadele açısından sadece drop ve mean ile doldurma kullanıldı."
   ]
  },
  {
   "cell_type": "markdown",
   "id": "5a34f3af",
   "metadata": {},
   "source": [
    "### a.Missing value kontrolü hem pandas hemde missingno kütüphanelerini kullanarak yapın"
   ]
  },
  {
   "cell_type": "code",
   "execution_count": null,
   "id": "26b20b66",
   "metadata": {},
   "outputs": [],
   "source": []
  },
  {
   "cell_type": "code",
   "execution_count": 7,
   "id": "49d31553",
   "metadata": {},
   "outputs": [
    {
     "name": "stdout",
     "output_type": "stream",
     "text": [
      "Requirement already satisfied: missingno in c:\\users\\theat\\.conda\\envs\\notebook-6.5.7\\lib\\site-packages (0.5.2)\n",
      "Requirement already satisfied: numpy in c:\\users\\theat\\.conda\\envs\\notebook-6.5.7\\lib\\site-packages (from missingno) (2.1.0)\n",
      "Requirement already satisfied: matplotlib in c:\\users\\theat\\.conda\\envs\\notebook-6.5.7\\lib\\site-packages (from missingno) (3.9.2)\n",
      "Requirement already satisfied: scipy in c:\\users\\theat\\.conda\\envs\\notebook-6.5.7\\lib\\site-packages (from missingno) (1.14.1)\n",
      "Requirement already satisfied: seaborn in c:\\users\\theat\\.conda\\envs\\notebook-6.5.7\\lib\\site-packages (from missingno) (0.13.2)\n",
      "Requirement already satisfied: contourpy>=1.0.1 in c:\\users\\theat\\.conda\\envs\\notebook-6.5.7\\lib\\site-packages (from matplotlib->missingno) (1.3.0)\n",
      "Requirement already satisfied: cycler>=0.10 in c:\\users\\theat\\.conda\\envs\\notebook-6.5.7\\lib\\site-packages (from matplotlib->missingno) (0.12.1)\n",
      "Requirement already satisfied: fonttools>=4.22.0 in c:\\users\\theat\\.conda\\envs\\notebook-6.5.7\\lib\\site-packages (from matplotlib->missingno) (4.53.1)\n",
      "Requirement already satisfied: kiwisolver>=1.3.1 in c:\\users\\theat\\.conda\\envs\\notebook-6.5.7\\lib\\site-packages (from matplotlib->missingno) (1.4.5)\n",
      "Requirement already satisfied: packaging>=20.0 in c:\\users\\theat\\.conda\\envs\\notebook-6.5.7\\lib\\site-packages (from matplotlib->missingno) (24.1)\n",
      "Requirement already satisfied: pillow>=8 in c:\\users\\theat\\.conda\\envs\\notebook-6.5.7\\lib\\site-packages (from matplotlib->missingno) (10.4.0)\n",
      "Requirement already satisfied: pyparsing>=2.3.1 in c:\\users\\theat\\.conda\\envs\\notebook-6.5.7\\lib\\site-packages (from matplotlib->missingno) (3.1.4)\n",
      "Requirement already satisfied: python-dateutil>=2.7 in c:\\users\\theat\\.conda\\envs\\notebook-6.5.7\\lib\\site-packages (from matplotlib->missingno) (2.9.0.post0)\n",
      "Requirement already satisfied: pandas>=1.2 in c:\\users\\theat\\.conda\\envs\\notebook-6.5.7\\lib\\site-packages (from seaborn->missingno) (2.2.2)\n",
      "Requirement already satisfied: pytz>=2020.1 in c:\\users\\theat\\.conda\\envs\\notebook-6.5.7\\lib\\site-packages (from pandas>=1.2->seaborn->missingno) (2024.1)\n",
      "Requirement already satisfied: tzdata>=2022.7 in c:\\users\\theat\\.conda\\envs\\notebook-6.5.7\\lib\\site-packages (from pandas>=1.2->seaborn->missingno) (2024.1)\n",
      "Requirement already satisfied: six>=1.5 in c:\\users\\theat\\.conda\\envs\\notebook-6.5.7\\lib\\site-packages (from python-dateutil>=2.7->matplotlib->missingno) (1.16.0)\n",
      "Note: you may need to restart the kernel to use updated packages.\n"
     ]
    }
   ],
   "source": [
    "pip install missingno"
   ]
  },
  {
   "cell_type": "code",
   "execution_count": 16,
   "id": "c882e6e5",
   "metadata": {},
   "outputs": [
    {
     "data": {
      "image/png": "[encoded data removed]",
      "text/plain": [
       "<Figure size 2500x1000 with 2 Axes>"
      ]
     },
     "metadata": {},
     "output_type": "display_data"
    }
   ],
   "source": [
    "import missingno as msno\n",
    "msno.matrix(df);"
   ]
  },
  {
   "cell_type": "code",
   "execution_count": 17,
   "id": "940d79ee",
   "metadata": {},
   "outputs": [
    {
     "data": {
      "text/plain": [
       "dank                    0\n",
       "genre                   0\n",
       "description             0\n",
       "director                0\n",
       "actors                  0\n",
       "year                    0\n",
       "runtime (minutes)       0\n",
       "rating                  0\n",
       "votes                   0\n",
       "revenue (millions)    128\n",
       "metascore              64\n",
       "dtype: int64"
      ]
     },
     "execution_count": 17,
     "metadata": {},
     "output_type": "execute_result"
    }
   ],
   "source": [
    "df.isnull().sum()"
   ]
  },
  {
   "cell_type": "code",
   "execution_count": 21,
   "id": "816e0abd",
   "metadata": {},
   "outputs": [
    {
     "data": {
      "text/plain": [
       "<bound method NDFrame.describe of                          dank                     genre  \\\n",
       "Title                                                     \n",
       "Guardians of the Galaxy     1   Action,Adventure,Sci-Fi   \n",
       "Prometheus                  2  Adventure,Mystery,Sci-Fi   \n",
       "Split                       3           Horror,Thriller   \n",
       "Sing                        4   Animation,Comedy,Family   \n",
       "Suicide Squad               5  Action,Adventure,Fantasy   \n",
       "...                       ...                       ...   \n",
       "Secret in Their Eyes      996       Crime,Drama,Mystery   \n",
       "Hostel: Part II           997                    Horror   \n",
       "Step Up 2: The Streets    998       Drama,Music,Romance   \n",
       "Search Party              999          Adventure,Comedy   \n",
       "Nine Lives               1000     Comedy,Family,Fantasy   \n",
       "\n",
       "                                                               description  \\\n",
       "Title                                                                        \n",
       "Guardians of the Galaxy  A group of intergalactic criminals are forced ...   \n",
       "Prometheus               Following clues to the origin of mankind, a te...   \n",
       "Split                    Three girls are kidnapped by a man with a diag...   \n",
       "Sing                     In a city of humanoid animals, a hustling thea...   \n",
       "Suicide Squad            A secret government agency recruits some of th...   \n",
       "...                                                                    ...   \n",
       "Secret in Their Eyes     A tight-knit team of rising investigators, alo...   \n",
       "Hostel: Part II          Three American college students studying abroa...   \n",
       "Step Up 2: The Streets   Romantic sparks occur between two dance studen...   \n",
       "Search Party             A pair of friends embark on a mission to reuni...   \n",
       "Nine Lives               A stuffy businessman finds himself trapped ins...   \n",
       "\n",
       "                                     director  \\\n",
       "Title                                           \n",
       "Guardians of the Galaxy            James Gunn   \n",
       "Prometheus                       Ridley Scott   \n",
       "Split                      M. Night Shyamalan   \n",
       "Sing                     Christophe Lourdelet   \n",
       "Suicide Squad                      David Ayer   \n",
       "...                                       ...   \n",
       "Secret in Their Eyes                Billy Ray   \n",
       "Hostel: Part II                      Eli Roth   \n",
       "Step Up 2: The Streets             Jon M. Chu   \n",
       "Search Party                   Scot Armstrong   \n",
       "Nine Lives                   Barry Sonnenfeld   \n",
       "\n",
       "                                                                    actors  \\\n",
       "Title                                                                        \n",
       "Guardians of the Galaxy  Chris Pratt, Vin Diesel, Bradley Cooper, Zoe S...   \n",
       "Prometheus               Noomi Rapace, Logan Marshall-Green, Michael Fa...   \n",
       "Split                    James McAvoy, Anya Taylor-Joy, Haley Lu Richar...   \n",
       "Sing                     Matthew McConaughey,Reese Witherspoon, Seth Ma...   \n",
       "Suicide Squad            Will Smith, Jared Leto, Margot Robbie, Viola D...   \n",
       "...                                                                    ...   \n",
       "Secret in Their Eyes     Chiwetel Ejiofor, Nicole Kidman, Julia Roberts...   \n",
       "Hostel: Part II          Lauren German, Heather Matarazzo, Bijou Philli...   \n",
       "Step Up 2: The Streets   Robert Hoffman, Briana Evigan, Cassie Ventura,...   \n",
       "Search Party             Adam Pally, T.J. Miller, Thomas Middleditch,Sh...   \n",
       "Nine Lives               Kevin Spacey, Jennifer Garner, Robbie Amell,Ch...   \n",
       "\n",
       "                         year  runtime (minutes)  rating   votes  \\\n",
       "Title                                                              \n",
       "Guardians of the Galaxy  2014                121     8.1  757074   \n",
       "Prometheus               2012                124     7.0  485820   \n",
       "Split                    2016                117     7.3  157606   \n",
       "Sing                     2016                108     7.2   60545   \n",
       "Suicide Squad            2016                123     6.2  393727   \n",
       "...                       ...                ...     ...     ...   \n",
       "Secret in Their Eyes     2015                111     6.2   27585   \n",
       "Hostel: Part II          2007                 94     5.5   73152   \n",
       "Step Up 2: The Streets   2008                 98     6.2   70699   \n",
       "Search Party             2014                 93     5.6    4881   \n",
       "Nine Lives               2016                 87     5.3   12435   \n",
       "\n",
       "                         revenue (millions)  metascore  \n",
       "Title                                                   \n",
       "Guardians of the Galaxy              333.13       76.0  \n",
       "Prometheus                           126.46       65.0  \n",
       "Split                                138.12       62.0  \n",
       "Sing                                 270.32       59.0  \n",
       "Suicide Squad                        325.02       40.0  \n",
       "...                                     ...        ...  \n",
       "Secret in Their Eyes                    NaN       45.0  \n",
       "Hostel: Part II                       17.54       46.0  \n",
       "Step Up 2: The Streets                58.01       50.0  \n",
       "Search Party                            NaN       22.0  \n",
       "Nine Lives                            19.64       11.0  \n",
       "\n",
       "[1000 rows x 11 columns]>"
      ]
     },
     "execution_count": 21,
     "metadata": {},
     "output_type": "execute_result"
    }
   ],
   "source": [
    "df.describe"
   ]
  },
  {
   "cell_type": "code",
   "execution_count": 23,
   "id": "fcc66d7d",
   "metadata": {},
   "outputs": [
    {
     "data": {
      "text/plain": [
       "dank                     536.477430\n",
       "year                    1634.748620\n",
       "runtime (minutes)        215.372864\n",
       "rating                   129.871079\n",
       "votes                 317320.706565\n",
       "revenue (millions)       271.226240\n",
       "metascore                162.709975\n",
       "dtype: float64"
      ]
     },
     "execution_count": 23,
     "metadata": {},
     "output_type": "execute_result"
    }
   ],
   "source": [
    "df.describe().mean().T"
   ]
  },
  {
   "cell_type": "code",
   "execution_count": null,
   "id": "dc2ac8e1",
   "metadata": {},
   "outputs": [],
   "source": []
  },
  {
   "cell_type": "markdown",
   "id": "bf3e092c",
   "metadata": {},
   "source": [
    "### b.Yüksek missing value olan değişken içindeki veriler o değişkenin ortalama skoru ile doldurulsun."
   ]
  },
  {
   "cell_type": "code",
   "execution_count": null,
   "id": "2615a167",
   "metadata": {},
   "outputs": [],
   "source": []
  },
  {
   "cell_type": "markdown",
   "id": "f0d31e37",
   "metadata": {},
   "source": [
    "### c. Düşük missing value olan değişkendeki gözlemler kaldırılsın."
   ]
  },
  {
   "cell_type": "code",
   "execution_count": null,
   "id": "5418066c",
   "metadata": {},
   "outputs": [],
   "source": []
  },
  {
   "cell_type": "markdown",
   "id": "111a24a8",
   "metadata": {},
   "source": [
    "### d. Missing value kontrolü tekrar hem pandas hemde missingno kütüphanelerini kullanarak kontrol edin ve bu data setini yeni bir değişkene atayın."
   ]
  },
  {
   "cell_type": "code",
   "execution_count": 24,
   "id": "ee7136a8",
   "metadata": {},
   "outputs": [
    {
     "data": {
      "text/html": [
       "<div>\n",
       "<style scoped>\n",
       "    .dataframe tbody tr th:only-of-type {\n",
       "        vertical-align: middle;\n",
       "    }\n",
       "\n",
       "    .dataframe tbody tr th {\n",
       "        vertical-align: top;\n",
       "    }\n",
       "\n",
       "    .dataframe thead th {\n",
       "        text-align: right;\n",
       "    }\n",
       "</style>\n",
       "<table border=\"1\" class=\"dataframe\">\n",
       "  <thead>\n",
       "    <tr style=\"text-align: right;\">\n",
       "      <th></th>\n",
       "      <th>dank</th>\n",
       "      <th>genre</th>\n",
       "      <th>description</th>\n",
       "      <th>director</th>\n",
       "      <th>actors</th>\n",
       "      <th>year</th>\n",
       "      <th>runtime (minutes)</th>\n",
       "      <th>rating</th>\n",
       "      <th>votes</th>\n",
       "      <th>revenue (millions)</th>\n",
       "      <th>metascore</th>\n",
       "    </tr>\n",
       "    <tr>\n",
       "      <th>Title</th>\n",
       "      <th></th>\n",
       "      <th></th>\n",
       "      <th></th>\n",
       "      <th></th>\n",
       "      <th></th>\n",
       "      <th></th>\n",
       "      <th></th>\n",
       "      <th></th>\n",
       "      <th></th>\n",
       "      <th></th>\n",
       "      <th></th>\n",
       "    </tr>\n",
       "  </thead>\n",
       "  <tbody>\n",
       "    <tr>\n",
       "      <th>Guardians of the Galaxy</th>\n",
       "      <td>1</td>\n",
       "      <td>Action,Adventure,Sci-Fi</td>\n",
       "      <td>A group of intergalactic criminals are forced ...</td>\n",
       "      <td>James Gunn</td>\n",
       "      <td>Chris Pratt, Vin Diesel, Bradley Cooper, Zoe S...</td>\n",
       "      <td>2014</td>\n",
       "      <td>121</td>\n",
       "      <td>8.1</td>\n",
       "      <td>757074</td>\n",
       "      <td>333.13</td>\n",
       "      <td>76.0</td>\n",
       "    </tr>\n",
       "    <tr>\n",
       "      <th>Prometheus</th>\n",
       "      <td>2</td>\n",
       "      <td>Adventure,Mystery,Sci-Fi</td>\n",
       "      <td>Following clues to the origin of mankind, a te...</td>\n",
       "      <td>Ridley Scott</td>\n",
       "      <td>Noomi Rapace, Logan Marshall-Green, Michael Fa...</td>\n",
       "      <td>2012</td>\n",
       "      <td>124</td>\n",
       "      <td>7.0</td>\n",
       "      <td>485820</td>\n",
       "      <td>126.46</td>\n",
       "      <td>65.0</td>\n",
       "    </tr>\n",
       "    <tr>\n",
       "      <th>Split</th>\n",
       "      <td>3</td>\n",
       "      <td>Horror,Thriller</td>\n",
       "      <td>Three girls are kidnapped by a man with a diag...</td>\n",
       "      <td>M. Night Shyamalan</td>\n",
       "      <td>James McAvoy, Anya Taylor-Joy, Haley Lu Richar...</td>\n",
       "      <td>2016</td>\n",
       "      <td>117</td>\n",
       "      <td>7.3</td>\n",
       "      <td>157606</td>\n",
       "      <td>138.12</td>\n",
       "      <td>62.0</td>\n",
       "    </tr>\n",
       "    <tr>\n",
       "      <th>Sing</th>\n",
       "      <td>4</td>\n",
       "      <td>Animation,Comedy,Family</td>\n",
       "      <td>In a city of humanoid animals, a hustling thea...</td>\n",
       "      <td>Christophe Lourdelet</td>\n",
       "      <td>Matthew McConaughey,Reese Witherspoon, Seth Ma...</td>\n",
       "      <td>2016</td>\n",
       "      <td>108</td>\n",
       "      <td>7.2</td>\n",
       "      <td>60545</td>\n",
       "      <td>270.32</td>\n",
       "      <td>59.0</td>\n",
       "    </tr>\n",
       "    <tr>\n",
       "      <th>Suicide Squad</th>\n",
       "      <td>5</td>\n",
       "      <td>Action,Adventure,Fantasy</td>\n",
       "      <td>A secret government agency recruits some of th...</td>\n",
       "      <td>David Ayer</td>\n",
       "      <td>Will Smith, Jared Leto, Margot Robbie, Viola D...</td>\n",
       "      <td>2016</td>\n",
       "      <td>123</td>\n",
       "      <td>6.2</td>\n",
       "      <td>393727</td>\n",
       "      <td>325.02</td>\n",
       "      <td>40.0</td>\n",
       "    </tr>\n",
       "    <tr>\n",
       "      <th>...</th>\n",
       "      <td>...</td>\n",
       "      <td>...</td>\n",
       "      <td>...</td>\n",
       "      <td>...</td>\n",
       "      <td>...</td>\n",
       "      <td>...</td>\n",
       "      <td>...</td>\n",
       "      <td>...</td>\n",
       "      <td>...</td>\n",
       "      <td>...</td>\n",
       "      <td>...</td>\n",
       "    </tr>\n",
       "    <tr>\n",
       "      <th>Resident Evil: Afterlife</th>\n",
       "      <td>994</td>\n",
       "      <td>Action,Adventure,Horror</td>\n",
       "      <td>While still out to destroy the evil Umbrella C...</td>\n",
       "      <td>Paul W.S. Anderson</td>\n",
       "      <td>Milla Jovovich, Ali Larter, Wentworth Miller,K...</td>\n",
       "      <td>2010</td>\n",
       "      <td>97</td>\n",
       "      <td>5.9</td>\n",
       "      <td>140900</td>\n",
       "      <td>60.13</td>\n",
       "      <td>37.0</td>\n",
       "    </tr>\n",
       "    <tr>\n",
       "      <th>Project X</th>\n",
       "      <td>995</td>\n",
       "      <td>Comedy</td>\n",
       "      <td>3 high school seniors throw a birthday party t...</td>\n",
       "      <td>Nima Nourizadeh</td>\n",
       "      <td>Thomas Mann, Oliver Cooper, Jonathan Daniel Br...</td>\n",
       "      <td>2012</td>\n",
       "      <td>88</td>\n",
       "      <td>6.7</td>\n",
       "      <td>164088</td>\n",
       "      <td>54.72</td>\n",
       "      <td>48.0</td>\n",
       "    </tr>\n",
       "    <tr>\n",
       "      <th>Hostel: Part II</th>\n",
       "      <td>997</td>\n",
       "      <td>Horror</td>\n",
       "      <td>Three American college students studying abroa...</td>\n",
       "      <td>Eli Roth</td>\n",
       "      <td>Lauren German, Heather Matarazzo, Bijou Philli...</td>\n",
       "      <td>2007</td>\n",
       "      <td>94</td>\n",
       "      <td>5.5</td>\n",
       "      <td>73152</td>\n",
       "      <td>17.54</td>\n",
       "      <td>46.0</td>\n",
       "    </tr>\n",
       "    <tr>\n",
       "      <th>Step Up 2: The Streets</th>\n",
       "      <td>998</td>\n",
       "      <td>Drama,Music,Romance</td>\n",
       "      <td>Romantic sparks occur between two dance studen...</td>\n",
       "      <td>Jon M. Chu</td>\n",
       "      <td>Robert Hoffman, Briana Evigan, Cassie Ventura,...</td>\n",
       "      <td>2008</td>\n",
       "      <td>98</td>\n",
       "      <td>6.2</td>\n",
       "      <td>70699</td>\n",
       "      <td>58.01</td>\n",
       "      <td>50.0</td>\n",
       "    </tr>\n",
       "    <tr>\n",
       "      <th>Nine Lives</th>\n",
       "      <td>1000</td>\n",
       "      <td>Comedy,Family,Fantasy</td>\n",
       "      <td>A stuffy businessman finds himself trapped ins...</td>\n",
       "      <td>Barry Sonnenfeld</td>\n",
       "      <td>Kevin Spacey, Jennifer Garner, Robbie Amell,Ch...</td>\n",
       "      <td>2016</td>\n",
       "      <td>87</td>\n",
       "      <td>5.3</td>\n",
       "      <td>12435</td>\n",
       "      <td>19.64</td>\n",
       "      <td>11.0</td>\n",
       "    </tr>\n",
       "  </tbody>\n",
       "</table>\n",
       "<p>838 rows × 11 columns</p>\n",
       "</div>"
      ],
      "text/plain": [
       "                          dank                     genre  \\\n",
       "Title                                                      \n",
       "Guardians of the Galaxy      1   Action,Adventure,Sci-Fi   \n",
       "Prometheus                   2  Adventure,Mystery,Sci-Fi   \n",
       "Split                        3           Horror,Thriller   \n",
       "Sing                         4   Animation,Comedy,Family   \n",
       "Suicide Squad                5  Action,Adventure,Fantasy   \n",
       "...                        ...                       ...   \n",
       "Resident Evil: Afterlife   994   Action,Adventure,Horror   \n",
       "Project X                  995                    Comedy   \n",
       "Hostel: Part II            997                    Horror   \n",
       "Step Up 2: The Streets     998       Drama,Music,Romance   \n",
       "Nine Lives                1000     Comedy,Family,Fantasy   \n",
       "\n",
       "                                                                description  \\\n",
       "Title                                                                         \n",
       "Guardians of the Galaxy   A group of intergalactic criminals are forced ...   \n",
       "Prometheus                Following clues to the origin of mankind, a te...   \n",
       "Split                     Three girls are kidnapped by a man with a diag...   \n",
       "Sing                      In a city of humanoid animals, a hustling thea...   \n",
       "Suicide Squad             A secret government agency recruits some of th...   \n",
       "...                                                                     ...   \n",
       "Resident Evil: Afterlife  While still out to destroy the evil Umbrella C...   \n",
       "Project X                 3 high school seniors throw a birthday party t...   \n",
       "Hostel: Part II           Three American college students studying abroa...   \n",
       "Step Up 2: The Streets    Romantic sparks occur between two dance studen...   \n",
       "Nine Lives                A stuffy businessman finds himself trapped ins...   \n",
       "\n",
       "                                      director  \\\n",
       "Title                                            \n",
       "Guardians of the Galaxy             James Gunn   \n",
       "Prometheus                        Ridley Scott   \n",
       "Split                       M. Night Shyamalan   \n",
       "Sing                      Christophe Lourdelet   \n",
       "Suicide Squad                       David Ayer   \n",
       "...                                        ...   \n",
       "Resident Evil: Afterlife    Paul W.S. Anderson   \n",
       "Project X                      Nima Nourizadeh   \n",
       "Hostel: Part II                       Eli Roth   \n",
       "Step Up 2: The Streets              Jon M. Chu   \n",
       "Nine Lives                    Barry Sonnenfeld   \n",
       "\n",
       "                                                                     actors  \\\n",
       "Title                                                                         \n",
       "Guardians of the Galaxy   Chris Pratt, Vin Diesel, Bradley Cooper, Zoe S...   \n",
       "Prometheus                Noomi Rapace, Logan Marshall-Green, Michael Fa...   \n",
       "Split                     James McAvoy, Anya Taylor-Joy, Haley Lu Richar...   \n",
       "Sing                      Matthew McConaughey,Reese Witherspoon, Seth Ma...   \n",
       "Suicide Squad             Will Smith, Jared Leto, Margot Robbie, Viola D...   \n",
       "...                                                                     ...   \n",
       "Resident Evil: Afterlife  Milla Jovovich, Ali Larter, Wentworth Miller,K...   \n",
       "Project X                 Thomas Mann, Oliver Cooper, Jonathan Daniel Br...   \n",
       "Hostel: Part II           Lauren German, Heather Matarazzo, Bijou Philli...   \n",
       "Step Up 2: The Streets    Robert Hoffman, Briana Evigan, Cassie Ventura,...   \n",
       "Nine Lives                Kevin Spacey, Jennifer Garner, Robbie Amell,Ch...   \n",
       "\n",
       "                          year  runtime (minutes)  rating   votes  \\\n",
       "Title                                                               \n",
       "Guardians of the Galaxy   2014                121     8.1  757074   \n",
       "Prometheus                2012                124     7.0  485820   \n",
       "Split                     2016                117     7.3  157606   \n",
       "Sing                      2016                108     7.2   60545   \n",
       "Suicide Squad             2016                123     6.2  393727   \n",
       "...                        ...                ...     ...     ...   \n",
       "Resident Evil: Afterlife  2010                 97     5.9  140900   \n",
       "Project X                 2012                 88     6.7  164088   \n",
       "Hostel: Part II           2007                 94     5.5   73152   \n",
       "Step Up 2: The Streets    2008                 98     6.2   70699   \n",
       "Nine Lives                2016                 87     5.3   12435   \n",
       "\n",
       "                          revenue (millions)  metascore  \n",
       "Title                                                    \n",
       "Guardians of the Galaxy               333.13       76.0  \n",
       "Prometheus                            126.46       65.0  \n",
       "Split                                 138.12       62.0  \n",
       "Sing                                  270.32       59.0  \n",
       "Suicide Squad                         325.02       40.0  \n",
       "...                                      ...        ...  \n",
       "Resident Evil: Afterlife               60.13       37.0  \n",
       "Project X                              54.72       48.0  \n",
       "Hostel: Part II                        17.54       46.0  \n",
       "Step Up 2: The Streets                 58.01       50.0  \n",
       "Nine Lives                             19.64       11.0  \n",
       "\n",
       "[838 rows x 11 columns]"
      ]
     },
     "execution_count": 24,
     "metadata": {},
     "output_type": "execute_result"
    }
   ],
   "source": [
    "df.dropna()"
   ]
  },
  {
   "cell_type": "markdown",
   "id": "2ef11f6d",
   "metadata": {},
   "source": [
    "## 5. Temizlenmiş veri seti içinden en yüksek rating e sahip 250 filmi seçerek \"top250\" isminde bir data seti oluşturun ve bunu lokalinize bu isimle kaydedin. Ardından bu yeni data setini tekrar pandas kütüphanesini kullanarak okuyun."
   ]
  },
  {
   "cell_type": "code",
   "execution_count": 27,
   "id": "3961a744",
   "metadata": {},
   "outputs": [],
   "source": [
    "top250 = df.sort_values('rating', ascending=False)"
   ]
  },
  {
   "cell_type": "code",
   "execution_count": 28,
   "id": "b6d9069a",
   "metadata": {
    "ExecuteTime": {
     "end_time": "2023-09-24T15:09:00.630452Z",
     "start_time": "2023-09-24T15:09:00.601326Z"
    },
    "scrolled": false
   },
   "outputs": [
    {
     "data": {
      "text/html": [
       "<div>\n",
       "<style scoped>\n",
       "    .dataframe tbody tr th:only-of-type {\n",
       "        vertical-align: middle;\n",
       "    }\n",
       "\n",
       "    .dataframe tbody tr th {\n",
       "        vertical-align: top;\n",
       "    }\n",
       "\n",
       "    .dataframe thead th {\n",
       "        text-align: right;\n",
       "    }\n",
       "</style>\n",
       "<table border=\"1\" class=\"dataframe\">\n",
       "  <thead>\n",
       "    <tr style=\"text-align: right;\">\n",
       "      <th></th>\n",
       "      <th>dank</th>\n",
       "      <th>genre</th>\n",
       "      <th>description</th>\n",
       "      <th>director</th>\n",
       "      <th>actors</th>\n",
       "      <th>year</th>\n",
       "      <th>runtime (minutes)</th>\n",
       "      <th>rating</th>\n",
       "      <th>votes</th>\n",
       "      <th>revenue (millions)</th>\n",
       "      <th>metascore</th>\n",
       "    </tr>\n",
       "    <tr>\n",
       "      <th>Title</th>\n",
       "      <th></th>\n",
       "      <th></th>\n",
       "      <th></th>\n",
       "      <th></th>\n",
       "      <th></th>\n",
       "      <th></th>\n",
       "      <th></th>\n",
       "      <th></th>\n",
       "      <th></th>\n",
       "      <th></th>\n",
       "      <th></th>\n",
       "    </tr>\n",
       "  </thead>\n",
       "  <tbody>\n",
       "    <tr>\n",
       "      <th>The Dark Knight</th>\n",
       "      <td>55</td>\n",
       "      <td>Action,Crime,Drama</td>\n",
       "      <td>When the menace known as the Joker wreaks havo...</td>\n",
       "      <td>Christopher Nolan</td>\n",
       "      <td>Christian Bale, Heath Ledger, Aaron Eckhart,Mi...</td>\n",
       "      <td>2008</td>\n",
       "      <td>152</td>\n",
       "      <td>9.0</td>\n",
       "      <td>1791916</td>\n",
       "      <td>533.32</td>\n",
       "      <td>82.0</td>\n",
       "    </tr>\n",
       "    <tr>\n",
       "      <th>Inception</th>\n",
       "      <td>81</td>\n",
       "      <td>Action,Adventure,Sci-Fi</td>\n",
       "      <td>A thief, who steals corporate secrets through ...</td>\n",
       "      <td>Christopher Nolan</td>\n",
       "      <td>Leonardo DiCaprio, Joseph Gordon-Levitt, Ellen...</td>\n",
       "      <td>2010</td>\n",
       "      <td>148</td>\n",
       "      <td>8.8</td>\n",
       "      <td>1583625</td>\n",
       "      <td>292.57</td>\n",
       "      <td>74.0</td>\n",
       "    </tr>\n",
       "    <tr>\n",
       "      <th>Dangal</th>\n",
       "      <td>118</td>\n",
       "      <td>Action,Biography,Drama</td>\n",
       "      <td>Former wrestler Mahavir Singh Phogat and his t...</td>\n",
       "      <td>Nitesh Tiwari</td>\n",
       "      <td>Aamir Khan, Sakshi Tanwar, Fatima Sana Shaikh,...</td>\n",
       "      <td>2016</td>\n",
       "      <td>161</td>\n",
       "      <td>8.8</td>\n",
       "      <td>48969</td>\n",
       "      <td>11.15</td>\n",
       "      <td>NaN</td>\n",
       "    </tr>\n",
       "    <tr>\n",
       "      <th>Kimi no na wa</th>\n",
       "      <td>97</td>\n",
       "      <td>Animation,Drama,Fantasy</td>\n",
       "      <td>Two strangers find themselves linked in a biza...</td>\n",
       "      <td>Makoto Shinkai</td>\n",
       "      <td>Ryûnosuke Kamiki, Mone Kamishiraishi, Ryô Nari...</td>\n",
       "      <td>2016</td>\n",
       "      <td>106</td>\n",
       "      <td>8.6</td>\n",
       "      <td>34110</td>\n",
       "      <td>4.68</td>\n",
       "      <td>79.0</td>\n",
       "    </tr>\n",
       "    <tr>\n",
       "      <th>Interstellar</th>\n",
       "      <td>37</td>\n",
       "      <td>Adventure,Drama,Sci-Fi</td>\n",
       "      <td>A team of explorers travel through a wormhole ...</td>\n",
       "      <td>Christopher Nolan</td>\n",
       "      <td>Matthew McConaughey, Anne Hathaway, Jessica Ch...</td>\n",
       "      <td>2014</td>\n",
       "      <td>169</td>\n",
       "      <td>8.6</td>\n",
       "      <td>1047747</td>\n",
       "      <td>187.99</td>\n",
       "      <td>74.0</td>\n",
       "    </tr>\n",
       "  </tbody>\n",
       "</table>\n",
       "</div>"
      ],
      "text/plain": [
       "                 dank                    genre  \\\n",
       "Title                                            \n",
       "The Dark Knight    55       Action,Crime,Drama   \n",
       "Inception          81  Action,Adventure,Sci-Fi   \n",
       "Dangal            118   Action,Biography,Drama   \n",
       "Kimi no na wa      97  Animation,Drama,Fantasy   \n",
       "Interstellar       37   Adventure,Drama,Sci-Fi   \n",
       "\n",
       "                                                       description  \\\n",
       "Title                                                                \n",
       "The Dark Knight  When the menace known as the Joker wreaks havo...   \n",
       "Inception        A thief, who steals corporate secrets through ...   \n",
       "Dangal           Former wrestler Mahavir Singh Phogat and his t...   \n",
       "Kimi no na wa    Two strangers find themselves linked in a biza...   \n",
       "Interstellar     A team of explorers travel through a wormhole ...   \n",
       "\n",
       "                          director  \\\n",
       "Title                                \n",
       "The Dark Knight  Christopher Nolan   \n",
       "Inception        Christopher Nolan   \n",
       "Dangal               Nitesh Tiwari   \n",
       "Kimi no na wa       Makoto Shinkai   \n",
       "Interstellar     Christopher Nolan   \n",
       "\n",
       "                                                            actors  year  \\\n",
       "Title                                                                      \n",
       "The Dark Knight  Christian Bale, Heath Ledger, Aaron Eckhart,Mi...  2008   \n",
       "Inception        Leonardo DiCaprio, Joseph Gordon-Levitt, Ellen...  2010   \n",
       "Dangal           Aamir Khan, Sakshi Tanwar, Fatima Sana Shaikh,...  2016   \n",
       "Kimi no na wa    Ryûnosuke Kamiki, Mone Kamishiraishi, Ryô Nari...  2016   \n",
       "Interstellar     Matthew McConaughey, Anne Hathaway, Jessica Ch...  2014   \n",
       "\n",
       "                 runtime (minutes)  rating    votes  revenue (millions)  \\\n",
       "Title                                                                     \n",
       "The Dark Knight                152     9.0  1791916              533.32   \n",
       "Inception                      148     8.8  1583625              292.57   \n",
       "Dangal                         161     8.8    48969               11.15   \n",
       "Kimi no na wa                  106     8.6    34110                4.68   \n",
       "Interstellar                   169     8.6  1047747              187.99   \n",
       "\n",
       "                 metascore  \n",
       "Title                       \n",
       "The Dark Knight       82.0  \n",
       "Inception             74.0  \n",
       "Dangal                 NaN  \n",
       "Kimi no na wa         79.0  \n",
       "Interstellar          74.0  "
      ]
     },
     "execution_count": 28,
     "metadata": {},
     "output_type": "execute_result"
    }
   ],
   "source": [
    "# 'rating' sütununa göre sıralama yapma\n",
    "top250 = df.sort_values('rating', ascending=False)\n",
    "\n",
    "# En yüksek 250 filmi içeren yeni veri setini oluşturma\n",
    "top250 = top250[:250]\n",
    "top250.head()\n",
    "\n",
    "# top250 = new_movies.sort_values('rating', ascending=False)[:250].reset_index(drop=True)\n",
    "# top250 = top250.reset_index(drop=True)\n",
    "# top250 = new_movies.nlargest(250, 'rating').reset_index(drop=True)\n",
    "# top250 = new_movies.sort_values('rating', ascending=False).iloc[:250].reset_index(drop=True)\n",
    "# top250 = new_movies.sort_values('rating', ascending=False).loc[new_movies.index[:250]].reset_index(drop=True)"
   ]
  },
  {
   "cell_type": "code",
   "execution_count": 29,
   "id": "24786d56",
   "metadata": {
    "ExecuteTime": {
     "end_time": "2023-09-24T15:09:00.652924Z",
     "start_time": "2023-09-24T15:09:00.634455Z"
    }
   },
   "outputs": [],
   "source": [
    "# Oluşan yeni veri setini csv dosyası olarak lokale kaydetme\n",
    "top250.to_csv('top250.csv')"
   ]
  },
  {
   "cell_type": "code",
   "execution_count": null,
   "id": "91146a60",
   "metadata": {
    "ExecuteTime": {
     "end_time": "2023-09-24T15:09:00.660254Z",
     "start_time": "2023-09-24T15:09:00.655926Z"
    }
   },
   "outputs": [],
   "source": [
    "#farklı format kaydetmeleri\n",
    "\n",
    "#df.to_csv('top250.csv') # Oluşan yeni veri setini csv dosyası olarak lokale kaydetme\n",
    "\n",
    "#df.to_json('top250.json') # Oluşan yeni veri setini json dosyası olarak lokale kaydetme\n",
    "\n",
    "#df.to_sql('top250', con) # Oluşan yeni veri setini sql dosyası olarak lokale kaydetme"
   ]
  },
  {
   "cell_type": "markdown",
   "id": "a4759dca",
   "metadata": {},
   "source": [
    "## 6. Veri setinin boyutunu ve özelliklerini inceleyin"
   ]
  },
  {
   "cell_type": "markdown",
   "id": "e6a962c2",
   "metadata": {},
   "source": [
    "### a. Veri setinin boyutunu inceleme"
   ]
  },
  {
   "cell_type": "code",
   "execution_count": 30,
   "id": "63a9c107",
   "metadata": {},
   "outputs": [
    {
     "data": {
      "text/plain": [
       "(250, 11)"
      ]
     },
     "execution_count": 30,
     "metadata": {},
     "output_type": "execute_result"
    }
   ],
   "source": [
    "top250.shape"
   ]
  },
  {
   "cell_type": "markdown",
   "id": "ab6f2e67",
   "metadata": {},
   "source": [
    "###  b. Veri setinin ilk 5 gözlemine göz atma"
   ]
  },
  {
   "cell_type": "code",
   "execution_count": 31,
   "id": "b5895456",
   "metadata": {},
   "outputs": [
    {
     "data": {
      "text/html": [
       "<div>\n",
       "<style scoped>\n",
       "    .dataframe tbody tr th:only-of-type {\n",
       "        vertical-align: middle;\n",
       "    }\n",
       "\n",
       "    .dataframe tbody tr th {\n",
       "        vertical-align: top;\n",
       "    }\n",
       "\n",
       "    .dataframe thead th {\n",
       "        text-align: right;\n",
       "    }\n",
       "</style>\n",
       "<table border=\"1\" class=\"dataframe\">\n",
       "  <thead>\n",
       "    <tr style=\"text-align: right;\">\n",
       "      <th></th>\n",
       "      <th>dank</th>\n",
       "      <th>genre</th>\n",
       "      <th>description</th>\n",
       "      <th>director</th>\n",
       "      <th>actors</th>\n",
       "      <th>year</th>\n",
       "      <th>runtime (minutes)</th>\n",
       "      <th>rating</th>\n",
       "      <th>votes</th>\n",
       "      <th>revenue (millions)</th>\n",
       "      <th>metascore</th>\n",
       "    </tr>\n",
       "    <tr>\n",
       "      <th>Title</th>\n",
       "      <th></th>\n",
       "      <th></th>\n",
       "      <th></th>\n",
       "      <th></th>\n",
       "      <th></th>\n",
       "      <th></th>\n",
       "      <th></th>\n",
       "      <th></th>\n",
       "      <th></th>\n",
       "      <th></th>\n",
       "      <th></th>\n",
       "    </tr>\n",
       "  </thead>\n",
       "  <tbody>\n",
       "    <tr>\n",
       "      <th>The Dark Knight</th>\n",
       "      <td>55</td>\n",
       "      <td>Action,Crime,Drama</td>\n",
       "      <td>When the menace known as the Joker wreaks havo...</td>\n",
       "      <td>Christopher Nolan</td>\n",
       "      <td>Christian Bale, Heath Ledger, Aaron Eckhart,Mi...</td>\n",
       "      <td>2008</td>\n",
       "      <td>152</td>\n",
       "      <td>9.0</td>\n",
       "      <td>1791916</td>\n",
       "      <td>533.32</td>\n",
       "      <td>82.0</td>\n",
       "    </tr>\n",
       "    <tr>\n",
       "      <th>Inception</th>\n",
       "      <td>81</td>\n",
       "      <td>Action,Adventure,Sci-Fi</td>\n",
       "      <td>A thief, who steals corporate secrets through ...</td>\n",
       "      <td>Christopher Nolan</td>\n",
       "      <td>Leonardo DiCaprio, Joseph Gordon-Levitt, Ellen...</td>\n",
       "      <td>2010</td>\n",
       "      <td>148</td>\n",
       "      <td>8.8</td>\n",
       "      <td>1583625</td>\n",
       "      <td>292.57</td>\n",
       "      <td>74.0</td>\n",
       "    </tr>\n",
       "    <tr>\n",
       "      <th>Dangal</th>\n",
       "      <td>118</td>\n",
       "      <td>Action,Biography,Drama</td>\n",
       "      <td>Former wrestler Mahavir Singh Phogat and his t...</td>\n",
       "      <td>Nitesh Tiwari</td>\n",
       "      <td>Aamir Khan, Sakshi Tanwar, Fatima Sana Shaikh,...</td>\n",
       "      <td>2016</td>\n",
       "      <td>161</td>\n",
       "      <td>8.8</td>\n",
       "      <td>48969</td>\n",
       "      <td>11.15</td>\n",
       "      <td>NaN</td>\n",
       "    </tr>\n",
       "    <tr>\n",
       "      <th>Kimi no na wa</th>\n",
       "      <td>97</td>\n",
       "      <td>Animation,Drama,Fantasy</td>\n",
       "      <td>Two strangers find themselves linked in a biza...</td>\n",
       "      <td>Makoto Shinkai</td>\n",
       "      <td>Ryûnosuke Kamiki, Mone Kamishiraishi, Ryô Nari...</td>\n",
       "      <td>2016</td>\n",
       "      <td>106</td>\n",
       "      <td>8.6</td>\n",
       "      <td>34110</td>\n",
       "      <td>4.68</td>\n",
       "      <td>79.0</td>\n",
       "    </tr>\n",
       "    <tr>\n",
       "      <th>Interstellar</th>\n",
       "      <td>37</td>\n",
       "      <td>Adventure,Drama,Sci-Fi</td>\n",
       "      <td>A team of explorers travel through a wormhole ...</td>\n",
       "      <td>Christopher Nolan</td>\n",
       "      <td>Matthew McConaughey, Anne Hathaway, Jessica Ch...</td>\n",
       "      <td>2014</td>\n",
       "      <td>169</td>\n",
       "      <td>8.6</td>\n",
       "      <td>1047747</td>\n",
       "      <td>187.99</td>\n",
       "      <td>74.0</td>\n",
       "    </tr>\n",
       "  </tbody>\n",
       "</table>\n",
       "</div>"
      ],
      "text/plain": [
       "                 dank                    genre  \\\n",
       "Title                                            \n",
       "The Dark Knight    55       Action,Crime,Drama   \n",
       "Inception          81  Action,Adventure,Sci-Fi   \n",
       "Dangal            118   Action,Biography,Drama   \n",
       "Kimi no na wa      97  Animation,Drama,Fantasy   \n",
       "Interstellar       37   Adventure,Drama,Sci-Fi   \n",
       "\n",
       "                                                       description  \\\n",
       "Title                                                                \n",
       "The Dark Knight  When the menace known as the Joker wreaks havo...   \n",
       "Inception        A thief, who steals corporate secrets through ...   \n",
       "Dangal           Former wrestler Mahavir Singh Phogat and his t...   \n",
       "Kimi no na wa    Two strangers find themselves linked in a biza...   \n",
       "Interstellar     A team of explorers travel through a wormhole ...   \n",
       "\n",
       "                          director  \\\n",
       "Title                                \n",
       "The Dark Knight  Christopher Nolan   \n",
       "Inception        Christopher Nolan   \n",
       "Dangal               Nitesh Tiwari   \n",
       "Kimi no na wa       Makoto Shinkai   \n",
       "Interstellar     Christopher Nolan   \n",
       "\n",
       "                                                            actors  year  \\\n",
       "Title                                                                      \n",
       "The Dark Knight  Christian Bale, Heath Ledger, Aaron Eckhart,Mi...  2008   \n",
       "Inception        Leonardo DiCaprio, Joseph Gordon-Levitt, Ellen...  2010   \n",
       "Dangal           Aamir Khan, Sakshi Tanwar, Fatima Sana Shaikh,...  2016   \n",
       "Kimi no na wa    Ryûnosuke Kamiki, Mone Kamishiraishi, Ryô Nari...  2016   \n",
       "Interstellar     Matthew McConaughey, Anne Hathaway, Jessica Ch...  2014   \n",
       "\n",
       "                 runtime (minutes)  rating    votes  revenue (millions)  \\\n",
       "Title                                                                     \n",
       "The Dark Knight                152     9.0  1791916              533.32   \n",
       "Inception                      148     8.8  1583625              292.57   \n",
       "Dangal                         161     8.8    48969               11.15   \n",
       "Kimi no na wa                  106     8.6    34110                4.68   \n",
       "Interstellar                   169     8.6  1047747              187.99   \n",
       "\n",
       "                 metascore  \n",
       "Title                       \n",
       "The Dark Knight       82.0  \n",
       "Inception             74.0  \n",
       "Dangal                 NaN  \n",
       "Kimi no na wa         79.0  \n",
       "Interstellar          74.0  "
      ]
     },
     "execution_count": 31,
     "metadata": {},
     "output_type": "execute_result"
    }
   ],
   "source": [
    "top250.head()"
   ]
  },
  {
   "cell_type": "markdown",
   "id": "d1690553",
   "metadata": {},
   "source": [
    "### c. Random olarak 10 gözleme bakma    "
   ]
  },
  {
   "cell_type": "code",
   "execution_count": 33,
   "id": "cfc252b3",
   "metadata": {},
   "outputs": [
    {
     "data": {
      "text/html": [
       "<div>\n",
       "<style scoped>\n",
       "    .dataframe tbody tr th:only-of-type {\n",
       "        vertical-align: middle;\n",
       "    }\n",
       "\n",
       "    .dataframe tbody tr th {\n",
       "        vertical-align: top;\n",
       "    }\n",
       "\n",
       "    .dataframe thead th {\n",
       "        text-align: right;\n",
       "    }\n",
       "</style>\n",
       "<table border=\"1\" class=\"dataframe\">\n",
       "  <thead>\n",
       "    <tr style=\"text-align: right;\">\n",
       "      <th></th>\n",
       "      <th>dank</th>\n",
       "      <th>genre</th>\n",
       "      <th>description</th>\n",
       "      <th>director</th>\n",
       "      <th>actors</th>\n",
       "      <th>year</th>\n",
       "      <th>runtime (minutes)</th>\n",
       "      <th>rating</th>\n",
       "      <th>votes</th>\n",
       "      <th>revenue (millions)</th>\n",
       "      <th>metascore</th>\n",
       "    </tr>\n",
       "    <tr>\n",
       "      <th>Title</th>\n",
       "      <th></th>\n",
       "      <th></th>\n",
       "      <th></th>\n",
       "      <th></th>\n",
       "      <th></th>\n",
       "      <th></th>\n",
       "      <th></th>\n",
       "      <th></th>\n",
       "      <th></th>\n",
       "      <th></th>\n",
       "      <th></th>\n",
       "    </tr>\n",
       "  </thead>\n",
       "  <tbody>\n",
       "    <tr>\n",
       "      <th>Edge of Tomorrow</th>\n",
       "      <td>201</td>\n",
       "      <td>Action,Adventure,Sci-Fi</td>\n",
       "      <td>A soldier fighting aliens gets to relive the s...</td>\n",
       "      <td>Doug Liman</td>\n",
       "      <td>Tom Cruise, Emily Blunt, Bill Paxton, Brendan ...</td>\n",
       "      <td>2014</td>\n",
       "      <td>113</td>\n",
       "      <td>7.9</td>\n",
       "      <td>471815</td>\n",
       "      <td>100.19</td>\n",
       "      <td>71.0</td>\n",
       "    </tr>\n",
       "    <tr>\n",
       "      <th>The Hobbit: The Desolation of Smaug</th>\n",
       "      <td>519</td>\n",
       "      <td>Adventure,Fantasy</td>\n",
       "      <td>The dwarves, along with Bilbo Baggins and Gand...</td>\n",
       "      <td>Peter Jackson</td>\n",
       "      <td>Ian McKellen, Martin Freeman, Richard Armitage...</td>\n",
       "      <td>2013</td>\n",
       "      <td>161</td>\n",
       "      <td>7.9</td>\n",
       "      <td>513744</td>\n",
       "      <td>258.36</td>\n",
       "      <td>66.0</td>\n",
       "    </tr>\n",
       "    <tr>\n",
       "      <th>The Curious Case of Benjamin Button</th>\n",
       "      <td>426</td>\n",
       "      <td>Drama,Fantasy,Romance</td>\n",
       "      <td>Tells the story of Benjamin Button, a man who ...</td>\n",
       "      <td>David Fincher</td>\n",
       "      <td>Brad Pitt, Cate Blanchett, Tilda Swinton, Juli...</td>\n",
       "      <td>2008</td>\n",
       "      <td>166</td>\n",
       "      <td>7.8</td>\n",
       "      <td>485075</td>\n",
       "      <td>127.49</td>\n",
       "      <td>70.0</td>\n",
       "    </tr>\n",
       "    <tr>\n",
       "      <th>The Illusionist</th>\n",
       "      <td>728</td>\n",
       "      <td>Drama,Mystery,Romance</td>\n",
       "      <td>In turn-of-the-century Vienna, a magician uses...</td>\n",
       "      <td>Neil Burger</td>\n",
       "      <td>Edward Norton, Jessica Biel, Paul Giamatti, Ru...</td>\n",
       "      <td>2006</td>\n",
       "      <td>110</td>\n",
       "      <td>7.6</td>\n",
       "      <td>309934</td>\n",
       "      <td>39.83</td>\n",
       "      <td>68.0</td>\n",
       "    </tr>\n",
       "    <tr>\n",
       "      <th>Incendies</th>\n",
       "      <td>714</td>\n",
       "      <td>Drama,Mystery,War</td>\n",
       "      <td>Twins journey to the Middle East to discover t...</td>\n",
       "      <td>Denis Villeneuve</td>\n",
       "      <td>Lubna Azabal, Mélissa Désormeaux-Poulin, Maxim...</td>\n",
       "      <td>2010</td>\n",
       "      <td>131</td>\n",
       "      <td>8.2</td>\n",
       "      <td>92863</td>\n",
       "      <td>6.86</td>\n",
       "      <td>80.0</td>\n",
       "    </tr>\n",
       "    <tr>\n",
       "      <th>Avengers: Age of Ultron</th>\n",
       "      <td>95</td>\n",
       "      <td>Action,Adventure,Sci-Fi</td>\n",
       "      <td>When Tony Stark and Bruce Banner try to jump-s...</td>\n",
       "      <td>Joss Whedon</td>\n",
       "      <td>Robert Downey Jr., Chris Evans, Mark Ruffalo, ...</td>\n",
       "      <td>2015</td>\n",
       "      <td>141</td>\n",
       "      <td>7.4</td>\n",
       "      <td>516895</td>\n",
       "      <td>458.99</td>\n",
       "      <td>66.0</td>\n",
       "    </tr>\n",
       "    <tr>\n",
       "      <th>12 Years a Slave</th>\n",
       "      <td>112</td>\n",
       "      <td>Biography,Drama,History</td>\n",
       "      <td>In the antebellum United States, Solomon North...</td>\n",
       "      <td>Steve McQueen</td>\n",
       "      <td>Chiwetel Ejiofor, Michael Kenneth Williams, Mi...</td>\n",
       "      <td>2013</td>\n",
       "      <td>134</td>\n",
       "      <td>8.1</td>\n",
       "      <td>486338</td>\n",
       "      <td>56.67</td>\n",
       "      <td>96.0</td>\n",
       "    </tr>\n",
       "    <tr>\n",
       "      <th>Sully</th>\n",
       "      <td>60</td>\n",
       "      <td>Biography,Drama</td>\n",
       "      <td>The story of Chesley Sullenberger, an American...</td>\n",
       "      <td>Clint Eastwood</td>\n",
       "      <td>Tom Hanks, Aaron Eckhart, Laura Linney, Valeri...</td>\n",
       "      <td>2016</td>\n",
       "      <td>96</td>\n",
       "      <td>7.5</td>\n",
       "      <td>137608</td>\n",
       "      <td>125.07</td>\n",
       "      <td>74.0</td>\n",
       "    </tr>\n",
       "    <tr>\n",
       "      <th>Fantastic Beasts and Where to Find Them</th>\n",
       "      <td>11</td>\n",
       "      <td>Adventure,Family,Fantasy</td>\n",
       "      <td>The adventures of writer Newt Scamander in New...</td>\n",
       "      <td>David Yates</td>\n",
       "      <td>Eddie Redmayne, Katherine Waterston, Alison Su...</td>\n",
       "      <td>2016</td>\n",
       "      <td>133</td>\n",
       "      <td>7.5</td>\n",
       "      <td>232072</td>\n",
       "      <td>234.02</td>\n",
       "      <td>66.0</td>\n",
       "    </tr>\n",
       "    <tr>\n",
       "      <th>The Hunger Games: Catching Fire</th>\n",
       "      <td>579</td>\n",
       "      <td>Action,Adventure,Mystery</td>\n",
       "      <td>Katniss Everdeen and Peeta Mellark become targ...</td>\n",
       "      <td>Francis Lawrence</td>\n",
       "      <td>Jennifer Lawrence, Josh Hutcherson, Liam Hemsw...</td>\n",
       "      <td>2013</td>\n",
       "      <td>146</td>\n",
       "      <td>7.6</td>\n",
       "      <td>525646</td>\n",
       "      <td>424.65</td>\n",
       "      <td>76.0</td>\n",
       "    </tr>\n",
       "  </tbody>\n",
       "</table>\n",
       "</div>"
      ],
      "text/plain": [
       "                                         dank                     genre  \\\n",
       "Title                                                                     \n",
       "Edge of Tomorrow                          201   Action,Adventure,Sci-Fi   \n",
       "The Hobbit: The Desolation of Smaug       519         Adventure,Fantasy   \n",
       "The Curious Case of Benjamin Button       426     Drama,Fantasy,Romance   \n",
       "The Illusionist                           728     Drama,Mystery,Romance   \n",
       "Incendies                                 714         Drama,Mystery,War   \n",
       "Avengers: Age of Ultron                    95   Action,Adventure,Sci-Fi   \n",
       "12 Years a Slave                          112   Biography,Drama,History   \n",
       "Sully                                      60           Biography,Drama   \n",
       "Fantastic Beasts and Where to Find Them    11  Adventure,Family,Fantasy   \n",
       "The Hunger Games: Catching Fire           579  Action,Adventure,Mystery   \n",
       "\n",
       "                                                                               description  \\\n",
       "Title                                                                                        \n",
       "Edge of Tomorrow                         A soldier fighting aliens gets to relive the s...   \n",
       "The Hobbit: The Desolation of Smaug      The dwarves, along with Bilbo Baggins and Gand...   \n",
       "The Curious Case of Benjamin Button      Tells the story of Benjamin Button, a man who ...   \n",
       "The Illusionist                          In turn-of-the-century Vienna, a magician uses...   \n",
       "Incendies                                Twins journey to the Middle East to discover t...   \n",
       "Avengers: Age of Ultron                  When Tony Stark and Bruce Banner try to jump-s...   \n",
       "12 Years a Slave                         In the antebellum United States, Solomon North...   \n",
       "Sully                                    The story of Chesley Sullenberger, an American...   \n",
       "Fantastic Beasts and Where to Find Them  The adventures of writer Newt Scamander in New...   \n",
       "The Hunger Games: Catching Fire          Katniss Everdeen and Peeta Mellark become targ...   \n",
       "\n",
       "                                                 director  \\\n",
       "Title                                                       \n",
       "Edge of Tomorrow                               Doug Liman   \n",
       "The Hobbit: The Desolation of Smaug         Peter Jackson   \n",
       "The Curious Case of Benjamin Button         David Fincher   \n",
       "The Illusionist                               Neil Burger   \n",
       "Incendies                                Denis Villeneuve   \n",
       "Avengers: Age of Ultron                       Joss Whedon   \n",
       "12 Years a Slave                            Steve McQueen   \n",
       "Sully                                      Clint Eastwood   \n",
       "Fantastic Beasts and Where to Find Them       David Yates   \n",
       "The Hunger Games: Catching Fire          Francis Lawrence   \n",
       "\n",
       "                                                                                    actors  \\\n",
       "Title                                                                                        \n",
       "Edge of Tomorrow                         Tom Cruise, Emily Blunt, Bill Paxton, Brendan ...   \n",
       "The Hobbit: The Desolation of Smaug      Ian McKellen, Martin Freeman, Richard Armitage...   \n",
       "The Curious Case of Benjamin Button      Brad Pitt, Cate Blanchett, Tilda Swinton, Juli...   \n",
       "The Illusionist                          Edward Norton, Jessica Biel, Paul Giamatti, Ru...   \n",
       "Incendies                                Lubna Azabal, Mélissa Désormeaux-Poulin, Maxim...   \n",
       "Avengers: Age of Ultron                  Robert Downey Jr., Chris Evans, Mark Ruffalo, ...   \n",
       "12 Years a Slave                         Chiwetel Ejiofor, Michael Kenneth Williams, Mi...   \n",
       "Sully                                    Tom Hanks, Aaron Eckhart, Laura Linney, Valeri...   \n",
       "Fantastic Beasts and Where to Find Them  Eddie Redmayne, Katherine Waterston, Alison Su...   \n",
       "The Hunger Games: Catching Fire          Jennifer Lawrence, Josh Hutcherson, Liam Hemsw...   \n",
       "\n",
       "                                         year  runtime (minutes)  rating  \\\n",
       "Title                                                                      \n",
       "Edge of Tomorrow                         2014                113     7.9   \n",
       "The Hobbit: The Desolation of Smaug      2013                161     7.9   \n",
       "The Curious Case of Benjamin Button      2008                166     7.8   \n",
       "The Illusionist                          2006                110     7.6   \n",
       "Incendies                                2010                131     8.2   \n",
       "Avengers: Age of Ultron                  2015                141     7.4   \n",
       "12 Years a Slave                         2013                134     8.1   \n",
       "Sully                                    2016                 96     7.5   \n",
       "Fantastic Beasts and Where to Find Them  2016                133     7.5   \n",
       "The Hunger Games: Catching Fire          2013                146     7.6   \n",
       "\n",
       "                                          votes  revenue (millions)  metascore  \n",
       "Title                                                                           \n",
       "Edge of Tomorrow                         471815              100.19       71.0  \n",
       "The Hobbit: The Desolation of Smaug      513744              258.36       66.0  \n",
       "The Curious Case of Benjamin Button      485075              127.49       70.0  \n",
       "The Illusionist                          309934               39.83       68.0  \n",
       "Incendies                                 92863                6.86       80.0  \n",
       "Avengers: Age of Ultron                  516895              458.99       66.0  \n",
       "12 Years a Slave                         486338               56.67       96.0  \n",
       "Sully                                    137608              125.07       74.0  \n",
       "Fantastic Beasts and Where to Find Them  232072              234.02       66.0  \n",
       "The Hunger Games: Catching Fire          525646              424.65       76.0  "
      ]
     },
     "execution_count": 33,
     "metadata": {},
     "output_type": "execute_result"
    }
   ],
   "source": [
    "top250.sample(10)"
   ]
  },
  {
   "cell_type": "markdown",
   "id": "221583fe",
   "metadata": {},
   "source": [
    "### d. Veri setinin sütunlarına göz atma"
   ]
  },
  {
   "cell_type": "code",
   "execution_count": 35,
   "id": "373311b3",
   "metadata": {},
   "outputs": [
    {
     "data": {
      "text/plain": [
       "Index(['dank', 'genre', 'description', 'director', 'actors', 'year',\n",
       "       'runtime (minutes)', 'rating', 'votes', 'revenue (millions)',\n",
       "       'metascore'],\n",
       "      dtype='object')"
      ]
     },
     "execution_count": 35,
     "metadata": {},
     "output_type": "execute_result"
    }
   ],
   "source": [
    "top250.columns"
   ]
  },
  {
   "cell_type": "code",
   "execution_count": 36,
   "id": "ec2fe448",
   "metadata": {},
   "outputs": [
    {
     "name": "stdout",
     "output_type": "stream",
     "text": [
      "dank\n",
      "genre\n",
      "description\n",
      "director\n",
      "actors\n",
      "year\n",
      "runtime (minutes)\n",
      "rating\n",
      "votes\n",
      "revenue (millions)\n",
      "metascore\n"
     ]
    }
   ],
   "source": [
    "for i in top250.columns:\n",
    "    print(i)"
   ]
  },
  {
   "cell_type": "markdown",
   "id": "3336860e",
   "metadata": {},
   "source": [
    "### e. Veri setinin özet istatistiklerini görüntüleme"
   ]
  },
  {
   "cell_type": "code",
   "execution_count": 38,
   "id": "60b9403f",
   "metadata": {},
   "outputs": [
    {
     "data": {
      "text/html": [
       "<div>\n",
       "<style scoped>\n",
       "    .dataframe tbody tr th:only-of-type {\n",
       "        vertical-align: middle;\n",
       "    }\n",
       "\n",
       "    .dataframe tbody tr th {\n",
       "        vertical-align: top;\n",
       "    }\n",
       "\n",
       "    .dataframe thead th {\n",
       "        text-align: right;\n",
       "    }\n",
       "</style>\n",
       "<table border=\"1\" class=\"dataframe\">\n",
       "  <thead>\n",
       "    <tr style=\"text-align: right;\">\n",
       "      <th></th>\n",
       "      <th>count</th>\n",
       "      <th>mean</th>\n",
       "      <th>std</th>\n",
       "      <th>min</th>\n",
       "      <th>25%</th>\n",
       "      <th>50%</th>\n",
       "      <th>75%</th>\n",
       "      <th>max</th>\n",
       "    </tr>\n",
       "  </thead>\n",
       "  <tbody>\n",
       "    <tr>\n",
       "      <th>dank</th>\n",
       "      <td>250.0</td>\n",
       "      <td>390.996000</td>\n",
       "      <td>277.782130</td>\n",
       "      <td>1.00</td>\n",
       "      <td>148.2500</td>\n",
       "      <td>336.00</td>\n",
       "      <td>629.75</td>\n",
       "      <td>992.00</td>\n",
       "    </tr>\n",
       "    <tr>\n",
       "      <th>year</th>\n",
       "      <td>250.0</td>\n",
       "      <td>2011.964000</td>\n",
       "      <td>3.362130</td>\n",
       "      <td>2006.00</td>\n",
       "      <td>2009.0000</td>\n",
       "      <td>2012.50</td>\n",
       "      <td>2015.00</td>\n",
       "      <td>2016.00</td>\n",
       "    </tr>\n",
       "    <tr>\n",
       "      <th>runtime (minutes)</th>\n",
       "      <td>250.0</td>\n",
       "      <td>123.904000</td>\n",
       "      <td>22.185209</td>\n",
       "      <td>66.00</td>\n",
       "      <td>107.0000</td>\n",
       "      <td>121.00</td>\n",
       "      <td>138.00</td>\n",
       "      <td>191.00</td>\n",
       "    </tr>\n",
       "    <tr>\n",
       "      <th>rating</th>\n",
       "      <td>250.0</td>\n",
       "      <td>7.828000</td>\n",
       "      <td>0.309968</td>\n",
       "      <td>7.40</td>\n",
       "      <td>7.6000</td>\n",
       "      <td>7.80</td>\n",
       "      <td>8.00</td>\n",
       "      <td>9.00</td>\n",
       "    </tr>\n",
       "    <tr>\n",
       "      <th>votes</th>\n",
       "      <td>250.0</td>\n",
       "      <td>321032.564000</td>\n",
       "      <td>264559.993943</td>\n",
       "      <td>61.00</td>\n",
       "      <td>120036.5000</td>\n",
       "      <td>288389.00</td>\n",
       "      <td>455535.25</td>\n",
       "      <td>1791916.00</td>\n",
       "    </tr>\n",
       "    <tr>\n",
       "      <th>revenue (millions)</th>\n",
       "      <td>236.0</td>\n",
       "      <td>116.522288</td>\n",
       "      <td>137.234090</td>\n",
       "      <td>0.01</td>\n",
       "      <td>18.1825</td>\n",
       "      <td>64.04</td>\n",
       "      <td>170.04</td>\n",
       "      <td>936.63</td>\n",
       "    </tr>\n",
       "    <tr>\n",
       "      <th>metascore</th>\n",
       "      <td>237.0</td>\n",
       "      <td>74.122363</td>\n",
       "      <td>11.805172</td>\n",
       "      <td>36.00</td>\n",
       "      <td>68.0000</td>\n",
       "      <td>74.00</td>\n",
       "      <td>81.00</td>\n",
       "      <td>100.00</td>\n",
       "    </tr>\n",
       "  </tbody>\n",
       "</table>\n",
       "</div>"
      ],
      "text/plain": [
       "                    count           mean            std      min          25%  \\\n",
       "dank                250.0     390.996000     277.782130     1.00     148.2500   \n",
       "year                250.0    2011.964000       3.362130  2006.00    2009.0000   \n",
       "runtime (minutes)   250.0     123.904000      22.185209    66.00     107.0000   \n",
       "rating              250.0       7.828000       0.309968     7.40       7.6000   \n",
       "votes               250.0  321032.564000  264559.993943    61.00  120036.5000   \n",
       "revenue (millions)  236.0     116.522288     137.234090     0.01      18.1825   \n",
       "metascore           237.0      74.122363      11.805172    36.00      68.0000   \n",
       "\n",
       "                          50%        75%         max  \n",
       "dank                   336.00     629.75      992.00  \n",
       "year                  2012.50    2015.00     2016.00  \n",
       "runtime (minutes)      121.00     138.00      191.00  \n",
       "rating                   7.80       8.00        9.00  \n",
       "votes               288389.00  455535.25  1791916.00  \n",
       "revenue (millions)      64.04     170.04      936.63  \n",
       "metascore               74.00      81.00      100.00  "
      ]
     },
     "execution_count": 38,
     "metadata": {},
     "output_type": "execute_result"
    }
   ],
   "source": [
    "top250.describe().T"
   ]
  },
  {
   "cell_type": "code",
   "execution_count": 39,
   "id": "8d82a567",
   "metadata": {},
   "outputs": [],
   "source": [
    "pd.set_option('display.float_format', '{:.2f}'.format)"
   ]
  },
  {
   "cell_type": "code",
   "execution_count": 40,
   "id": "6fa23b2b",
   "metadata": {},
   "outputs": [
    {
     "data": {
      "text/html": [
       "<div>\n",
       "<style scoped>\n",
       "    .dataframe tbody tr th:only-of-type {\n",
       "        vertical-align: middle;\n",
       "    }\n",
       "\n",
       "    .dataframe tbody tr th {\n",
       "        vertical-align: top;\n",
       "    }\n",
       "\n",
       "    .dataframe thead th {\n",
       "        text-align: right;\n",
       "    }\n",
       "</style>\n",
       "<table border=\"1\" class=\"dataframe\">\n",
       "  <thead>\n",
       "    <tr style=\"text-align: right;\">\n",
       "      <th></th>\n",
       "      <th>count</th>\n",
       "      <th>mean</th>\n",
       "      <th>std</th>\n",
       "      <th>min</th>\n",
       "      <th>25%</th>\n",
       "      <th>50%</th>\n",
       "      <th>75%</th>\n",
       "      <th>max</th>\n",
       "    </tr>\n",
       "  </thead>\n",
       "  <tbody>\n",
       "    <tr>\n",
       "      <th>dank</th>\n",
       "      <td>250.00</td>\n",
       "      <td>391.00</td>\n",
       "      <td>277.78</td>\n",
       "      <td>1.00</td>\n",
       "      <td>148.25</td>\n",
       "      <td>336.00</td>\n",
       "      <td>629.75</td>\n",
       "      <td>992.00</td>\n",
       "    </tr>\n",
       "    <tr>\n",
       "      <th>year</th>\n",
       "      <td>250.00</td>\n",
       "      <td>2011.96</td>\n",
       "      <td>3.36</td>\n",
       "      <td>2006.00</td>\n",
       "      <td>2009.00</td>\n",
       "      <td>2012.50</td>\n",
       "      <td>2015.00</td>\n",
       "      <td>2016.00</td>\n",
       "    </tr>\n",
       "    <tr>\n",
       "      <th>runtime (minutes)</th>\n",
       "      <td>250.00</td>\n",
       "      <td>123.90</td>\n",
       "      <td>22.19</td>\n",
       "      <td>66.00</td>\n",
       "      <td>107.00</td>\n",
       "      <td>121.00</td>\n",
       "      <td>138.00</td>\n",
       "      <td>191.00</td>\n",
       "    </tr>\n",
       "    <tr>\n",
       "      <th>rating</th>\n",
       "      <td>250.00</td>\n",
       "      <td>7.83</td>\n",
       "      <td>0.31</td>\n",
       "      <td>7.40</td>\n",
       "      <td>7.60</td>\n",
       "      <td>7.80</td>\n",
       "      <td>8.00</td>\n",
       "      <td>9.00</td>\n",
       "    </tr>\n",
       "    <tr>\n",
       "      <th>votes</th>\n",
       "      <td>250.00</td>\n",
       "      <td>321032.56</td>\n",
       "      <td>264559.99</td>\n",
       "      <td>61.00</td>\n",
       "      <td>120036.50</td>\n",
       "      <td>288389.00</td>\n",
       "      <td>455535.25</td>\n",
       "      <td>1791916.00</td>\n",
       "    </tr>\n",
       "    <tr>\n",
       "      <th>revenue (millions)</th>\n",
       "      <td>236.00</td>\n",
       "      <td>116.52</td>\n",
       "      <td>137.23</td>\n",
       "      <td>0.01</td>\n",
       "      <td>18.18</td>\n",
       "      <td>64.04</td>\n",
       "      <td>170.04</td>\n",
       "      <td>936.63</td>\n",
       "    </tr>\n",
       "    <tr>\n",
       "      <th>metascore</th>\n",
       "      <td>237.00</td>\n",
       "      <td>74.12</td>\n",
       "      <td>11.81</td>\n",
       "      <td>36.00</td>\n",
       "      <td>68.00</td>\n",
       "      <td>74.00</td>\n",
       "      <td>81.00</td>\n",
       "      <td>100.00</td>\n",
       "    </tr>\n",
       "  </tbody>\n",
       "</table>\n",
       "</div>"
      ],
      "text/plain": [
       "                    count      mean       std     min       25%       50%  \\\n",
       "dank               250.00    391.00    277.78    1.00    148.25    336.00   \n",
       "year               250.00   2011.96      3.36 2006.00   2009.00   2012.50   \n",
       "runtime (minutes)  250.00    123.90     22.19   66.00    107.00    121.00   \n",
       "rating             250.00      7.83      0.31    7.40      7.60      7.80   \n",
       "votes              250.00 321032.56 264559.99   61.00 120036.50 288389.00   \n",
       "revenue (millions) 236.00    116.52    137.23    0.01     18.18     64.04   \n",
       "metascore          237.00     74.12     11.81   36.00     68.00     74.00   \n",
       "\n",
       "                         75%        max  \n",
       "dank                  629.75     992.00  \n",
       "year                 2015.00    2016.00  \n",
       "runtime (minutes)     138.00     191.00  \n",
       "rating                  8.00       9.00  \n",
       "votes              455535.25 1791916.00  \n",
       "revenue (millions)    170.04     936.63  \n",
       "metascore              81.00     100.00  "
      ]
     },
     "execution_count": 40,
     "metadata": {},
     "output_type": "execute_result"
    }
   ],
   "source": [
    "top250.describe().T"
   ]
  },
  {
   "cell_type": "markdown",
   "id": "38b0a770",
   "metadata": {},
   "source": [
    "## 7. Verilerin doğruluğunun ve eksik değerlerinin olup olmadığını kontrol edin.\n",
    "\n",
    "Not: 4.madde ile benzer şelkilde kontrol edebilirsiniz."
   ]
  },
  {
   "cell_type": "code",
   "execution_count": 41,
   "id": "1e6bfeb3",
   "metadata": {},
   "outputs": [
    {
     "data": {
      "text/plain": [
       "dank                   0\n",
       "genre                  0\n",
       "description            0\n",
       "director               0\n",
       "actors                 0\n",
       "year                   0\n",
       "runtime (minutes)      0\n",
       "rating                 0\n",
       "votes                  0\n",
       "revenue (millions)    14\n",
       "metascore             13\n",
       "dtype: int64"
      ]
     },
     "execution_count": 41,
     "metadata": {},
     "output_type": "execute_result"
    }
   ],
   "source": [
    "top250.isnull().sum()"
   ]
  },
  {
   "cell_type": "markdown",
   "id": "30fffe1a",
   "metadata": {},
   "source": [
    "## 8. Verileri görselleştirme:"
   ]
  },
  {
   "cell_type": "markdown",
   "id": "4a3296fd",
   "metadata": {},
   "source": [
    "### a. Matplotlib kütüphanesi kullanarak, yıllara göre filmlerin sayısını gösteren bir çizgi grafik çizin."
   ]
  },
  {
   "cell_type": "markdown",
   "id": "0bf52b72",
   "metadata": {},
   "source": [
    "1. **movies_per_year = top250['year'].value_counts().sort_index()**\n",
    "   - top250['year'].value_counts(): top250 DataFrame’indeki 'year' sütununun her bir benzersiz değerini sayar. Yani her bir yılda kaç film olduğunu hesaplar.\n",
    "   - .sort_index(): Bu sayımları yıl değerlerine göre sıralar.\n",
    "\n",
    "2. **plt.plot(movies_per_year.index, movies_per_year.values, color='blue')**\n",
    "   - plt.plot(): matplotlib.pyplot kütüphanesinin bir fonksiyonudur ve çizgi grafiği çizer.\n",
    "   - movies_per_year.index: Yıl değerlerini x eksenine yerleştirir.\n",
    "   - movies_per_year.values: Her bir yıldaki film sayısını y eksenine yerleştirir.\n",
    "   - color='blue': Çizginin rengini mavi yapar."
   ]
  },
  {
   "cell_type": "code",
   "execution_count": 43,
   "id": "8216b83d",
   "metadata": {},
   "outputs": [
    {
     "data": {
      "text/plain": [
       "year\n",
       "2006    17\n",
       "2007    20\n",
       "2008    14\n",
       "2009    20\n",
       "2010    17\n",
       "2011    19\n",
       "2012    18\n",
       "2013    20\n",
       "2014    29\n",
       "2015    20\n",
       "2016    56\n",
       "Name: count, dtype: int64"
      ]
     },
     "execution_count": 43,
     "metadata": {},
     "output_type": "execute_result"
    }
   ],
   "source": [
    "movies_per_year = top250['year'].value_counts().sort_index()\n",
    "movies_per_year"
   ]
  },
  {
   "cell_type": "code",
   "execution_count": 44,
   "id": "2d5f755f",
   "metadata": {
    "ExecuteTime": {
     "end_time": "2023-09-24T15:09:02.426032Z",
     "start_time": "2023-09-24T15:09:02.064822Z"
    }
   },
   "outputs": [
    {
     "data": {
      "text/plain": [
       "[<matplotlib.lines.Line2D at 0x1a33126a010>]"
      ]
     },
     "execution_count": 44,
     "metadata": {},
     "output_type": "execute_result"
    },
    {
     "data": {
      "image/png": "[encoded data removed]",
      "text/plain": [
       "<Figure size 640x480 with 1 Axes>"
      ]
     },
     "metadata": {},
     "output_type": "display_data"
    }
   ],
   "source": [
    "plt.plot(movies_per_year.index, movies_per_year.values, color='blue')"
   ]
  },
  {
   "cell_type": "code",
   "execution_count": 45,
   "id": "04211ee3",
   "metadata": {},
   "outputs": [
    {
     "data": {
      "text/plain": [
       "Text(0, 0.5, 'Film Sayları')"
      ]
     },
     "execution_count": 45,
     "metadata": {},
     "output_type": "execute_result"
    },
    {
     "data": {
      "image/png": "[encoded data removed]",
      "text/plain": [
       "<Figure size 640x480 with 1 Axes>"
      ]
     },
     "metadata": {},
     "output_type": "display_data"
    }
   ],
   "source": [
    "plt.plot(movies_per_year.index, movies_per_year.values, color='blue')\n",
    "\n",
    "plt.xlabel('Yıllar')\n",
    "plt.ylabel('Film Sayları')"
   ]
  },
  {
   "cell_type": "code",
   "execution_count": 46,
   "id": "163b9a8d",
   "metadata": {},
   "outputs": [
    {
     "data": {
      "text/plain": [
       "Text(0.5, 1.0, 'FİLM')"
      ]
     },
     "execution_count": 46,
     "metadata": {},
     "output_type": "execute_result"
    },
    {
     "data": {
      "image/png": "[encoded data removed]",
      "text/plain": [
       "<Figure size 640x480 with 1 Axes>"
      ]
     },
     "metadata": {},
     "output_type": "display_data"
    }
   ],
   "source": [
    "plt.plot(movies_per_year.index, movies_per_year.values, color='blue')\n",
    "\n",
    "plt.xlabel('Yıllar')\n",
    "plt.ylabel('Film Sayları')\n",
    "\n",
    "plt.title('FİLM')"
   ]
  },
  {
   "cell_type": "code",
   "execution_count": 47,
   "id": "c50b114f",
   "metadata": {},
   "outputs": [
    {
     "data": {
      "image/png": "[encoded data removed]",
      "text/plain": [
       "<Figure size 640x480 with 1 Axes>"
      ]
     },
     "metadata": {},
     "output_type": "display_data"
    }
   ],
   "source": [
    "movies_per_year = top250['year'].value_counts().sort_index()\n",
    "\n",
    "plt.plot(movies_per_year.index, movies_per_year.values, color='red')\n",
    "\n",
    "# Eksen isimlerini ekleme\n",
    "plt.xlabel('Yıllar')\n",
    "plt.ylabel('Film Sayıları')\n",
    "\n",
    "# Başlık ekleme\n",
    "plt.title('Yıllara Göre Filmlerin Sayısı')\n",
    "\n",
    "# Line üzerine sayıları yazma\n",
    "for x, y in zip(movies_per_year.index, movies_per_year.values):\n",
    "    plt.text(x, y + 0.15, str(y), ha='center', va='bottom', fontsize=9)\n",
    "\n",
    "plt.show()"
   ]
  },
  {
   "cell_type": "markdown",
   "id": "cedbea40",
   "metadata": {},
   "source": [
    "### b. Seaborn kütüphanesi kullanarak, en çok film yapılan 10 türü bar grafiğiyle gösterin."
   ]
  },
  {
   "cell_type": "markdown",
   "id": "95b4e760",
   "metadata": {},
   "source": [
    "top250 DataFrame’in 'genre' sütununu kullanarak her bir benzersiz film türünün kaç kere geçtiğini sayıyoruz.\n",
    "\n",
    "1. **top250[\"genre\"].str.split(\",\", expand=True)**\n",
    "   - str.split(\",\", expand=True): Bu metod, her bir satırdaki 'genre' sütununu virgülle ayırır ve ayrı sütunlara böler. expand=True parametresi, ayrılmış değerleri yeni sütunlara yerleştirir.\n",
    "   \n",
    "2. **.stack()**\n",
    "   - Bu metod, çoklu sütunları tek bir sütuna yığar (stack). Yani, her bir film türünü tek bir sütunda sıralar.\n",
    "   \n",
    "3. **.value_counts()**\n",
    "   - Bu metod, stack edilmiş sütundaki her bir benzersiz film türünü sayar.\n",
    "\n",
    "\n",
    "\n",
    "```\n",
    "0    Action,Adventure\n",
    "1    Adventure,Sci-Fi\n",
    "2    Horror,Thriller\n",
    "```\n",
    "\n",
    "Bu kod parçacığı şu çıktıyı verecektir:\n",
    "\n",
    "```\n",
    "Adventure    2\n",
    "Action       1\n",
    "Sci-Fi       1\n",
    "Horror       1\n",
    "Thriller     1\n",
    "```"
   ]
  },
  {
   "cell_type": "code",
   "execution_count": 48,
   "id": "c0e7d9c2",
   "metadata": {
    "ExecuteTime": {
     "end_time": "2023-09-24T15:09:02.444056Z",
     "start_time": "2023-09-24T15:09:02.430033Z"
    }
   },
   "outputs": [
    {
     "data": {
      "text/html": [
       "<div>\n",
       "<style scoped>\n",
       "    .dataframe tbody tr th:only-of-type {\n",
       "        vertical-align: middle;\n",
       "    }\n",
       "\n",
       "    .dataframe tbody tr th {\n",
       "        vertical-align: top;\n",
       "    }\n",
       "\n",
       "    .dataframe thead th {\n",
       "        text-align: right;\n",
       "    }\n",
       "</style>\n",
       "<table border=\"1\" class=\"dataframe\">\n",
       "  <thead>\n",
       "    <tr style=\"text-align: right;\">\n",
       "      <th></th>\n",
       "      <th>0</th>\n",
       "      <th>1</th>\n",
       "      <th>2</th>\n",
       "    </tr>\n",
       "    <tr>\n",
       "      <th>Title</th>\n",
       "      <th></th>\n",
       "      <th></th>\n",
       "      <th></th>\n",
       "    </tr>\n",
       "  </thead>\n",
       "  <tbody>\n",
       "    <tr>\n",
       "      <th>The Dark Knight</th>\n",
       "      <td>Action</td>\n",
       "      <td>Crime</td>\n",
       "      <td>Drama</td>\n",
       "    </tr>\n",
       "    <tr>\n",
       "      <th>Inception</th>\n",
       "      <td>Action</td>\n",
       "      <td>Adventure</td>\n",
       "      <td>Sci-Fi</td>\n",
       "    </tr>\n",
       "    <tr>\n",
       "      <th>Dangal</th>\n",
       "      <td>Action</td>\n",
       "      <td>Biography</td>\n",
       "      <td>Drama</td>\n",
       "    </tr>\n",
       "    <tr>\n",
       "      <th>Kimi no na wa</th>\n",
       "      <td>Animation</td>\n",
       "      <td>Drama</td>\n",
       "      <td>Fantasy</td>\n",
       "    </tr>\n",
       "    <tr>\n",
       "      <th>Interstellar</th>\n",
       "      <td>Adventure</td>\n",
       "      <td>Drama</td>\n",
       "      <td>Sci-Fi</td>\n",
       "    </tr>\n",
       "    <tr>\n",
       "      <th>...</th>\n",
       "      <td>...</td>\n",
       "      <td>...</td>\n",
       "      <td>...</td>\n",
       "    </tr>\n",
       "    <tr>\n",
       "      <th>The Conjuring 2</th>\n",
       "      <td>Horror</td>\n",
       "      <td>Mystery</td>\n",
       "      <td>Thriller</td>\n",
       "    </tr>\n",
       "    <tr>\n",
       "      <th>Mission: Impossible - Rogue Nation</th>\n",
       "      <td>Action</td>\n",
       "      <td>Adventure</td>\n",
       "      <td>Thriller</td>\n",
       "    </tr>\n",
       "    <tr>\n",
       "      <th>Zero Dark Thirty</th>\n",
       "      <td>Drama</td>\n",
       "      <td>History</td>\n",
       "      <td>Thriller</td>\n",
       "    </tr>\n",
       "    <tr>\n",
       "      <th>Crazy, Stupid, Love.</th>\n",
       "      <td>Comedy</td>\n",
       "      <td>Drama</td>\n",
       "      <td>Romance</td>\n",
       "    </tr>\n",
       "    <tr>\n",
       "      <th>Southpaw</th>\n",
       "      <td>Drama</td>\n",
       "      <td>Sport</td>\n",
       "      <td>None</td>\n",
       "    </tr>\n",
       "  </tbody>\n",
       "</table>\n",
       "<p>250 rows × 3 columns</p>\n",
       "</div>"
      ],
      "text/plain": [
       "                                            0          1         2\n",
       "Title                                                             \n",
       "The Dark Knight                        Action      Crime     Drama\n",
       "Inception                              Action  Adventure    Sci-Fi\n",
       "Dangal                                 Action  Biography     Drama\n",
       "Kimi no na wa                       Animation      Drama   Fantasy\n",
       "Interstellar                        Adventure      Drama    Sci-Fi\n",
       "...                                       ...        ...       ...\n",
       "The Conjuring 2                        Horror    Mystery  Thriller\n",
       "Mission: Impossible - Rogue Nation     Action  Adventure  Thriller\n",
       "Zero Dark Thirty                        Drama    History  Thriller\n",
       "Crazy, Stupid, Love.                   Comedy      Drama   Romance\n",
       "Southpaw                                Drama      Sport      None\n",
       "\n",
       "[250 rows x 3 columns]"
      ]
     },
     "execution_count": 48,
     "metadata": {},
     "output_type": "execute_result"
    }
   ],
   "source": [
    "top250[\"genre\"].str.split(\",\", expand=True)\n"
   ]
  },
  {
   "cell_type": "code",
   "execution_count": 49,
   "id": "09ef1aa7",
   "metadata": {
    "ExecuteTime": {
     "end_time": "2023-09-24T15:09:02.465795Z",
     "start_time": "2023-09-24T15:09:02.449057Z"
    },
    "scrolled": false
   },
   "outputs": [
    {
     "data": {
      "text/plain": [
       "Title                  \n",
       "The Dark Knight       0       Action\n",
       "                      1        Crime\n",
       "                      2        Drama\n",
       "Inception             0       Action\n",
       "                      1    Adventure\n",
       "                             ...    \n",
       "Crazy, Stupid, Love.  0       Comedy\n",
       "                      1        Drama\n",
       "                      2      Romance\n",
       "Southpaw              0        Drama\n",
       "                      1        Sport\n",
       "Length: 659, dtype: object"
      ]
     },
     "execution_count": 49,
     "metadata": {},
     "output_type": "execute_result"
    }
   ],
   "source": [
    "top250[\"genre\"].str.split(\",\", expand=True).stack()\n"
   ]
  },
  {
   "cell_type": "code",
   "execution_count": 50,
   "id": "87bbf978",
   "metadata": {},
   "outputs": [
    {
     "data": {
      "text/plain": [
       "Drama        175\n",
       "Adventure     69\n",
       "Action        56\n",
       "Comedy        56\n",
       "Thriller      38\n",
       "Biography     37\n",
       "Crime         32\n",
       "Mystery       32\n",
       "Sci-Fi        28\n",
       "Romance       27\n",
       "Fantasy       26\n",
       "Animation     23\n",
       "History       15\n",
       "Family        13\n",
       "Horror         9\n",
       "Sport          7\n",
       "War            7\n",
       "Music          6\n",
       "Western        2\n",
       "Musical        1\n",
       "Name: count, dtype: int64"
      ]
     },
     "execution_count": 50,
     "metadata": {},
     "output_type": "execute_result"
    }
   ],
   "source": [
    "top250[\"genre\"].str.split(\",\", expand=True).stack().value_counts()"
   ]
  },
  {
   "cell_type": "markdown",
   "id": "07a3a4d2",
   "metadata": {},
   "source": [
    "genre_count değişkenini kullanarak en popüler 10 film türünü bar grafiği şeklinde çiziyoruz. \n",
    "\n",
    "1. **top_genres = genre_count[:10]**\n",
    "   - Bu satır, genre_count değişkeninden ilk 10 elemanı alır (en yüksek sayıya sahip olan 10 tür).\n",
    "\n",
    "2. **sns.set_style(\"whitegrid\")**\n",
    "   - sns (Seaborn kütüphanesi) ile grafik stilini beyaz ızgaralı olarak ayarlar.\n",
    "\n",
    "3. **plt.figure(figsize=(10,6))**\n",
    "   - Grafiğin boyutunu belirler: genişlik 10 birim ve yükseklik 6 birim.\n",
    "\n",
    "4. **ax = sns.barplot(x=top_genres.values, y=top_genres.index, palette=\"Blues_d\")**\n",
    "   - sns.barplot(): Seaborn kütüphanesinin bir fonksiyonudur ve bar grafiği çizer.\n",
    "   - x=top_genres.values: x eksenine film sayısını yerleştirir.\n",
    "   - y=top_genres.index: y eksenine film türlerini yerleştirir.\n",
    "   - palette=\"Blues_d\": Grafiğin renk paletini belirler.\n",
    "\n",
    "5. **ax.set(xlabel='Number of Movies', ylabel='Genres')**\n",
    "   - x ekseninin etiketini 'Number of Movies' olarak, y ekseninin etiketini 'Genres' olarak ayarlar.\n",
    "\n",
    "6. **plt.title(\"Top 10 Movie Genres\")**\n",
    "   - Grafiğin başlığını 'Top 10 Movie Genres' olarak ayarlar.\n",
    "\n",
    "7. **plt.show()**\n",
    "   - Oluşturulan grafiği gösterir."
   ]
  },
  {
   "cell_type": "code",
   "execution_count": null,
   "id": "9cfb065f",
   "metadata": {
    "ExecuteTime": {
     "end_time": "2023-09-24T15:09:03.147386Z",
     "start_time": "2023-09-24T15:09:02.468797Z"
    }
   },
   "outputs": [],
   "source": [
    "# En çok film yapılan ilk 10 türü seç\n",
    "top_genres = genre_count[:10]\n",
    "\n",
    "# Bar grafiği oluştur\n",
    "sns.set_style(\"whitegrid\")\n",
    "plt.figure(figsize=(10,6))\n",
    "ax = sns.barplot(x=top_genres.values, y=top_genres.index, palette=\"Blues_d\")\n",
    "\n",
    "for container in ax.containers:\n",
    "    ax.bar_label(container, fmt='%d', label_type='edge', fontsize=12, color='black', padding=3)\n",
    "    \n",
    "ax.set(xlabel='Number of Movies', ylabel='Genres')\n",
    "plt.title(\"Top 10 Movie Genres\")\n",
    "plt.show()"
   ]
  },
  {
   "cell_type": "code",
   "execution_count": 52,
   "id": "8c1b6265",
   "metadata": {},
   "outputs": [
    {
     "data": {
      "text/plain": [
       "Drama        175\n",
       "Adventure     69\n",
       "Action        56\n",
       "Comedy        56\n",
       "Thriller      38\n",
       "Biography     37\n",
       "Crime         32\n",
       "Mystery       32\n",
       "Sci-Fi        28\n",
       "Romance       27\n",
       "Name: count, dtype: int64"
      ]
     },
     "execution_count": 52,
     "metadata": {},
     "output_type": "execute_result"
    }
   ],
   "source": [
    "top250[\"genre\"].str.split(\",\", expand=True).stack().value_counts()[:10]"
   ]
  },
  {
   "cell_type": "code",
   "execution_count": 54,
   "id": "b7956c1a",
   "metadata": {},
   "outputs": [
    {
     "data": {
      "text/plain": [
       "Drama        175\n",
       "Adventure     69\n",
       "Action        56\n",
       "Comedy        56\n",
       "Thriller      38\n",
       "Biography     37\n",
       "Crime         32\n",
       "Mystery       32\n",
       "Sci-Fi        28\n",
       "Romance       27\n",
       "Name: count, dtype: int64"
      ]
     },
     "execution_count": 54,
     "metadata": {},
     "output_type": "execute_result"
    }
   ],
   "source": [
    "top_genres = top250[\"genre\"].str.split(\",\", expand=True).stack().value_counts()[:10]\n",
    "top_genres"
   ]
  },
  {
   "cell_type": "code",
   "execution_count": null,
   "id": "176a1748",
   "metadata": {},
   "outputs": [],
   "source": []
  },
  {
   "cell_type": "markdown",
   "id": "6521c319",
   "metadata": {},
   "source": [
    "### c. Matplotlib ve Plotly kütüphanesi kullanarak, film türlerine göre filmlerin sayısını gösteren iki ayrı pasta grafik çizin."
   ]
  },
  {
   "cell_type": "markdown",
   "id": "bbd744a6",
   "metadata": {},
   "source": [
    "En çok yapılan 10 film türünü seçip ve bu türlerin sayılarına göre bir pie chart çiziyoruz. \n",
    "\n",
    "**top_genres = top250['genre'].value_counts().head(10)**\n",
    "Bu satır, top250 DataFrame’inin 'genre' sütunundaki türleri sayar (value_counts()) ve en çok yapılan 10 türü seçer (head(10)).\n",
    "\n",
    "**fig = px.pie(values=top_genres.values, names=top_genres.index,\n",
    "             title='En çok yapılan 10 film türüne göre filmlerin sayısı',\n",
    "             labels={'value': 'Sayı', 'names': 'Türler'},\n",
    "             hover_data={'value': top_genres.values, 'names': top_genres.index},\n",
    "             hole=0.5)**\n",
    "\n",
    "- values=top_genres.values: Dilimlerin büyüklüğü için kullanılan değerler.\n",
    "- names=top_genres.index: Dilimlerin etiketleri.\n",
    "- title: Grafik başlığı.\n",
    "- labels: Eksen etiketleri.\n",
    "- hover_data: Fareyle üzerine gelindiğinde gösterilen bilgiler.\n",
    "- hole=0.5: Grafiğin ortasındaki boşluk oranı, 0.5 olduğunda yarı yarıya bir boşluk oluşturur.\n",
    "\n",
    "**fig.update_traces(textposition='inside', textinfo='percent+value', textfont_size=12)**\n",
    "\n",
    "Bu satır, her bir dilimin üzerine yüzde ve sayıyı yazdırır.\n",
    "\n",
    "- textposition='inside': Yazıların dilimlerin içine yazılmasını sağlar.\n",
    "- textinfo='percent+value': Hem yüzdeyi hem de sayıyı gösterir.\n",
    "- textfont_size=12: Yazı büyüklüğünü ayarlar.\n",
    "\n",
    "**fig.update_traces(marker=dict(line=dict(color='white', width=2)))**\n",
    "\n",
    "Bu satır, her bir dilim arasına beyaz renkte kenar çizgileri ekler. width=2 çizgi kalınlığını belirtir.\n",
    "\n",
    "**fig.show()**\n",
    "\n",
    "Bu satır, oluşturulan grafiği gösterir."
   ]
  },
  {
   "cell_type": "code",
   "execution_count": 55,
   "id": "79356584",
   "metadata": {
    "ExecuteTime": {
     "end_time": "2023-09-24T15:09:05.624972Z",
     "start_time": "2023-09-24T15:09:03.151387Z"
    }
   },
   "outputs": [],
   "source": [
    "top_genres = top250['genre'].value_counts().head(10)"
   ]
  },
  {
   "cell_type": "code",
   "execution_count": 58,
   "id": "711eeb81",
   "metadata": {},
   "outputs": [],
   "source": [
    "fig = px.pie(values=top_genres.values, names=top_genres.index, \n",
    "             title='En çok yapılan 10 film türüne göre filmlerin sayısı', \n",
    "             labels={'value': 'Sayı', 'names': 'Türler'}, \n",
    "             hover_data={'value': top_genres.values, 'names': top_genres.index}, hole=0.5)"
   ]
  },
  {
   "cell_type": "code",
   "execution_count": 59,
   "id": "ba051d88",
   "metadata": {},
   "outputs": [
    {
     "data": {
      "application/vnd.plotly.v1+json": {
       "config": {
        "plotlyServerURL": "https://plot.ly"
       },
       "data": [
        {
         "customdata": [
          [
           15,
           "Drama"
          ],
          [
           13,
           "Action,Adventure,Sci-Fi"
          ],
          [
           12,
           "Comedy,Drama"
          ],
          [
           10,
           "Animation,Adventure,Comedy"
          ],
          [
           9,
           "Crime,Drama,Mystery"
          ],
          [
           7,
           "Comedy,Drama,Romance"
          ],
          [
           7,
           "Biography,Drama"
          ],
          [
           7,
           "Drama,Romance"
          ],
          [
           7,
           "Biography,Drama,History"
          ],
          [
           6,
           "Drama,Thriller"
          ]
         ],
         "domain": {
          "x": [
           0,
           1
          ],
          "y": [
           0,
           1
          ]
         },
         "hole": 0.5,
         "hovertemplate": "Türler=%{customdata[1]}<br>value=%{value}<br>Sayı=%{customdata[0]}<extra></extra>",
         "labels": [
          "Drama",
          "Action,Adventure,Sci-Fi",
          "Comedy,Drama",
          "Animation,Adventure,Comedy",
          "Crime,Drama,Mystery",
          "Comedy,Drama,Romance",
          "Biography,Drama",
          "Drama,Romance",
          "Biography,Drama,History",
          "Drama,Thriller"
         ],
         "legendgroup": "",
         "name": "",
         "showlegend": true,
         "type": "pie",
         "values": [
          15,
          13,
          12,
          10,
          9,
          7,
          7,
          7,
          7,
          6
         ]
        }
       ],
       "layout": {
        "legend": {
         "tracegroupgap": 0
        },
        "template": {
         "data": {
          "bar": [
           {
            "error_x": {
             "color": "#2a3f5f"
            },
            "error_y": {
             "color": "#2a3f5f"
            },
            "marker": {
             "line": {
              "color": "#E5ECF6",
              "width": 0.5
             },
             "pattern": {
              "fillmode": "overlay",
              "size": 10,
              "solidity": 0.2
             }
            },
            "type": "bar"
           }
          ],
          "barpolar": [
           {
            "marker": {
             "line": {
              "color": "#E5ECF6",
              "width": 0.5
             },
             "pattern": {
              "fillmode": "overlay",
              "size": 10,
              "solidity": 0.2
             }
            },
            "type": "barpolar"
           }
          ],
          "carpet": [
           {
            "aaxis": {
             "endlinecolor": "#2a3f5f",
             "gridcolor": "white",
             "linecolor": "white",
             "minorgridcolor": "white",
             "startlinecolor": "#2a3f5f"
            },
            "baxis": {
             "endlinecolor": "#2a3f5f",
             "gridcolor": "white",
             "linecolor": "white",
             "minorgridcolor": "white",
             "startlinecolor": "#2a3f5f"
            },
            "type": "carpet"
           }
          ],
          "choropleth": [
           {
            "colorbar": {
             "outlinewidth": 0,
             "ticks": ""
            },
            "type": "choropleth"
           }
          ],
          "contour": [
           {
            "colorbar": {
             "outlinewidth": 0,
             "ticks": ""
            },
            "colorscale": [
             [
              0,
              "#0d0887"
             ],
             [
              0.1111111111111111,
              "#46039f"
             ],
             [
              0.2222222222222222,
              "#7201a8"
             ],
             [
              0.3333333333333333,
              "#9c179e"
             ],
             [
              0.4444444444444444,
              "#bd3786"
             ],
             [
              0.5555555555555556,
              "#d8576b"
             ],
             [
              0.6666666666666666,
              "#ed7953"
             ],
             [
              0.7777777777777778,
              "#fb9f3a"
             ],
             [
              0.8888888888888888,
              "#fdca26"
             ],
             [
              1,
              "#f0f921"
             ]
            ],
            "type": "contour"
           }
          ],
          "contourcarpet": [
           {
            "colorbar": {
             "outlinewidth": 0,
             "ticks": ""
            },
            "type": "contourcarpet"
           }
          ],
          "heatmap": [
           {
            "colorbar": {
             "outlinewidth": 0,
             "ticks": ""
            },
            "colorscale": [
             [
              0,
              "#0d0887"
             ],
             [
              0.1111111111111111,
              "#46039f"
             ],
             [
              0.2222222222222222,
              "#7201a8"
             ],
             [
              0.3333333333333333,
              "#9c179e"
             ],
             [
              0.4444444444444444,
              "#bd3786"
             ],
             [
              0.5555555555555556,
              "#d8576b"
             ],
             [
              0.6666666666666666,
              "#ed7953"
             ],
             [
              0.7777777777777778,
              "#fb9f3a"
             ],
             [
              0.8888888888888888,
              "#fdca26"
             ],
             [
              1,
              "#f0f921"
             ]
            ],
            "type": "heatmap"
           }
          ],
          "heatmapgl": [
           {
            "colorbar": {
             "outlinewidth": 0,
             "ticks": ""
            },
            "colorscale": [
             [
              0,
              "#0d0887"
             ],
             [
              0.1111111111111111,
              "#46039f"
             ],
             [
              0.2222222222222222,
              "#7201a8"
             ],
             [
              0.3333333333333333,
              "#9c179e"
             ],
             [
              0.4444444444444444,
              "#bd3786"
             ],
             [
              0.5555555555555556,
              "#d8576b"
             ],
             [
              0.6666666666666666,
              "#ed7953"
             ],
             [
              0.7777777777777778,
              "#fb9f3a"
             ],
             [
              0.8888888888888888,
              "#fdca26"
             ],
             [
              1,
              "#f0f921"
             ]
            ],
            "type": "heatmapgl"
           }
          ],
          "histogram": [
           {
            "marker": {
             "pattern": {
              "fillmode": "overlay",
              "size": 10,
              "solidity": 0.2
             }
            },
            "type": "histogram"
           }
          ],
          "histogram2d": [
           {
            "colorbar": {
             "outlinewidth": 0,
             "ticks": ""
            },
            "colorscale": [
             [
              0,
              "#0d0887"
             ],
             [
              0.1111111111111111,
              "#46039f"
             ],
             [
              0.2222222222222222,
              "#7201a8"
             ],
             [
              0.3333333333333333,
              "#9c179e"
             ],
             [
              0.4444444444444444,
              "#bd3786"
             ],
             [
              0.5555555555555556,
              "#d8576b"
             ],
             [
              0.6666666666666666,
              "#ed7953"
             ],
             [
              0.7777777777777778,
              "#fb9f3a"
             ],
             [
              0.8888888888888888,
              "#fdca26"
             ],
             [
              1,
              "#f0f921"
             ]
            ],
            "type": "histogram2d"
           }
          ],
          "histogram2dcontour": [
           {
            "colorbar": {
             "outlinewidth": 0,
             "ticks": ""
            },
            "colorscale": [
             [
              0,
              "#0d0887"
             ],
             [
              0.1111111111111111,
              "#46039f"
             ],
             [
              0.2222222222222222,
              "#7201a8"
             ],
             [
              0.3333333333333333,
              "#9c179e"
             ],
             [
              0.4444444444444444,
              "#bd3786"
             ],
             [
              0.5555555555555556,
              "#d8576b"
             ],
             [
              0.6666666666666666,
              "#ed7953"
             ],
             [
              0.7777777777777778,
              "#fb9f3a"
             ],
             [
              0.8888888888888888,
              "#fdca26"
             ],
             [
              1,
              "#f0f921"
             ]
            ],
            "type": "histogram2dcontour"
           }
          ],
          "mesh3d": [
           {
            "colorbar": {
             "outlinewidth": 0,
             "ticks": ""
            },
            "type": "mesh3d"
           }
          ],
          "parcoords": [
           {
            "line": {
             "colorbar": {
              "outlinewidth": 0,
              "ticks": ""
             }
            },
            "type": "parcoords"
           }
          ],
          "pie": [
           {
            "automargin": true,
            "type": "pie"
           }
          ],
          "scatter": [
           {
            "fillpattern": {
             "fillmode": "overlay",
             "size": 10,
             "solidity": 0.2
            },
            "type": "scatter"
           }
          ],
          "scatter3d": [
           {
            "line": {
             "colorbar": {
              "outlinewidth": 0,
              "ticks": ""
             }
            },
            "marker": {
             "colorbar": {
              "outlinewidth": 0,
              "ticks": ""
             }
            },
            "type": "scatter3d"
           }
          ],
          "scattercarpet": [
           {
            "marker": {
             "colorbar": {
              "outlinewidth": 0,
              "ticks": ""
             }
            },
            "type": "scattercarpet"
           }
          ],
          "scattergeo": [
           {
            "marker": {
             "colorbar": {
              "outlinewidth": 0,
              "ticks": ""
             }
            },
            "type": "scattergeo"
           }
          ],
          "scattergl": [
           {
            "marker": {
             "colorbar": {
              "outlinewidth": 0,
              "ticks": ""
             }
            },
            "type": "scattergl"
           }
          ],
          "scattermapbox": [
           {
            "marker": {
             "colorbar": {
              "outlinewidth": 0,
              "ticks": ""
             }
            },
            "type": "scattermapbox"
           }
          ],
          "scatterpolar": [
           {
            "marker": {
             "colorbar": {
              "outlinewidth": 0,
              "ticks": ""
             }
            },
            "type": "scatterpolar"
           }
          ],
          "scatterpolargl": [
           {
            "marker": {
             "colorbar": {
              "outlinewidth": 0,
              "ticks": ""
             }
            },
            "type": "scatterpolargl"
           }
          ],
          "scatterternary": [
           {
            "marker": {
             "colorbar": {
              "outlinewidth": 0,
              "ticks": ""
             }
            },
            "type": "scatterternary"
           }
          ],
          "surface": [
           {
            "colorbar": {
             "outlinewidth": 0,
             "ticks": ""
            },
            "colorscale": [
             [
              0,
              "#0d0887"
             ],
             [
              0.1111111111111111,
              "#46039f"
             ],
             [
              0.2222222222222222,
              "#7201a8"
             ],
             [
              0.3333333333333333,
              "#9c179e"
             ],
             [
              0.4444444444444444,
              "#bd3786"
             ],
             [
              0.5555555555555556,
              "#d8576b"
             ],
             [
              0.6666666666666666,
              "#ed7953"
             ],
             [
              0.7777777777777778,
              "#fb9f3a"
             ],
             [
              0.8888888888888888,
              "#fdca26"
             ],
             [
              1,
              "#f0f921"
             ]
            ],
            "type": "surface"
           }
          ],
          "table": [
           {
            "cells": {
             "fill": {
              "color": "#EBF0F8"
             },
             "line": {
              "color": "white"
             }
            },
            "header": {
             "fill": {
              "color": "#C8D4E3"
             },
             "line": {
              "color": "white"
             }
            },
            "type": "table"
           }
          ]
         },
         "layout": {
          "annotationdefaults": {
           "arrowcolor": "#2a3f5f",
           "arrowhead": 0,
           "arrowwidth": 1
          },
          "autotypenumbers": "strict",
          "coloraxis": {
           "colorbar": {
            "outlinewidth": 0,
            "ticks": ""
           }
          },
          "colorscale": {
           "diverging": [
            [
             0,
             "#8e0152"
            ],
            [
             0.1,
             "#c51b7d"
            ],
            [
             0.2,
             "#de77ae"
            ],
            [
             0.3,
             "#f1b6da"
            ],
            [
             0.4,
             "#fde0ef"
            ],
            [
             0.5,
             "#f7f7f7"
            ],
            [
             0.6,
             "#e6f5d0"
            ],
            [
             0.7,
             "#b8e186"
            ],
            [
             0.8,
             "#7fbc41"
            ],
            [
             0.9,
             "#4d9221"
            ],
            [
             1,
             "#276419"
            ]
           ],
           "sequential": [
            [
             0,
             "#0d0887"
            ],
            [
             0.1111111111111111,
             "#46039f"
            ],
            [
             0.2222222222222222,
             "#7201a8"
            ],
            [
             0.3333333333333333,
             "#9c179e"
            ],
            [
             0.4444444444444444,
             "#bd3786"
            ],
            [
             0.5555555555555556,
             "#d8576b"
            ],
            [
             0.6666666666666666,
             "#ed7953"
            ],
            [
             0.7777777777777778,
             "#fb9f3a"
            ],
            [
             0.8888888888888888,
             "#fdca26"
            ],
            [
             1,
             "#f0f921"
            ]
           ],
           "sequentialminus": [
            [
             0,
             "#0d0887"
            ],
            [
             0.1111111111111111,
             "#46039f"
            ],
            [
             0.2222222222222222,
             "#7201a8"
            ],
            [
             0.3333333333333333,
             "#9c179e"
            ],
            [
             0.4444444444444444,
             "#bd3786"
            ],
            [
             0.5555555555555556,
             "#d8576b"
            ],
            [
             0.6666666666666666,
             "#ed7953"
            ],
            [
             0.7777777777777778,
             "#fb9f3a"
            ],
            [
             0.8888888888888888,
             "#fdca26"
            ],
            [
             1,
             "#f0f921"
            ]
           ]
          },
          "colorway": [
           "#636efa",
           "#EF553B",
           "#00cc96",
           "#ab63fa",
           "#FFA15A",
           "#19d3f3",
           "#FF6692",
           "#B6E880",
           "#FF97FF",
           "#FECB52"
          ],
          "font": {
           "color": "#2a3f5f"
          },
          "geo": {
           "bgcolor": "white",
           "lakecolor": "white",
           "landcolor": "#E5ECF6",
           "showlakes": true,
           "showland": true,
           "subunitcolor": "white"
          },
          "hoverlabel": {
           "align": "left"
          },
          "hovermode": "closest",
          "mapbox": {
           "style": "light"
          },
          "paper_bgcolor": "white",
          "plot_bgcolor": "#E5ECF6",
          "polar": {
           "angularaxis": {
            "gridcolor": "white",
            "linecolor": "white",
            "ticks": ""
           },
           "bgcolor": "#E5ECF6",
           "radialaxis": {
            "gridcolor": "white",
            "linecolor": "white",
            "ticks": ""
           }
          },
          "scene": {
           "xaxis": {
            "backgroundcolor": "#E5ECF6",
            "gridcolor": "white",
            "gridwidth": 2,
            "linecolor": "white",
            "showbackground": true,
            "ticks": "",
            "zerolinecolor": "white"
           },
           "yaxis": {
            "backgroundcolor": "#E5ECF6",
            "gridcolor": "white",
            "gridwidth": 2,
            "linecolor": "white",
            "showbackground": true,
            "ticks": "",
            "zerolinecolor": "white"
           },
           "zaxis": {
            "backgroundcolor": "#E5ECF6",
            "gridcolor": "white",
            "gridwidth": 2,
            "linecolor": "white",
            "showbackground": true,
            "ticks": "",
            "zerolinecolor": "white"
           }
          },
          "shapedefaults": {
           "line": {
            "color": "#2a3f5f"
           }
          },
          "ternary": {
           "aaxis": {
            "gridcolor": "white",
            "linecolor": "white",
            "ticks": ""
           },
           "baxis": {
            "gridcolor": "white",
            "linecolor": "white",
            "ticks": ""
           },
           "bgcolor": "#E5ECF6",
           "caxis": {
            "gridcolor": "white",
            "linecolor": "white",
            "ticks": ""
           }
          },
          "title": {
           "x": 0.05
          },
          "xaxis": {
           "automargin": true,
           "gridcolor": "white",
           "linecolor": "white",
           "ticks": "",
           "title": {
            "standoff": 15
           },
           "zerolinecolor": "white",
           "zerolinewidth": 2
          },
          "yaxis": {
           "automargin": true,
           "gridcolor": "white",
           "linecolor": "white",
           "ticks": "",
           "title": {
            "standoff": 15
           },
           "zerolinecolor": "white",
           "zerolinewidth": 2
          }
         }
        },
        "title": {
         "text": "En çok yapılan 10 film türüne göre filmlerin sayısı"
        }
       }
      },
      "text/html": [
       "<div>                            <div id=\"3d9c6b52-7d67-4aba-b44d-d258978f43b2\" class=\"plotly-graph-div\" style=\"height:525px; width:100%;\"></div>            <script type=\"text/javascript\">                require([\"plotly\"], function(Plotly) {                    window.PLOTLYENV=window.PLOTLYENV || {};                                    if (document.getElementById(\"3d9c6b52-7d67-4aba-b44d-d258978f43b2\")) {                    Plotly.newPlot(                        \"3d9c6b52-7d67-4aba-b44d-d258978f43b2\",                        [{\"customdata\":[[15,\"Drama\"],[13,\"Action,Adventure,Sci-Fi\"],[12,\"Comedy,Drama\"],[10,\"Animation,Adventure,Comedy\"],[9,\"Crime,Drama,Mystery\"],[7,\"Comedy,Drama,Romance\"],[7,\"Biography,Drama\"],[7,\"Drama,Romance\"],[7,\"Biography,Drama,History\"],[6,\"Drama,Thriller\"]],\"domain\":{\"x\":[0.0,1.0],\"y\":[0.0,1.0]},\"hole\":0.5,\"hovertemplate\":\"T\\u00fcrler=%{customdata[1]}\\u003cbr\\u003evalue=%{value}\\u003cbr\\u003eSay\\u0131=%{customdata[0]}\\u003cextra\\u003e\\u003c\\u002fextra\\u003e\",\"labels\":[\"Drama\",\"Action,Adventure,Sci-Fi\",\"Comedy,Drama\",\"Animation,Adventure,Comedy\",\"Crime,Drama,Mystery\",\"Comedy,Drama,Romance\",\"Biography,Drama\",\"Drama,Romance\",\"Biography,Drama,History\",\"Drama,Thriller\"],\"legendgroup\":\"\",\"name\":\"\",\"showlegend\":true,\"values\":[15,13,12,10,9,7,7,7,7,6],\"type\":\"pie\"}],                        {\"template\":{\"data\":{\"histogram2dcontour\":[{\"type\":\"histogram2dcontour\",\"colorbar\":{\"outlinewidth\":0,\"ticks\":\"\"},\"colorscale\":[[0.0,\"#0d0887\"],[0.1111111111111111,\"#46039f\"],[0.2222222222222222,\"#7201a8\"],[0.3333333333333333,\"#9c179e\"],[0.4444444444444444,\"#bd3786\"],[0.5555555555555556,\"#d8576b\"],[0.6666666666666666,\"#ed7953\"],[0.7777777777777778,\"#fb9f3a\"],[0.8888888888888888,\"#fdca26\"],[1.0,\"#f0f921\"]]}],\"choropleth\":[{\"type\":\"choropleth\",\"colorbar\":{\"outlinewidth\":0,\"ticks\":\"\"}}],\"histogram2d\":[{\"type\":\"histogram2d\",\"colorbar\":{\"outlinewidth\":0,\"ticks\":\"\"},\"colorscale\":[[0.0,\"#0d0887\"],[0.1111111111111111,\"#46039f\"],[0.2222222222222222,\"#7201a8\"],[0.3333333333333333,\"#9c179e\"],[0.4444444444444444,\"#bd3786\"],[0.5555555555555556,\"#d8576b\"],[0.6666666666666666,\"#ed7953\"],[0.7777777777777778,\"#fb9f3a\"],[0.8888888888888888,\"#fdca26\"],[1.0,\"#f0f921\"]]}],\"heatmap\":[{\"type\":\"heatmap\",\"colorbar\":{\"outlinewidth\":0,\"ticks\":\"\"},\"colorscale\":[[0.0,\"#0d0887\"],[0.1111111111111111,\"#46039f\"],[0.2222222222222222,\"#7201a8\"],[0.3333333333333333,\"#9c179e\"],[0.4444444444444444,\"#bd3786\"],[0.5555555555555556,\"#d8576b\"],[0.6666666666666666,\"#ed7953\"],[0.7777777777777778,\"#fb9f3a\"],[0.8888888888888888,\"#fdca26\"],[1.0,\"#f0f921\"]]}],\"heatmapgl\":[{\"type\":\"heatmapgl\",\"colorbar\":{\"outlinewidth\":0,\"ticks\":\"\"},\"colorscale\":[[0.0,\"#0d0887\"],[0.1111111111111111,\"#46039f\"],[0.2222222222222222,\"#7201a8\"],[0.3333333333333333,\"#9c179e\"],[0.4444444444444444,\"#bd3786\"],[0.5555555555555556,\"#d8576b\"],[0.6666666666666666,\"#ed7953\"],[0.7777777777777778,\"#fb9f3a\"],[0.8888888888888888,\"#fdca26\"],[1.0,\"#f0f921\"]]}],\"contourcarpet\":[{\"type\":\"contourcarpet\",\"colorbar\":{\"outlinewidth\":0,\"ticks\":\"\"}}],\"contour\":[{\"type\":\"contour\",\"colorbar\":{\"outlinewidth\":0,\"ticks\":\"\"},\"colorscale\":[[0.0,\"#0d0887\"],[0.1111111111111111,\"#46039f\"],[0.2222222222222222,\"#7201a8\"],[0.3333333333333333,\"#9c179e\"],[0.4444444444444444,\"#bd3786\"],[0.5555555555555556,\"#d8576b\"],[0.6666666666666666,\"#ed7953\"],[0.7777777777777778,\"#fb9f3a\"],[0.8888888888888888,\"#fdca26\"],[1.0,\"#f0f921\"]]}],\"surface\":[{\"type\":\"surface\",\"colorbar\":{\"outlinewidth\":0,\"ticks\":\"\"},\"colorscale\":[[0.0,\"#0d0887\"],[0.1111111111111111,\"#46039f\"],[0.2222222222222222,\"#7201a8\"],[0.3333333333333333,\"#9c179e\"],[0.4444444444444444,\"#bd3786\"],[0.5555555555555556,\"#d8576b\"],[0.6666666666666666,\"#ed7953\"],[0.7777777777777778,\"#fb9f3a\"],[0.8888888888888888,\"#fdca26\"],[1.0,\"#f0f921\"]]}],\"mesh3d\":[{\"type\":\"mesh3d\",\"colorbar\":{\"outlinewidth\":0,\"ticks\":\"\"}}],\"scatter\":[{\"fillpattern\":{\"fillmode\":\"overlay\",\"size\":10,\"solidity\":0.2},\"type\":\"scatter\"}],\"parcoords\":[{\"type\":\"parcoords\",\"line\":{\"colorbar\":{\"outlinewidth\":0,\"ticks\":\"\"}}}],\"scatterpolargl\":[{\"type\":\"scatterpolargl\",\"marker\":{\"colorbar\":{\"outlinewidth\":0,\"ticks\":\"\"}}}],\"bar\":[{\"error_x\":{\"color\":\"#2a3f5f\"},\"error_y\":{\"color\":\"#2a3f5f\"},\"marker\":{\"line\":{\"color\":\"#E5ECF6\",\"width\":0.5},\"pattern\":{\"fillmode\":\"overlay\",\"size\":10,\"solidity\":0.2}},\"type\":\"bar\"}],\"scattergeo\":[{\"type\":\"scattergeo\",\"marker\":{\"colorbar\":{\"outlinewidth\":0,\"ticks\":\"\"}}}],\"scatterpolar\":[{\"type\":\"scatterpolar\",\"marker\":{\"colorbar\":{\"outlinewidth\":0,\"ticks\":\"\"}}}],\"histogram\":[{\"marker\":{\"pattern\":{\"fillmode\":\"overlay\",\"size\":10,\"solidity\":0.2}},\"type\":\"histogram\"}],\"scattergl\":[{\"type\":\"scattergl\",\"marker\":{\"colorbar\":{\"outlinewidth\":0,\"ticks\":\"\"}}}],\"scatter3d\":[{\"type\":\"scatter3d\",\"line\":{\"colorbar\":{\"outlinewidth\":0,\"ticks\":\"\"}},\"marker\":{\"colorbar\":{\"outlinewidth\":0,\"ticks\":\"\"}}}],\"scattermapbox\":[{\"type\":\"scattermapbox\",\"marker\":{\"colorbar\":{\"outlinewidth\":0,\"ticks\":\"\"}}}],\"scatterternary\":[{\"type\":\"scatterternary\",\"marker\":{\"colorbar\":{\"outlinewidth\":0,\"ticks\":\"\"}}}],\"scattercarpet\":[{\"type\":\"scattercarpet\",\"marker\":{\"colorbar\":{\"outlinewidth\":0,\"ticks\":\"\"}}}],\"carpet\":[{\"aaxis\":{\"endlinecolor\":\"#2a3f5f\",\"gridcolor\":\"white\",\"linecolor\":\"white\",\"minorgridcolor\":\"white\",\"startlinecolor\":\"#2a3f5f\"},\"baxis\":{\"endlinecolor\":\"#2a3f5f\",\"gridcolor\":\"white\",\"linecolor\":\"white\",\"minorgridcolor\":\"white\",\"startlinecolor\":\"#2a3f5f\"},\"type\":\"carpet\"}],\"table\":[{\"cells\":{\"fill\":{\"color\":\"#EBF0F8\"},\"line\":{\"color\":\"white\"}},\"header\":{\"fill\":{\"color\":\"#C8D4E3\"},\"line\":{\"color\":\"white\"}},\"type\":\"table\"}],\"barpolar\":[{\"marker\":{\"line\":{\"color\":\"#E5ECF6\",\"width\":0.5},\"pattern\":{\"fillmode\":\"overlay\",\"size\":10,\"solidity\":0.2}},\"type\":\"barpolar\"}],\"pie\":[{\"automargin\":true,\"type\":\"pie\"}]},\"layout\":{\"autotypenumbers\":\"strict\",\"colorway\":[\"#636efa\",\"#EF553B\",\"#00cc96\",\"#ab63fa\",\"#FFA15A\",\"#19d3f3\",\"#FF6692\",\"#B6E880\",\"#FF97FF\",\"#FECB52\"],\"font\":{\"color\":\"#2a3f5f\"},\"hovermode\":\"closest\",\"hoverlabel\":{\"align\":\"left\"},\"paper_bgcolor\":\"white\",\"plot_bgcolor\":\"#E5ECF6\",\"polar\":{\"bgcolor\":\"#E5ECF6\",\"angularaxis\":{\"gridcolor\":\"white\",\"linecolor\":\"white\",\"ticks\":\"\"},\"radialaxis\":{\"gridcolor\":\"white\",\"linecolor\":\"white\",\"ticks\":\"\"}},\"ternary\":{\"bgcolor\":\"#E5ECF6\",\"aaxis\":{\"gridcolor\":\"white\",\"linecolor\":\"white\",\"ticks\":\"\"},\"baxis\":{\"gridcolor\":\"white\",\"linecolor\":\"white\",\"ticks\":\"\"},\"caxis\":{\"gridcolor\":\"white\",\"linecolor\":\"white\",\"ticks\":\"\"}},\"coloraxis\":{\"colorbar\":{\"outlinewidth\":0,\"ticks\":\"\"}},\"colorscale\":{\"sequential\":[[0.0,\"#0d0887\"],[0.1111111111111111,\"#46039f\"],[0.2222222222222222,\"#7201a8\"],[0.3333333333333333,\"#9c179e\"],[0.4444444444444444,\"#bd3786\"],[0.5555555555555556,\"#d8576b\"],[0.6666666666666666,\"#ed7953\"],[0.7777777777777778,\"#fb9f3a\"],[0.8888888888888888,\"#fdca26\"],[1.0,\"#f0f921\"]],\"sequentialminus\":[[0.0,\"#0d0887\"],[0.1111111111111111,\"#46039f\"],[0.2222222222222222,\"#7201a8\"],[0.3333333333333333,\"#9c179e\"],[0.4444444444444444,\"#bd3786\"],[0.5555555555555556,\"#d8576b\"],[0.6666666666666666,\"#ed7953\"],[0.7777777777777778,\"#fb9f3a\"],[0.8888888888888888,\"#fdca26\"],[1.0,\"#f0f921\"]],\"diverging\":[[0,\"#8e0152\"],[0.1,\"#c51b7d\"],[0.2,\"#de77ae\"],[0.3,\"#f1b6da\"],[0.4,\"#fde0ef\"],[0.5,\"#f7f7f7\"],[0.6,\"#e6f5d0\"],[0.7,\"#b8e186\"],[0.8,\"#7fbc41\"],[0.9,\"#4d9221\"],[1,\"#276419\"]]},\"xaxis\":{\"gridcolor\":\"white\",\"linecolor\":\"white\",\"ticks\":\"\",\"title\":{\"standoff\":15},\"zerolinecolor\":\"white\",\"automargin\":true,\"zerolinewidth\":2},\"yaxis\":{\"gridcolor\":\"white\",\"linecolor\":\"white\",\"ticks\":\"\",\"title\":{\"standoff\":15},\"zerolinecolor\":\"white\",\"automargin\":true,\"zerolinewidth\":2},\"scene\":{\"xaxis\":{\"backgroundcolor\":\"#E5ECF6\",\"gridcolor\":\"white\",\"linecolor\":\"white\",\"showbackground\":true,\"ticks\":\"\",\"zerolinecolor\":\"white\",\"gridwidth\":2},\"yaxis\":{\"backgroundcolor\":\"#E5ECF6\",\"gridcolor\":\"white\",\"linecolor\":\"white\",\"showbackground\":true,\"ticks\":\"\",\"zerolinecolor\":\"white\",\"gridwidth\":2},\"zaxis\":{\"backgroundcolor\":\"#E5ECF6\",\"gridcolor\":\"white\",\"linecolor\":\"white\",\"showbackground\":true,\"ticks\":\"\",\"zerolinecolor\":\"white\",\"gridwidth\":2}},\"shapedefaults\":{\"line\":{\"color\":\"#2a3f5f\"}},\"annotationdefaults\":{\"arrowcolor\":\"#2a3f5f\",\"arrowhead\":0,\"arrowwidth\":1},\"geo\":{\"bgcolor\":\"white\",\"landcolor\":\"#E5ECF6\",\"subunitcolor\":\"white\",\"showland\":true,\"showlakes\":true,\"lakecolor\":\"white\"},\"title\":{\"x\":0.05},\"mapbox\":{\"style\":\"light\"}}},\"legend\":{\"tracegroupgap\":0},\"title\":{\"text\":\"En \\u00e7ok yap\\u0131lan 10 film t\\u00fcr\\u00fcne g\\u00f6re filmlerin say\\u0131s\\u0131\"}},                        {\"responsive\": true}                    ).then(function(){\n",
       "                            \n",
       "var gd = document.getElementById('3d9c6b52-7d67-4aba-b44d-d258978f43b2');\n",
       "var x = new MutationObserver(function (mutations, observer) {{\n",
       "        var display = window.getComputedStyle(gd).display;\n",
       "        if (!display || display === 'none') {{\n",
       "            console.log([gd, 'removed!']);\n",
       "            Plotly.purge(gd);\n",
       "            observer.disconnect();\n",
       "        }}\n",
       "}});\n",
       "\n",
       "// Listen for the removal of the full notebook cells\n",
       "var notebookContainer = gd.closest('#notebook-container');\n",
       "if (notebookContainer) {{\n",
       "    x.observe(notebookContainer, {childList: true});\n",
       "}}\n",
       "\n",
       "// Listen for the clearing of the current output cell\n",
       "var outputEl = gd.closest('.output');\n",
       "if (outputEl) {{\n",
       "    x.observe(outputEl, {childList: true});\n",
       "}}\n",
       "\n",
       "                        })                };                });            </script>        </div>"
      ]
     },
     "metadata": {},
     "output_type": "display_data"
    }
   ],
   "source": [
    "fig"
   ]
  },
  {
   "cell_type": "code",
   "execution_count": 66,
   "id": "a14a1b19",
   "metadata": {},
   "outputs": [
    {
     "data": {
      "application/vnd.plotly.v1+json": {
       "config": {
        "plotlyServerURL": "https://plot.ly"
       },
       "data": [
        {
         "customdata": [
          [
           15,
           "Drama"
          ],
          [
           13,
           "Action,Adventure,Sci-Fi"
          ],
          [
           12,
           "Comedy,Drama"
          ],
          [
           10,
           "Animation,Adventure,Comedy"
          ],
          [
           9,
           "Crime,Drama,Mystery"
          ],
          [
           7,
           "Comedy,Drama,Romance"
          ],
          [
           7,
           "Biography,Drama"
          ],
          [
           7,
           "Drama,Romance"
          ],
          [
           7,
           "Biography,Drama,History"
          ],
          [
           6,
           "Drama,Thriller"
          ]
         ],
         "domain": {
          "x": [
           0,
           1
          ],
          "y": [
           0,
           1
          ]
         },
         "hole": 0.5,
         "hovertemplate": "Türler=%{customdata[1]}<br>value=%{value}<br>Sayı=%{customdata[0]}<extra></extra>",
         "labels": [
          "Drama",
          "Action,Adventure,Sci-Fi",
          "Comedy,Drama",
          "Animation,Adventure,Comedy",
          "Crime,Drama,Mystery",
          "Comedy,Drama,Romance",
          "Biography,Drama",
          "Drama,Romance",
          "Biography,Drama,History",
          "Drama,Thriller"
         ],
         "legendgroup": "",
         "marker": {
          "line": {
           "color": "white",
           "width": 2
          }
         },
         "name": "",
         "showlegend": true,
         "textfont": {
          "size": 12
         },
         "textinfo": "percent+value",
         "textposition": "inside",
         "type": "pie",
         "values": [
          15,
          13,
          12,
          10,
          9,
          7,
          7,
          7,
          7,
          6
         ]
        }
       ],
       "layout": {
        "legend": {
         "tracegroupgap": 0
        },
        "template": {
         "data": {
          "bar": [
           {
            "error_x": {
             "color": "#2a3f5f"
            },
            "error_y": {
             "color": "#2a3f5f"
            },
            "marker": {
             "line": {
              "color": "#E5ECF6",
              "width": 0.5
             },
             "pattern": {
              "fillmode": "overlay",
              "size": 10,
              "solidity": 0.2
             }
            },
            "type": "bar"
           }
          ],
          "barpolar": [
           {
            "marker": {
             "line": {
              "color": "#E5ECF6",
              "width": 0.5
             },
             "pattern": {
              "fillmode": "overlay",
              "size": 10,
              "solidity": 0.2
             }
            },
            "type": "barpolar"
           }
          ],
          "carpet": [
           {
            "aaxis": {
             "endlinecolor": "#2a3f5f",
             "gridcolor": "white",
             "linecolor": "white",
             "minorgridcolor": "white",
             "startlinecolor": "#2a3f5f"
            },
            "baxis": {
             "endlinecolor": "#2a3f5f",
             "gridcolor": "white",
             "linecolor": "white",
             "minorgridcolor": "white",
             "startlinecolor": "#2a3f5f"
            },
            "type": "carpet"
           }
          ],
          "choropleth": [
           {
            "colorbar": {
             "outlinewidth": 0,
             "ticks": ""
            },
            "type": "choropleth"
           }
          ],
          "contour": [
           {
            "colorbar": {
             "outlinewidth": 0,
             "ticks": ""
            },
            "colorscale": [
             [
              0,
              "#0d0887"
             ],
             [
              0.1111111111111111,
              "#46039f"
             ],
             [
              0.2222222222222222,
              "#7201a8"
             ],
             [
              0.3333333333333333,
              "#9c179e"
             ],
             [
              0.4444444444444444,
              "#bd3786"
             ],
             [
              0.5555555555555556,
              "#d8576b"
             ],
             [
              0.6666666666666666,
              "#ed7953"
             ],
             [
              0.7777777777777778,
              "#fb9f3a"
             ],
             [
              0.8888888888888888,
              "#fdca26"
             ],
             [
              1,
              "#f0f921"
             ]
            ],
            "type": "contour"
           }
          ],
          "contourcarpet": [
           {
            "colorbar": {
             "outlinewidth": 0,
             "ticks": ""
            },
            "type": "contourcarpet"
           }
          ],
          "heatmap": [
           {
            "colorbar": {
             "outlinewidth": 0,
             "ticks": ""
            },
            "colorscale": [
             [
              0,
              "#0d0887"
             ],
             [
              0.1111111111111111,
              "#46039f"
             ],
             [
              0.2222222222222222,
              "#7201a8"
             ],
             [
              0.3333333333333333,
              "#9c179e"
             ],
             [
              0.4444444444444444,
              "#bd3786"
             ],
             [
              0.5555555555555556,
              "#d8576b"
             ],
             [
              0.6666666666666666,
              "#ed7953"
             ],
             [
              0.7777777777777778,
              "#fb9f3a"
             ],
             [
              0.8888888888888888,
              "#fdca26"
             ],
             [
              1,
              "#f0f921"
             ]
            ],
            "type": "heatmap"
           }
          ],
          "heatmapgl": [
           {
            "colorbar": {
             "outlinewidth": 0,
             "ticks": ""
            },
            "colorscale": [
             [
              0,
              "#0d0887"
             ],
             [
              0.1111111111111111,
              "#46039f"
             ],
             [
              0.2222222222222222,
              "#7201a8"
             ],
             [
              0.3333333333333333,
              "#9c179e"
             ],
             [
              0.4444444444444444,
              "#bd3786"
             ],
             [
              0.5555555555555556,
              "#d8576b"
             ],
             [
              0.6666666666666666,
              "#ed7953"
             ],
             [
              0.7777777777777778,
              "#fb9f3a"
             ],
             [
              0.8888888888888888,
              "#fdca26"
             ],
             [
              1,
              "#f0f921"
             ]
            ],
            "type": "heatmapgl"
           }
          ],
          "histogram": [
           {
            "marker": {
             "pattern": {
              "fillmode": "overlay",
              "size": 10,
              "solidity": 0.2
             }
            },
            "type": "histogram"
           }
          ],
          "histogram2d": [
           {
            "colorbar": {
             "outlinewidth": 0,
             "ticks": ""
            },
            "colorscale": [
             [
              0,
              "#0d0887"
             ],
             [
              0.1111111111111111,
              "#46039f"
             ],
             [
              0.2222222222222222,
              "#7201a8"
             ],
             [
              0.3333333333333333,
              "#9c179e"
             ],
             [
              0.4444444444444444,
              "#bd3786"
             ],
             [
              0.5555555555555556,
              "#d8576b"
             ],
             [
              0.6666666666666666,
              "#ed7953"
             ],
             [
              0.7777777777777778,
              "#fb9f3a"
             ],
             [
              0.8888888888888888,
              "#fdca26"
             ],
             [
              1,
              "#f0f921"
             ]
            ],
            "type": "histogram2d"
           }
          ],
          "histogram2dcontour": [
           {
            "colorbar": {
             "outlinewidth": 0,
             "ticks": ""
            },
            "colorscale": [
             [
              0,
              "#0d0887"
             ],
             [
              0.1111111111111111,
              "#46039f"
             ],
             [
              0.2222222222222222,
              "#7201a8"
             ],
             [
              0.3333333333333333,
              "#9c179e"
             ],
             [
              0.4444444444444444,
              "#bd3786"
             ],
             [
              0.5555555555555556,
              "#d8576b"
             ],
             [
              0.6666666666666666,
              "#ed7953"
             ],
             [
              0.7777777777777778,
              "#fb9f3a"
             ],
             [
              0.8888888888888888,
              "#fdca26"
             ],
             [
              1,
              "#f0f921"
             ]
            ],
            "type": "histogram2dcontour"
           }
          ],
          "mesh3d": [
           {
            "colorbar": {
             "outlinewidth": 0,
             "ticks": ""
            },
            "type": "mesh3d"
           }
          ],
          "parcoords": [
           {
            "line": {
             "colorbar": {
              "outlinewidth": 0,
              "ticks": ""
             }
            },
            "type": "parcoords"
           }
          ],
          "pie": [
           {
            "automargin": true,
            "type": "pie"
           }
          ],
          "scatter": [
           {
            "fillpattern": {
             "fillmode": "overlay",
             "size": 10,
             "solidity": 0.2
            },
            "type": "scatter"
           }
          ],
          "scatter3d": [
           {
            "line": {
             "colorbar": {
              "outlinewidth": 0,
              "ticks": ""
             }
            },
            "marker": {
             "colorbar": {
              "outlinewidth": 0,
              "ticks": ""
             }
            },
            "type": "scatter3d"
           }
          ],
          "scattercarpet": [
           {
            "marker": {
             "colorbar": {
              "outlinewidth": 0,
              "ticks": ""
             }
            },
            "type": "scattercarpet"
           }
          ],
          "scattergeo": [
           {
            "marker": {
             "colorbar": {
              "outlinewidth": 0,
              "ticks": ""
             }
            },
            "type": "scattergeo"
           }
          ],
          "scattergl": [
           {
            "marker": {
             "colorbar": {
              "outlinewidth": 0,
              "ticks": ""
             }
            },
            "type": "scattergl"
           }
          ],
          "scattermapbox": [
           {
            "marker": {
             "colorbar": {
              "outlinewidth": 0,
              "ticks": ""
             }
            },
            "type": "scattermapbox"
           }
          ],
          "scatterpolar": [
           {
            "marker": {
             "colorbar": {
              "outlinewidth": 0,
              "ticks": ""
             }
            },
            "type": "scatterpolar"
           }
          ],
          "scatterpolargl": [
           {
            "marker": {
             "colorbar": {
              "outlinewidth": 0,
              "ticks": ""
             }
            },
            "type": "scatterpolargl"
           }
          ],
          "scatterternary": [
           {
            "marker": {
             "colorbar": {
              "outlinewidth": 0,
              "ticks": ""
             }
            },
            "type": "scatterternary"
           }
          ],
          "surface": [
           {
            "colorbar": {
             "outlinewidth": 0,
             "ticks": ""
            },
            "colorscale": [
             [
              0,
              "#0d0887"
             ],
             [
              0.1111111111111111,
              "#46039f"
             ],
             [
              0.2222222222222222,
              "#7201a8"
             ],
             [
              0.3333333333333333,
              "#9c179e"
             ],
             [
              0.4444444444444444,
              "#bd3786"
             ],
             [
              0.5555555555555556,
              "#d8576b"
             ],
             [
              0.6666666666666666,
              "#ed7953"
             ],
             [
              0.7777777777777778,
              "#fb9f3a"
             ],
             [
              0.8888888888888888,
              "#fdca26"
             ],
             [
              1,
              "#f0f921"
             ]
            ],
            "type": "surface"
           }
          ],
          "table": [
           {
            "cells": {
             "fill": {
              "color": "#EBF0F8"
             },
             "line": {
              "color": "white"
             }
            },
            "header": {
             "fill": {
              "color": "#C8D4E3"
             },
             "line": {
              "color": "white"
             }
            },
            "type": "table"
           }
          ]
         },
         "layout": {
          "annotationdefaults": {
           "arrowcolor": "#2a3f5f",
           "arrowhead": 0,
           "arrowwidth": 1
          },
          "autotypenumbers": "strict",
          "coloraxis": {
           "colorbar": {
            "outlinewidth": 0,
            "ticks": ""
           }
          },
          "colorscale": {
           "diverging": [
            [
             0,
             "#8e0152"
            ],
            [
             0.1,
             "#c51b7d"
            ],
            [
             0.2,
             "#de77ae"
            ],
            [
             0.3,
             "#f1b6da"
            ],
            [
             0.4,
             "#fde0ef"
            ],
            [
             0.5,
             "#f7f7f7"
            ],
            [
             0.6,
             "#e6f5d0"
            ],
            [
             0.7,
             "#b8e186"
            ],
            [
             0.8,
             "#7fbc41"
            ],
            [
             0.9,
             "#4d9221"
            ],
            [
             1,
             "#276419"
            ]
           ],
           "sequential": [
            [
             0,
             "#0d0887"
            ],
            [
             0.1111111111111111,
             "#46039f"
            ],
            [
             0.2222222222222222,
             "#7201a8"
            ],
            [
             0.3333333333333333,
             "#9c179e"
            ],
            [
             0.4444444444444444,
             "#bd3786"
            ],
            [
             0.5555555555555556,
             "#d8576b"
            ],
            [
             0.6666666666666666,
             "#ed7953"
            ],
            [
             0.7777777777777778,
             "#fb9f3a"
            ],
            [
             0.8888888888888888,
             "#fdca26"
            ],
            [
             1,
             "#f0f921"
            ]
           ],
           "sequentialminus": [
            [
             0,
             "#0d0887"
            ],
            [
             0.1111111111111111,
             "#46039f"
            ],
            [
             0.2222222222222222,
             "#7201a8"
            ],
            [
             0.3333333333333333,
             "#9c179e"
            ],
            [
             0.4444444444444444,
             "#bd3786"
            ],
            [
             0.5555555555555556,
             "#d8576b"
            ],
            [
             0.6666666666666666,
             "#ed7953"
            ],
            [
             0.7777777777777778,
             "#fb9f3a"
            ],
            [
             0.8888888888888888,
             "#fdca26"
            ],
            [
             1,
             "#f0f921"
            ]
           ]
          },
          "colorway": [
           "#636efa",
           "#EF553B",
           "#00cc96",
           "#ab63fa",
           "#FFA15A",
           "#19d3f3",
           "#FF6692",
           "#B6E880",
           "#FF97FF",
           "#FECB52"
          ],
          "font": {
           "color": "#2a3f5f"
          },
          "geo": {
           "bgcolor": "white",
           "lakecolor": "white",
           "landcolor": "#E5ECF6",
           "showlakes": true,
           "showland": true,
           "subunitcolor": "white"
          },
          "hoverlabel": {
           "align": "left"
          },
          "hovermode": "closest",
          "mapbox": {
           "style": "light"
          },
          "paper_bgcolor": "white",
          "plot_bgcolor": "#E5ECF6",
          "polar": {
           "angularaxis": {
            "gridcolor": "white",
            "linecolor": "white",
            "ticks": ""
           },
           "bgcolor": "#E5ECF6",
           "radialaxis": {
            "gridcolor": "white",
            "linecolor": "white",
            "ticks": ""
           }
          },
          "scene": {
           "xaxis": {
            "backgroundcolor": "#E5ECF6",
            "gridcolor": "white",
            "gridwidth": 2,
            "linecolor": "white",
            "showbackground": true,
            "ticks": "",
            "zerolinecolor": "white"
           },
           "yaxis": {
            "backgroundcolor": "#E5ECF6",
            "gridcolor": "white",
            "gridwidth": 2,
            "linecolor": "white",
            "showbackground": true,
            "ticks": "",
            "zerolinecolor": "white"
           },
           "zaxis": {
            "backgroundcolor": "#E5ECF6",
            "gridcolor": "white",
            "gridwidth": 2,
            "linecolor": "white",
            "showbackground": true,
            "ticks": "",
            "zerolinecolor": "white"
           }
          },
          "shapedefaults": {
           "line": {
            "color": "#2a3f5f"
           }
          },
          "ternary": {
           "aaxis": {
            "gridcolor": "white",
            "linecolor": "white",
            "ticks": ""
           },
           "baxis": {
            "gridcolor": "white",
            "linecolor": "white",
            "ticks": ""
           },
           "bgcolor": "#E5ECF6",
           "caxis": {
            "gridcolor": "white",
            "linecolor": "white",
            "ticks": ""
           }
          },
          "title": {
           "x": 0.05
          },
          "xaxis": {
           "automargin": true,
           "gridcolor": "white",
           "linecolor": "white",
           "ticks": "",
           "title": {
            "standoff": 15
           },
           "zerolinecolor": "white",
           "zerolinewidth": 2
          },
          "yaxis": {
           "automargin": true,
           "gridcolor": "white",
           "linecolor": "white",
           "ticks": "",
           "title": {
            "standoff": 15
           },
           "zerolinecolor": "white",
           "zerolinewidth": 2
          }
         }
        },
        "title": {
         "text": "En çok yapılan 10 film türüne göre filmlerin sayısı"
        }
       }
      },
      "text/html": [
       "<div>                            <div id=\"ccf3e175-a1e4-4a0c-8e3a-17ed47ed6b7c\" class=\"plotly-graph-div\" style=\"height:525px; width:100%;\"></div>            <script type=\"text/javascript\">                require([\"plotly\"], function(Plotly) {                    window.PLOTLYENV=window.PLOTLYENV || {};                                    if (document.getElementById(\"ccf3e175-a1e4-4a0c-8e3a-17ed47ed6b7c\")) {                    Plotly.newPlot(                        \"ccf3e175-a1e4-4a0c-8e3a-17ed47ed6b7c\",                        [{\"customdata\":[[15,\"Drama\"],[13,\"Action,Adventure,Sci-Fi\"],[12,\"Comedy,Drama\"],[10,\"Animation,Adventure,Comedy\"],[9,\"Crime,Drama,Mystery\"],[7,\"Comedy,Drama,Romance\"],[7,\"Biography,Drama\"],[7,\"Drama,Romance\"],[7,\"Biography,Drama,History\"],[6,\"Drama,Thriller\"]],\"domain\":{\"x\":[0.0,1.0],\"y\":[0.0,1.0]},\"hole\":0.5,\"hovertemplate\":\"T\\u00fcrler=%{customdata[1]}\\u003cbr\\u003evalue=%{value}\\u003cbr\\u003eSay\\u0131=%{customdata[0]}\\u003cextra\\u003e\\u003c\\u002fextra\\u003e\",\"labels\":[\"Drama\",\"Action,Adventure,Sci-Fi\",\"Comedy,Drama\",\"Animation,Adventure,Comedy\",\"Crime,Drama,Mystery\",\"Comedy,Drama,Romance\",\"Biography,Drama\",\"Drama,Romance\",\"Biography,Drama,History\",\"Drama,Thriller\"],\"legendgroup\":\"\",\"name\":\"\",\"showlegend\":true,\"values\":[15,13,12,10,9,7,7,7,7,6],\"type\":\"pie\",\"textfont\":{\"size\":12},\"textinfo\":\"percent+value\",\"textposition\":\"inside\",\"marker\":{\"line\":{\"color\":\"white\",\"width\":2}}}],                        {\"template\":{\"data\":{\"histogram2dcontour\":[{\"type\":\"histogram2dcontour\",\"colorbar\":{\"outlinewidth\":0,\"ticks\":\"\"},\"colorscale\":[[0.0,\"#0d0887\"],[0.1111111111111111,\"#46039f\"],[0.2222222222222222,\"#7201a8\"],[0.3333333333333333,\"#9c179e\"],[0.4444444444444444,\"#bd3786\"],[0.5555555555555556,\"#d8576b\"],[0.6666666666666666,\"#ed7953\"],[0.7777777777777778,\"#fb9f3a\"],[0.8888888888888888,\"#fdca26\"],[1.0,\"#f0f921\"]]}],\"choropleth\":[{\"type\":\"choropleth\",\"colorbar\":{\"outlinewidth\":0,\"ticks\":\"\"}}],\"histogram2d\":[{\"type\":\"histogram2d\",\"colorbar\":{\"outlinewidth\":0,\"ticks\":\"\"},\"colorscale\":[[0.0,\"#0d0887\"],[0.1111111111111111,\"#46039f\"],[0.2222222222222222,\"#7201a8\"],[0.3333333333333333,\"#9c179e\"],[0.4444444444444444,\"#bd3786\"],[0.5555555555555556,\"#d8576b\"],[0.6666666666666666,\"#ed7953\"],[0.7777777777777778,\"#fb9f3a\"],[0.8888888888888888,\"#fdca26\"],[1.0,\"#f0f921\"]]}],\"heatmap\":[{\"type\":\"heatmap\",\"colorbar\":{\"outlinewidth\":0,\"ticks\":\"\"},\"colorscale\":[[0.0,\"#0d0887\"],[0.1111111111111111,\"#46039f\"],[0.2222222222222222,\"#7201a8\"],[0.3333333333333333,\"#9c179e\"],[0.4444444444444444,\"#bd3786\"],[0.5555555555555556,\"#d8576b\"],[0.6666666666666666,\"#ed7953\"],[0.7777777777777778,\"#fb9f3a\"],[0.8888888888888888,\"#fdca26\"],[1.0,\"#f0f921\"]]}],\"heatmapgl\":[{\"type\":\"heatmapgl\",\"colorbar\":{\"outlinewidth\":0,\"ticks\":\"\"},\"colorscale\":[[0.0,\"#0d0887\"],[0.1111111111111111,\"#46039f\"],[0.2222222222222222,\"#7201a8\"],[0.3333333333333333,\"#9c179e\"],[0.4444444444444444,\"#bd3786\"],[0.5555555555555556,\"#d8576b\"],[0.6666666666666666,\"#ed7953\"],[0.7777777777777778,\"#fb9f3a\"],[0.8888888888888888,\"#fdca26\"],[1.0,\"#f0f921\"]]}],\"contourcarpet\":[{\"type\":\"contourcarpet\",\"colorbar\":{\"outlinewidth\":0,\"ticks\":\"\"}}],\"contour\":[{\"type\":\"contour\",\"colorbar\":{\"outlinewidth\":0,\"ticks\":\"\"},\"colorscale\":[[0.0,\"#0d0887\"],[0.1111111111111111,\"#46039f\"],[0.2222222222222222,\"#7201a8\"],[0.3333333333333333,\"#9c179e\"],[0.4444444444444444,\"#bd3786\"],[0.5555555555555556,\"#d8576b\"],[0.6666666666666666,\"#ed7953\"],[0.7777777777777778,\"#fb9f3a\"],[0.8888888888888888,\"#fdca26\"],[1.0,\"#f0f921\"]]}],\"surface\":[{\"type\":\"surface\",\"colorbar\":{\"outlinewidth\":0,\"ticks\":\"\"},\"colorscale\":[[0.0,\"#0d0887\"],[0.1111111111111111,\"#46039f\"],[0.2222222222222222,\"#7201a8\"],[0.3333333333333333,\"#9c179e\"],[0.4444444444444444,\"#bd3786\"],[0.5555555555555556,\"#d8576b\"],[0.6666666666666666,\"#ed7953\"],[0.7777777777777778,\"#fb9f3a\"],[0.8888888888888888,\"#fdca26\"],[1.0,\"#f0f921\"]]}],\"mesh3d\":[{\"type\":\"mesh3d\",\"colorbar\":{\"outlinewidth\":0,\"ticks\":\"\"}}],\"scatter\":[{\"fillpattern\":{\"fillmode\":\"overlay\",\"size\":10,\"solidity\":0.2},\"type\":\"scatter\"}],\"parcoords\":[{\"type\":\"parcoords\",\"line\":{\"colorbar\":{\"outlinewidth\":0,\"ticks\":\"\"}}}],\"scatterpolargl\":[{\"type\":\"scatterpolargl\",\"marker\":{\"colorbar\":{\"outlinewidth\":0,\"ticks\":\"\"}}}],\"bar\":[{\"error_x\":{\"color\":\"#2a3f5f\"},\"error_y\":{\"color\":\"#2a3f5f\"},\"marker\":{\"line\":{\"color\":\"#E5ECF6\",\"width\":0.5},\"pattern\":{\"fillmode\":\"overlay\",\"size\":10,\"solidity\":0.2}},\"type\":\"bar\"}],\"scattergeo\":[{\"type\":\"scattergeo\",\"marker\":{\"colorbar\":{\"outlinewidth\":0,\"ticks\":\"\"}}}],\"scatterpolar\":[{\"type\":\"scatterpolar\",\"marker\":{\"colorbar\":{\"outlinewidth\":0,\"ticks\":\"\"}}}],\"histogram\":[{\"marker\":{\"pattern\":{\"fillmode\":\"overlay\",\"size\":10,\"solidity\":0.2}},\"type\":\"histogram\"}],\"scattergl\":[{\"type\":\"scattergl\",\"marker\":{\"colorbar\":{\"outlinewidth\":0,\"ticks\":\"\"}}}],\"scatter3d\":[{\"type\":\"scatter3d\",\"line\":{\"colorbar\":{\"outlinewidth\":0,\"ticks\":\"\"}},\"marker\":{\"colorbar\":{\"outlinewidth\":0,\"ticks\":\"\"}}}],\"scattermapbox\":[{\"type\":\"scattermapbox\",\"marker\":{\"colorbar\":{\"outlinewidth\":0,\"ticks\":\"\"}}}],\"scatterternary\":[{\"type\":\"scatterternary\",\"marker\":{\"colorbar\":{\"outlinewidth\":0,\"ticks\":\"\"}}}],\"scattercarpet\":[{\"type\":\"scattercarpet\",\"marker\":{\"colorbar\":{\"outlinewidth\":0,\"ticks\":\"\"}}}],\"carpet\":[{\"aaxis\":{\"endlinecolor\":\"#2a3f5f\",\"gridcolor\":\"white\",\"linecolor\":\"white\",\"minorgridcolor\":\"white\",\"startlinecolor\":\"#2a3f5f\"},\"baxis\":{\"endlinecolor\":\"#2a3f5f\",\"gridcolor\":\"white\",\"linecolor\":\"white\",\"minorgridcolor\":\"white\",\"startlinecolor\":\"#2a3f5f\"},\"type\":\"carpet\"}],\"table\":[{\"cells\":{\"fill\":{\"color\":\"#EBF0F8\"},\"line\":{\"color\":\"white\"}},\"header\":{\"fill\":{\"color\":\"#C8D4E3\"},\"line\":{\"color\":\"white\"}},\"type\":\"table\"}],\"barpolar\":[{\"marker\":{\"line\":{\"color\":\"#E5ECF6\",\"width\":0.5},\"pattern\":{\"fillmode\":\"overlay\",\"size\":10,\"solidity\":0.2}},\"type\":\"barpolar\"}],\"pie\":[{\"automargin\":true,\"type\":\"pie\"}]},\"layout\":{\"autotypenumbers\":\"strict\",\"colorway\":[\"#636efa\",\"#EF553B\",\"#00cc96\",\"#ab63fa\",\"#FFA15A\",\"#19d3f3\",\"#FF6692\",\"#B6E880\",\"#FF97FF\",\"#FECB52\"],\"font\":{\"color\":\"#2a3f5f\"},\"hovermode\":\"closest\",\"hoverlabel\":{\"align\":\"left\"},\"paper_bgcolor\":\"white\",\"plot_bgcolor\":\"#E5ECF6\",\"polar\":{\"bgcolor\":\"#E5ECF6\",\"angularaxis\":{\"gridcolor\":\"white\",\"linecolor\":\"white\",\"ticks\":\"\"},\"radialaxis\":{\"gridcolor\":\"white\",\"linecolor\":\"white\",\"ticks\":\"\"}},\"ternary\":{\"bgcolor\":\"#E5ECF6\",\"aaxis\":{\"gridcolor\":\"white\",\"linecolor\":\"white\",\"ticks\":\"\"},\"baxis\":{\"gridcolor\":\"white\",\"linecolor\":\"white\",\"ticks\":\"\"},\"caxis\":{\"gridcolor\":\"white\",\"linecolor\":\"white\",\"ticks\":\"\"}},\"coloraxis\":{\"colorbar\":{\"outlinewidth\":0,\"ticks\":\"\"}},\"colorscale\":{\"sequential\":[[0.0,\"#0d0887\"],[0.1111111111111111,\"#46039f\"],[0.2222222222222222,\"#7201a8\"],[0.3333333333333333,\"#9c179e\"],[0.4444444444444444,\"#bd3786\"],[0.5555555555555556,\"#d8576b\"],[0.6666666666666666,\"#ed7953\"],[0.7777777777777778,\"#fb9f3a\"],[0.8888888888888888,\"#fdca26\"],[1.0,\"#f0f921\"]],\"sequentialminus\":[[0.0,\"#0d0887\"],[0.1111111111111111,\"#46039f\"],[0.2222222222222222,\"#7201a8\"],[0.3333333333333333,\"#9c179e\"],[0.4444444444444444,\"#bd3786\"],[0.5555555555555556,\"#d8576b\"],[0.6666666666666666,\"#ed7953\"],[0.7777777777777778,\"#fb9f3a\"],[0.8888888888888888,\"#fdca26\"],[1.0,\"#f0f921\"]],\"diverging\":[[0,\"#8e0152\"],[0.1,\"#c51b7d\"],[0.2,\"#de77ae\"],[0.3,\"#f1b6da\"],[0.4,\"#fde0ef\"],[0.5,\"#f7f7f7\"],[0.6,\"#e6f5d0\"],[0.7,\"#b8e186\"],[0.8,\"#7fbc41\"],[0.9,\"#4d9221\"],[1,\"#276419\"]]},\"xaxis\":{\"gridcolor\":\"white\",\"linecolor\":\"white\",\"ticks\":\"\",\"title\":{\"standoff\":15},\"zerolinecolor\":\"white\",\"automargin\":true,\"zerolinewidth\":2},\"yaxis\":{\"gridcolor\":\"white\",\"linecolor\":\"white\",\"ticks\":\"\",\"title\":{\"standoff\":15},\"zerolinecolor\":\"white\",\"automargin\":true,\"zerolinewidth\":2},\"scene\":{\"xaxis\":{\"backgroundcolor\":\"#E5ECF6\",\"gridcolor\":\"white\",\"linecolor\":\"white\",\"showbackground\":true,\"ticks\":\"\",\"zerolinecolor\":\"white\",\"gridwidth\":2},\"yaxis\":{\"backgroundcolor\":\"#E5ECF6\",\"gridcolor\":\"white\",\"linecolor\":\"white\",\"showbackground\":true,\"ticks\":\"\",\"zerolinecolor\":\"white\",\"gridwidth\":2},\"zaxis\":{\"backgroundcolor\":\"#E5ECF6\",\"gridcolor\":\"white\",\"linecolor\":\"white\",\"showbackground\":true,\"ticks\":\"\",\"zerolinecolor\":\"white\",\"gridwidth\":2}},\"shapedefaults\":{\"line\":{\"color\":\"#2a3f5f\"}},\"annotationdefaults\":{\"arrowcolor\":\"#2a3f5f\",\"arrowhead\":0,\"arrowwidth\":1},\"geo\":{\"bgcolor\":\"white\",\"landcolor\":\"#E5ECF6\",\"subunitcolor\":\"white\",\"showland\":true,\"showlakes\":true,\"lakecolor\":\"white\"},\"title\":{\"x\":0.05},\"mapbox\":{\"style\":\"light\"}}},\"legend\":{\"tracegroupgap\":0},\"title\":{\"text\":\"En \\u00e7ok yap\\u0131lan 10 film t\\u00fcr\\u00fcne g\\u00f6re filmlerin say\\u0131s\\u0131\"}},                        {\"responsive\": true}                    ).then(function(){\n",
       "                            \n",
       "var gd = document.getElementById('ccf3e175-a1e4-4a0c-8e3a-17ed47ed6b7c');\n",
       "var x = new MutationObserver(function (mutations, observer) {{\n",
       "        var display = window.getComputedStyle(gd).display;\n",
       "        if (!display || display === 'none') {{\n",
       "            console.log([gd, 'removed!']);\n",
       "            Plotly.purge(gd);\n",
       "            observer.disconnect();\n",
       "        }}\n",
       "}});\n",
       "\n",
       "// Listen for the removal of the full notebook cells\n",
       "var notebookContainer = gd.closest('#notebook-container');\n",
       "if (notebookContainer) {{\n",
       "    x.observe(notebookContainer, {childList: true});\n",
       "}}\n",
       "\n",
       "// Listen for the clearing of the current output cell\n",
       "var outputEl = gd.closest('.output');\n",
       "if (outputEl) {{\n",
       "    x.observe(outputEl, {childList: true});\n",
       "}}\n",
       "\n",
       "                        })                };                });            </script>        </div>"
      ]
     },
     "metadata": {},
     "output_type": "display_data"
    }
   ],
   "source": [
    "# en çok yapılan 10 türü seç\n",
    "top_genres = top250['genre'].value_counts().head(10)\n",
    "\n",
    "# pie chart oluşturma\n",
    "fig = px.pie(values=top_genres.values, names=top_genres.index,\n",
    "             title='En çok yapılan 10 film türüne göre filmlerin sayısı',\n",
    "             labels={'value': 'Sayı', 'names': 'Türler'},\n",
    "             hover_data={'value': top_genres.values, 'names': top_genres.index},\n",
    "             hole=0.5,\n",
    "                         )\n",
    "\n",
    "# sayıları yazdırma\n",
    "fig.update_traces(textposition='inside', textinfo='percent+value', textfont_size=12)\n",
    "\n",
    "# kenar çizgileri ekleme\n",
    "fig.update_traces(marker=dict(line=dict(color='white', width=2)))\n",
    "\n",
    "fig.show()"
   ]
  },
  {
   "cell_type": "code",
   "execution_count": 72,
   "id": "cc27198a",
   "metadata": {},
   "outputs": [
    {
     "data": {
      "image/png": "[encoded data removed]",
      "text/plain": [
       "<Figure size 1000x1000 with 1 Axes>"
      ]
     },
     "metadata": {},
     "output_type": "display_data"
    }
   ],
   "source": [
    "# en çok yapılan 10 türü seç\n",
    "top_genres = top250['genre'].value_counts().head(10)\n",
    "\n",
    "# pie chart oluşturma\n",
    "fig, ax = plt.subplots(figsize=(10, 10))\n",
    "ax.pie(top_genres.values, labels=top_genres.index, autopct='%1.1f%%', startangle=90,\n",
    "       explode=(0.1, 0.1, 0, 0, 0, 0, 0, 0, 0, 0), shadow = 0.1, textprops={'fontsize': 14})\n",
    "\n",
    "# grafik ayarları\n",
    "ax.set_title('En çok yapılan 10 film türüne göre filmlerin sayısı', fontsize=16, fontweight='bold')\n",
    "ax.axis('equal')\n",
    "\n",
    "plt.show()"
   ]
  },
  {
   "cell_type": "code",
   "execution_count": 70,
   "id": "83e46b1c",
   "metadata": {},
   "outputs": [
    {
     "ename": "NameError",
     "evalue": "name 'sizes' is not defined",
     "output_type": "error",
     "traceback": [
      "\u001b[1;31m---------------------------------------------------------------------------\u001b[0m",
      "\u001b[1;31mNameError\u001b[0m                                 Traceback (most recent call last)",
      "Cell \u001b[1;32mIn[70], line 3\u001b[0m\n\u001b[0;32m      1\u001b[0m colors \u001b[38;5;241m=\u001b[39m [\u001b[38;5;124m'\u001b[39m\u001b[38;5;124m#FF9999\u001b[39m\u001b[38;5;124m'\u001b[39m,\u001b[38;5;124m'\u001b[39m\u001b[38;5;124m#66B3FF\u001b[39m\u001b[38;5;124m'\u001b[39m,\u001b[38;5;124m'\u001b[39m\u001b[38;5;124m#99FF99\u001b[39m\u001b[38;5;124m'\u001b[39m,\u001b[38;5;124m'\u001b[39m\u001b[38;5;124m#FFCC99\u001b[39m\u001b[38;5;124m'\u001b[39m] \n\u001b[0;32m      2\u001b[0m \u001b[38;5;66;03m# Renkler HEX kodlarıyla tanımlanmıştır# Pie chart oluşturma \u001b[39;00m\n\u001b[1;32m----> 3\u001b[0m plt\u001b[38;5;241m.\u001b[39mpie(sizes, labels\u001b[38;5;241m=\u001b[39mlabels, colors\u001b[38;5;241m=\u001b[39mcolors, autopct\u001b[38;5;241m=\u001b[39m\u001b[38;5;124m'\u001b[39m\u001b[38;5;132;01m%1.1f\u001b[39;00m\u001b[38;5;132;01m%%\u001b[39;00m\u001b[38;5;124m'\u001b[39m, startangle\u001b[38;5;241m=\u001b[39m\u001b[38;5;241m140\u001b[39m)\n",
      "\u001b[1;31mNameError\u001b[0m: name 'sizes' is not defined"
     ]
    }
   ],
   "source": [
    "colors = ['#FF9999','#66B3FF','#99FF99','#FFCC99'] \n",
    "# Renkler HEX kodlarıyla tanımlanmıştır# Pie chart oluşturma \n",
    "plt.pie(sizes, labels=labels, colors=colors, autopct='%1.1f%%', startangle=140)\n"
   ]
  },
  {
   "cell_type": "markdown",
   "id": "107cc566",
   "metadata": {},
   "source": [
    "En yaygın 10 film türünü dilim grafik (pie chart) şeklinde çiziyoruz. \n",
    "\n",
    "**top_genres = top250['genre'].value_counts().head(10)**\n",
    "\n",
    "Bu satır, top250 DataFrame’inin 'genre' sütununda bulunan film türlerini sayar ve en yaygın 10 türü alır.\n",
    "\n",
    "**fig, ax = plt.subplots(figsize=(10, 10))\n",
    "ax.pie(top_genres.values, labels=top_genres.index, autopct='%1.1f%%', startangle=90,\n",
    "       explode=(0.1, 0.1, 0, 0, 0, 0, 0, 0, 0, 0), shadow=0.1, textprops={'fontsize': 14})**\n",
    "\n",
    "Bu kısımda, matplotlib kütüphanesini kullanarak bir pie chart oluşturulur.\n",
    "\n",
    "- figsize=(10, 10): Grafiğin boyutunu belirler.\n",
    "- top_genres.values: Dilimlerin büyüklüğü için kullanılan değerler.\n",
    "- labels=top_genres.index: Dilimlerin etiketleri.\n",
    "- autopct='%1.1f%%': Her bir dilimin üzerine yüzde değerini yazdırır.\n",
    "- startangle=90: İlk dilimin başlangıç açısını belirler.\n",
    "- explode=(0.1, 0.1, 0, 0, 0, 0, 0, 0, 0, 0): İlk iki dilimi grafiğin merkezinden biraz dışarı çeker.\n",
    "- shadow=0.1: Dilimlere gölge ekler.\n",
    "- textprops={'fontsize': 14}: Yazı büyüklüğünü ayarlar.\n",
    "\n",
    "**ax.set_title('En çok yapılan 10 film türüne göre filmlerin sayısı', fontsize=16, fontweight='bold')**\n",
    "**ax.axis('equal')**\n",
    "\n",
    "- ax.set_title(): Grafiğin başlığını ve başlık fontunu ayarlar.\n",
    "- ax.axis('equal'): Grafiğin x ve y eksenlerini eşit uzunlukta yapar, böylece dilim grafiği bir daire şeklinde olur.\n",
    "\n",
    "**plt.show()**\n",
    "\n",
    "Bu satır, oluşturulan grafiği gösterir."
   ]
  },
  {
   "cell_type": "code",
   "execution_count": 62,
   "id": "04b37ef8",
   "metadata": {
    "ExecuteTime": {
     "end_time": "2023-09-24T15:09:06.137276Z",
     "start_time": "2023-09-24T15:09:05.627973Z"
    }
   },
   "outputs": [],
   "source": [
    "top_genres = top250['genre'].value_counts().head(10)"
   ]
  },
  {
   "cell_type": "code",
   "execution_count": 64,
   "id": "1047d8a6",
   "metadata": {},
   "outputs": [
    {
     "name": "stderr",
     "output_type": "stream",
     "text": [
      "C:\\Users\\theat\\AppData\\Local\\Temp\\ipykernel_7916\\2064667176.py:7: FutureWarning:\n",
      "\n",
      "\n",
      "\n",
      "Passing `palette` without assigning `hue` is deprecated and will be removed in v0.14.0. Assign the `y` variable to `hue` and set `legend=False` for the same effect.\n",
      "\n",
      "\n"
     ]
    },
    {
     "data": {
      "image/png": "[encoded data removed]",
      "text/plain": [
       "<Figure size 1200x600 with 1 Axes>"
      ]
     },
     "metadata": {},
     "output_type": "display_data"
    }
   ],
   "source": [
    "# En çok film yapılan ilk 10 türü seç\n",
    "top_genres = top250[\"genre\"].str.split(\",\", expand=True).stack().value_counts()[:10]\n",
    "\n",
    "# Bar grafiği oluştur\n",
    "sns.set_style(\"whitegrid\")\n",
    "plt.figure(figsize=(12,6))\n",
    "ax = sns.barplot(x=top_genres.values, y=top_genres.index, palette=\"colorblind\")\n",
    "\n",
    "for container in ax.containers:\n",
    "    ax.bar_label(container, fmt='%d', label_type='edge', fontsize=12, color='red', padding=3)\n",
    "    \n",
    "ax.set(xlabel='Number of Movies', ylabel='Genres')\n",
    "plt.title(\"Top 10 Movie Genres\")\n",
    "plt.show()"
   ]
  },
  {
   "cell_type": "markdown",
   "id": "99fa29fc",
   "metadata": {},
   "source": [
    "## 9. İlişkileri görselleştirme"
   ]
  },
  {
   "cell_type": "markdown",
   "id": "999d70b6",
   "metadata": {},
   "source": [
    "### a. Seaborn kütüphanesi kullanarak, veri setindeki nümerik değişkenlerin korelasyonunu gösteren bir heatmap çizin."
   ]
  },
  {
   "cell_type": "code",
   "execution_count": 74,
   "id": "c17f7be5",
   "metadata": {
    "ExecuteTime": {
     "end_time": "2023-09-24T15:09:06.145071Z",
     "start_time": "2023-09-24T15:09:06.139279Z"
    }
   },
   "outputs": [
    {
     "data": {
      "image/png": "[encoded data removed]",
      "text/plain": [
       "<Figure size 1000x800 with 2 Axes>"
      ]
     },
     "metadata": {},
     "output_type": "display_data"
    }
   ],
   "source": [
    "plt.figure(figsize=(10, 8))\n",
    "# 'revenue_millions' ve 'meta_score' arasındaki korelasyon matrisi\n",
    "numeric_df = df.select_dtypes(exclude=\"object\")\n",
    "# Heatmap görselleştirme\n",
    "sns.heatmap(numeric_df.corr(), annot=True, cmap='coolwarm')\n",
    "plt.title('Revenue and Meta Score Korelasyonu', fontsize=18)\n",
    "plt.show()"
   ]
  },
  {
   "cell_type": "markdown",
   "id": "65e0603f",
   "metadata": {},
   "source": [
    "Korelasyon matrisini hesaplayıp ve bu matrisi bir heatmap (ısı haritası) ile görselleştiriyoruz. \n",
    "\n",
    "**sns.set(font_scale=1.2)\n",
    "plt.figure(figsize=(10, 8))**\n",
    "\n",
    "Bu satırlar, grafikte kullanılacak yazı tipi büyüklüğünü ve grafiğin boyutlarını ayarlar.\n",
    "\n",
    "**corr = movies[['rank', 'year', 'runtime', 'rating', 'votes', 'revenue_millions', 'metascore']].corr()**\n",
    "\n",
    "Bu satır, movies DataFrame’inden seçilen sütunlar arasındaki korelasyon matrisini hesaplar. Korelasyon, iki değişken arasındaki ilişkinin gücünü ve yönünü ölçer. \n",
    "\n",
    "**sns.heatmap(corr, annot=True, cmap='coolwarm')**\n",
    "\n",
    "Bu satır, hesaplanan korelasyon matrisini bir heatmap ile görselleştirir.\n",
    "\n",
    "- annot=True: Her bir hücre üzerine değerini yazdırır.\n",
    "- cmap='coolwarm': Renk paletini belirler.\n",
    "\n",
    "**plt.title('Revenue and Meta Score Korelasyonu', fontsize=18)**\n",
    "**plt.show()**\n",
    "\n",
    "Bu satırlar, grafiğe bir başlık ekler ve grafiği gösterir.\n",
    "\n",
    "Bu kod parçacığı, belirli değişkenler arasındaki ilişkileri anlamak için kullanışlıdır. Örneğin, pozitif bir korelasyon, bir değişkenin değeri artarken diğer değişkenin de değerinin arttığını, negatif bir korelasyon ise bir değişkenin değeri artarken diğer değişkenin değerinin azaldığını gösterir."
   ]
  },
  {
   "cell_type": "code",
   "execution_count": null,
   "id": "82733e76",
   "metadata": {
    "ExecuteTime": {
     "end_time": "2023-09-24T15:09:06.802018Z",
     "start_time": "2023-09-24T15:09:06.149070Z"
    },
    "scrolled": false
   },
   "outputs": [],
   "source": []
  },
  {
   "cell_type": "markdown",
   "id": "5b40f399",
   "metadata": {},
   "source": [
    "### b. Seaborn ile oyunculardan birden fazla filmde rol alan oyuncuların rol aldıkları film sayılarına göre ilk 20 oyucuyu görselleştir.  \n",
    "\n",
    "**Not: Bu soru için kullanılacak data setimiz 936 satırlık data seti olacak.**"
   ]
  },
  {
   "cell_type": "markdown",
   "id": "0858dbb5",
   "metadata": {},
   "source": [
    "**Counter** sınıfı, collections modülünden içe aktarılır. Counter, bir hashable nesnenin kaç kez göründüğünü saymak için kullanılır, yani bir frekans sayacıdır.\n",
    "\n",
    "**actors_counter = Counter():** Burada, actors_counter adında boş bir Counter nesnesi oluşturulur.\n",
    "\n",
    "**for actors in movies['actors']:\n",
    "    actors_list = [actor.strip() for actor in actors.split(',')]\n",
    "    actors_counter.update(actors_list)**\n",
    "\n",
    "Bu döngü, movies DataFrame'inin \"actors\" sütunundaki her bir satıra (film) uygulanır. Her satırdaki oyuncu isimleri virgülle ayrılır, ardından her bir isim şeritlerinden (strip()) temizlenir ve bir liste konur. Daha sonra, actors_counter nesnesi bu liste ile güncellenir, yani her bir oyuncunun görünme sayısı artar.\n",
    "\n",
    "**top_actors = actors_counter.most_common(20)**: most_common metodu, actors_counter içindeki elemanları en yaygın olandan en az yaygın olana doğru sıralar ve ilk 20 tanesini döndürür. top_actors bir liste olur ve her elemanı bir tuple'dır: (oyuncu_adı, film_sayısı)\n",
    "\n",
    "En çok filmde rol alan ilk 20 oyuncuyu ve onların rol aldıkları film sayılarını gösterir."
   ]
  },
  {
   "cell_type": "code",
   "execution_count": null,
   "id": "48d6dd1c",
   "metadata": {
    "ExecuteTime": {
     "end_time": "2023-09-24T15:15:36.098140Z",
     "start_time": "2023-09-24T15:15:36.083551Z"
    }
   },
   "outputs": [],
   "source": []
  },
  {
   "cell_type": "markdown",
   "id": "a29560a0",
   "metadata": {},
   "source": [
    "**sns.set_style('whitegrid')**: Bu satır, grafiğin arka plan stili olarak 'whitegrid' seçer, bu da grafiğin üzerinde beyaz bir ızgara oluşturur.\n",
    "\n",
    "**plt.figure(figsize=(12,10))**: Bu satır, grafiğin boyutunu genişlik 12 ve yükseklik 10 olacak şekilde ayarlar.\n",
    "\n",
    "**ax = sns.barplot(x='Movie Count', y='Actor', data=top_actors_df, palette='RdPu_r'):** Bu satır, Seaborn barplot fonksiyonunu kullanarak bir bar grafiği oluşturur. x='Movie Count' ve y='Actor' ile x ve y eksenlerinde gösterilecek veriler belirlenir. data=top_actors_df parametresi ile grafiğin oluşturulacağı veri çerçevesi belirlenir. palette='RdPu_r' parametresi ile renk paleti seçilir.\n",
    "\n",
    "**for container in ax.containers:**\n",
    "**ax.bar_label(container, fmt='%d', label_type='edge', fontsize=12, color='black', padding=3)**\n",
    "\n",
    "Bu satırlar, her bir bar üzerine değer etiketi ekler. fmt='%d' ile etiket formatı belirlenir, label_type='edge' ile etiketin konumu, fontsize=12 ile font büyüklüğü, color='black' ile yazı rengi ve padding=3 ile etiketin padding'i belirlenir.\n",
    "\n",
    "**sns.despine(left=True)**: Bu satır, grafiğin sol çerçevesini kaldırır.\n",
    "\n",
    "**plt.title('En Çok Filmde Rol Alan 20 Oyuncu', fontsize=16)**\n",
    "**plt.xlabel('Oyuncu', fontsize=14)**\n",
    "**plt.ylabel('Filmlerde Rol Aldığı Sayı', fontsize=14)**\n",
    "\n",
    "Bu satırlar, grafiğin başlığını, x ekseni etiketini ve y ekseni etiketini belirler ve font büyüklüklerini ayarlar.\n",
    "\n",
    "**plt.xticks(fontsize=12, rotation=0)**\n",
    "**plt.yticks(fontsize=12)**\n",
    "\n",
    "Bu satırlar, x ve y eksen etiketlerinin font büyüklüğünü ayarlar. rotation=0 parametresi, x eksen etiketlerinin rotasyonunu ayarlar.\n",
    "\n",
    "**plt.tight_layout()**\n",
    "**plt.show()**\n",
    "\n",
    "Bu satırlar, grafiği gösterir. plt.tight_layout(), grafiğin düzenini optimize eder, böylece her şey daha düzenli görünür.\n",
    "\n",
    "Özetle, bu kod bloğu, belirli bir data frame (top_actors_df) kullanarak oyuncuların rol aldığı film sayısına göre bir bar grafiği oluşturur ve bunu özelleştirilmiş bir şekilde gösterir."
   ]
  },
  {
   "cell_type": "code",
   "execution_count": null,
   "id": "0f7cd3aa",
   "metadata": {
    "ExecuteTime": {
     "end_time": "2023-09-24T15:30:22.664376Z",
     "start_time": "2023-09-24T15:30:21.283772Z"
    }
   },
   "outputs": [],
   "source": []
  },
  {
   "cell_type": "markdown",
   "id": "a34f24a1",
   "metadata": {},
   "source": [
    "### c. Plotly kütüphanesi kullanarak, Popüler 250 Filmin rating puanlarına göre hasılatını buble chart ile gösterin ."
   ]
  },
  {
   "cell_type": "markdown",
   "id": "feda54d6",
   "metadata": {},
   "source": [
    "Her bir aktörün rol aldığı film sayısını hesaplayıp, en çok filme çıkan ilk 20 aktörü seçelim ve bu bilgileri buble chart ile görselleştirelim.\n",
    "\n",
    "1. **Film Sayısını Hesaplama:**\n",
    "   - actor_movies['num_movies'] sütunu, her bir aktörün rol aldığı film sayısını içerir.\n",
    "\n",
    "2. **En Çok Filme Çıkan İlk 20 Aktörü Seçme:**\n",
    "   - top_actors, en çok filme çıkan ilk 20 aktörün bilgilerini içerir.\n",
    "\n",
    "3. **Görselleştirme:**\n",
    "   - Bar grafiği çizilirken x='actor' ve y='num_movies' sütunları kullanılır.\n",
    "   - Grafik boyutu (10,8) olarak ayarlanır ve palette='RdPu_r' renk paleti kullanılır.\n",
    "\n",
    "4. **Grafik Ayarları:**\n",
    "   - Başlık, eksen etiketleri ve yazı boyutları belirlenir.\n",
    "   - plt.xticks ile x eksenindeki yazıların yatay hizalaması ve döndürme açısı ayarlanır.\n",
    "\n",
    "5. **Grafiği Gösterme:**\n",
    "   - Oluşturulan grafik, plt.show() ile gösterilir."
   ]
  },
  {
   "cell_type": "code",
   "execution_count": null,
   "id": "b2dac0d3",
   "metadata": {
    "ExecuteTime": {
     "end_time": "2023-09-24T15:30:22.954302Z",
     "start_time": "2023-09-24T15:30:22.669364Z"
    }
   },
   "outputs": [],
   "source": []
  },
  {
   "cell_type": "markdown",
   "id": "c67cef1b",
   "metadata": {},
   "source": [
    "## 10. Conclusion (Sonuçları sunma)"
   ]
  },
  {
   "cell_type": "code",
   "execution_count": null,
   "id": "086f37c7",
   "metadata": {},
   "outputs": [],
   "source": []
  }
 ],
 "metadata": {
  "hide_input": false,
  "kernelspec": {
   "display_name": "Python 3 (ipykernel)",
   "language": "python",
   "name": "python3"
  },
  "language_info": {
   "codemirror_mode": {
    "name": "ipython",
    "version": 3
   },
   "file_extension": ".py",
   "mimetype": "text/x-python",
   "name": "python",
   "nbconvert_exporter": "python",
   "pygments_lexer": "ipython3",
   "version": "3.11.9"
  },
  "toc": {
   "base_numbering": 1,
   "nav_menu": {},
   "number_sections": true,
   "sideBar": true,
   "skip_h1_title": false,
   "title_cell": "Table of Contents",
   "title_sidebar": "Contents",
   "toc_cell": false,
   "toc_position": {},
   "toc_section_display": true,
   "toc_window_display": true
  }
 },
 "nbformat": 4,
 "nbformat_minor": 5
}
